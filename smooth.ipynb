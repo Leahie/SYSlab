{
 "cells": [
  {
   "cell_type": "code",
   "execution_count": 14,
   "metadata": {},
   "outputs": [],
   "source": [
    "import pandas as pd \n",
    "import matplotlib.pyplot as plt \n",
    "import numpy as np "
   ]
  },
  {
   "cell_type": "code",
   "execution_count": 15,
   "metadata": {},
   "outputs": [],
   "source": [
    "base = \"C:/Users/leahz/OneDrive/Desktop/Quizlet/ATC4/SYSlab\"\n",
    "\n",
    "# with open(f'{base}/data/data_all.pkl', 'rb') as f:\n",
    "#     data =  pickle.load(f)\n",
    "data_premade = pd.read_pickle(f'{base}/data/data_all.pkl') # This is the data after being preprocessed has index not filename\n",
    "data_original = pd.read_pickle(f'G:/My Drive/Sys Lab/modified_data/new/modified_all.pkl') # This is the orginal data, it has the filename\n",
    "data_spirals = pd.read_pickle(f\"{base}/data/data_original_spiral.pkl\")\n",
    "\n",
    "leng = range(len(data_premade))"
   ]
  },
  {
   "cell_type": "markdown",
   "metadata": {},
   "source": [
    "# Experimenting and Precode"
   ]
  },
  {
   "cell_type": "code",
   "execution_count": null,
   "metadata": {},
   "outputs": [
    {
     "data": {
      "text/html": [
       "<div>\n",
       "<style scoped>\n",
       "    .dataframe tbody tr th:only-of-type {\n",
       "        vertical-align: middle;\n",
       "    }\n",
       "\n",
       "    .dataframe tbody tr th {\n",
       "        vertical-align: top;\n",
       "    }\n",
       "\n",
       "    .dataframe thead th {\n",
       "        text-align: right;\n",
       "    }\n",
       "</style>\n",
       "<table border=\"1\" class=\"dataframe\">\n",
       "  <thead>\n",
       "    <tr style=\"text-align: right;\">\n",
       "      <th></th>\n",
       "      <th>X</th>\n",
       "      <th>y</th>\n",
       "      <th>index</th>\n",
       "      <th>target</th>\n",
       "    </tr>\n",
       "  </thead>\n",
       "  <tbody>\n",
       "    <tr>\n",
       "      <th>0</th>\n",
       "      <td>[-2.056546340567396, -2.056546340567396, -1.47...</td>\n",
       "      <td>[-1.3952663046302018, -1.3952663046302018, -1....</td>\n",
       "      <td>70473</td>\n",
       "      <td>[1.4489303763088408, 1.8748890968469032]</td>\n",
       "    </tr>\n",
       "    <tr>\n",
       "      <th>1</th>\n",
       "      <td>[1.66737406371331, 1.66737406371331, 1.6673740...</td>\n",
       "      <td>[-1.9952172111690554, -1.9952172111690554, -1....</td>\n",
       "      <td>74844</td>\n",
       "      <td>[-1.7725966988020012, 2.7933040956366777]</td>\n",
       "    </tr>\n",
       "    <tr>\n",
       "      <th>2</th>\n",
       "      <td>[0.18022639872047436, -0.056913599595946544, -...</td>\n",
       "      <td>[-1.6533837631420183, -1.5283169126774179, -1....</td>\n",
       "      <td>95145</td>\n",
       "      <td>[2.788766380201092, 1.973554900331396]</td>\n",
       "    </tr>\n",
       "    <tr>\n",
       "      <th>3</th>\n",
       "      <td>[-1.8480943565342245, -1.7263490102539736, -1....</td>\n",
       "      <td>[1.803269661665738, 1.3158994828371586, 1.3158...</td>\n",
       "      <td>55640</td>\n",
       "      <td>[1.499902666172703, -2.0956917689628964]</td>\n",
       "    </tr>\n",
       "    <tr>\n",
       "      <th>4</th>\n",
       "      <td>[-2.2259955480133455, -1.8726629213445662, -1....</td>\n",
       "      <td>[1.7763555742918122, 1.680749784502156, 1.4895...</td>\n",
       "      <td>31735</td>\n",
       "      <td>[2.0139959720120904, -2.0478760172944392]</td>\n",
       "    </tr>\n",
       "    <tr>\n",
       "      <th>...</th>\n",
       "      <td>...</td>\n",
       "      <td>...</td>\n",
       "      <td>...</td>\n",
       "      <td>...</td>\n",
       "    </tr>\n",
       "    <tr>\n",
       "      <th>32189</th>\n",
       "      <td>[-1.9470036496822107, -1.9470036496822107, -1....</td>\n",
       "      <td>[-2.201704178130174, -2.201704178130174, -2.20...</td>\n",
       "      <td>139013</td>\n",
       "      <td>[1.7265881421710167, 1.7704425349912787]</td>\n",
       "    </tr>\n",
       "    <tr>\n",
       "      <th>32190</th>\n",
       "      <td>[2.2845990353241943, 2.2845990353241943, 2.284...</td>\n",
       "      <td>[2.1226745220209273, 2.1226745220209273, 2.122...</td>\n",
       "      <td>93198</td>\n",
       "      <td>[-0.8449886842978346, -1.288766674084138]</td>\n",
       "    </tr>\n",
       "    <tr>\n",
       "      <th>32191</th>\n",
       "      <td>[1.6461582494510627, 1.4821982644459757, 1.482...</td>\n",
       "      <td>[-1.5432260242699338, -1.444554283587713, -1.4...</td>\n",
       "      <td>42403</td>\n",
       "      <td>[-1.633041450650661, 1.7129414182433536]</td>\n",
       "    </tr>\n",
       "    <tr>\n",
       "      <th>32192</th>\n",
       "      <td>[-1.9279335090084688, -1.9279335090084688, -1....</td>\n",
       "      <td>[-0.8164965809276795, -0.8164965809276795, -0....</td>\n",
       "      <td>62161</td>\n",
       "      <td>[1.2675363954254597, 1.2247448713916351]</td>\n",
       "    </tr>\n",
       "    <tr>\n",
       "      <th>32193</th>\n",
       "      <td>[2.085647512825636, 1.939798036404263, 1.79394...</td>\n",
       "      <td>[2.936303306891295, 2.936303306891295, 1.63705...</td>\n",
       "      <td>27490</td>\n",
       "      <td>[-1.2688904448659606, 0.33780480521758033]</td>\n",
       "    </tr>\n",
       "  </tbody>\n",
       "</table>\n",
       "<p>160967 rows × 4 columns</p>\n",
       "</div>"
      ],
      "text/plain": [
       "                                                       X  \\\n",
       "0      [-2.056546340567396, -2.056546340567396, -1.47...   \n",
       "1      [1.66737406371331, 1.66737406371331, 1.6673740...   \n",
       "2      [0.18022639872047436, -0.056913599595946544, -...   \n",
       "3      [-1.8480943565342245, -1.7263490102539736, -1....   \n",
       "4      [-2.2259955480133455, -1.8726629213445662, -1....   \n",
       "...                                                  ...   \n",
       "32189  [-1.9470036496822107, -1.9470036496822107, -1....   \n",
       "32190  [2.2845990353241943, 2.2845990353241943, 2.284...   \n",
       "32191  [1.6461582494510627, 1.4821982644459757, 1.482...   \n",
       "32192  [-1.9279335090084688, -1.9279335090084688, -1....   \n",
       "32193  [2.085647512825636, 1.939798036404263, 1.79394...   \n",
       "\n",
       "                                                       y   index  \\\n",
       "0      [-1.3952663046302018, -1.3952663046302018, -1....   70473   \n",
       "1      [-1.9952172111690554, -1.9952172111690554, -1....   74844   \n",
       "2      [-1.6533837631420183, -1.5283169126774179, -1....   95145   \n",
       "3      [1.803269661665738, 1.3158994828371586, 1.3158...   55640   \n",
       "4      [1.7763555742918122, 1.680749784502156, 1.4895...   31735   \n",
       "...                                                  ...     ...   \n",
       "32189  [-2.201704178130174, -2.201704178130174, -2.20...  139013   \n",
       "32190  [2.1226745220209273, 2.1226745220209273, 2.122...   93198   \n",
       "32191  [-1.5432260242699338, -1.444554283587713, -1.4...   42403   \n",
       "32192  [-0.8164965809276795, -0.8164965809276795, -0....   62161   \n",
       "32193  [2.936303306891295, 2.936303306891295, 1.63705...   27490   \n",
       "\n",
       "                                           target  \n",
       "0        [1.4489303763088408, 1.8748890968469032]  \n",
       "1       [-1.7725966988020012, 2.7933040956366777]  \n",
       "2          [2.788766380201092, 1.973554900331396]  \n",
       "3        [1.499902666172703, -2.0956917689628964]  \n",
       "4       [2.0139959720120904, -2.0478760172944392]  \n",
       "...                                           ...  \n",
       "32189    [1.7265881421710167, 1.7704425349912787]  \n",
       "32190   [-0.8449886842978346, -1.288766674084138]  \n",
       "32191    [-1.633041450650661, 1.7129414182433536]  \n",
       "32192    [1.2675363954254597, 1.2247448713916351]  \n",
       "32193  [-1.2688904448659606, 0.33780480521758033]  \n",
       "\n",
       "[160967 rows x 4 columns]"
      ]
     },
     "execution_count": 31,
     "metadata": {},
     "output_type": "execute_result"
    }
   ],
   "source": [
    "data_premade"
   ]
  },
  {
   "cell_type": "code",
   "execution_count": 2,
   "metadata": {},
   "outputs": [],
   "source": [
    "def taylor_smooth(t, f, window_size=5):\n",
    "    smoothed = np.zeros_like(f)\n",
    "    half_window = window_size // 2\n",
    "    \n",
    "    for i in range(len(f)):\n",
    "        start = max(0, i - half_window)\n",
    "        end = min(len(f), i + half_window + 1)\n",
    "        local_t = t[start:end]\n",
    "        local_f = f[start:end]\n",
    "        coeffs = np.polyfit(local_t - t[i], local_f, 1)\n",
    "        smoothed[i] = np.polyval(coeffs, 0)  # Evaluate at t[i]\n",
    "    \n",
    "    return smoothed"
   ]
  },
  {
   "cell_type": "code",
   "execution_count": 3,
   "metadata": {},
   "outputs": [
    {
     "ename": "NameError",
     "evalue": "name 'data_premade' is not defined",
     "output_type": "error",
     "traceback": [
      "\u001b[1;31m---------------------------------------------------------------------------\u001b[0m",
      "\u001b[1;31mNameError\u001b[0m                                 Traceback (most recent call last)",
      "Cell \u001b[1;32mIn[3], line 1\u001b[0m\n\u001b[1;32m----> 1\u001b[0m tempx \u001b[38;5;241m=\u001b[39m \u001b[43mdata_premade\u001b[49m[\u001b[38;5;124m'\u001b[39m\u001b[38;5;124mX\u001b[39m\u001b[38;5;124m'\u001b[39m]\u001b[38;5;241m.\u001b[39miloc[\u001b[38;5;241m10\u001b[39m]\n\u001b[0;32m      2\u001b[0m tempy \u001b[38;5;241m=\u001b[39m data_premade[\u001b[38;5;124m'\u001b[39m\u001b[38;5;124my\u001b[39m\u001b[38;5;124m'\u001b[39m]\u001b[38;5;241m.\u001b[39miloc[\u001b[38;5;241m10\u001b[39m]\n\u001b[0;32m      3\u001b[0m t \u001b[38;5;241m=\u001b[39m np\u001b[38;5;241m.\u001b[39mlinspace(\u001b[38;5;241m0\u001b[39m, \u001b[38;5;28mlen\u001b[39m(tempy)) \n",
      "\u001b[1;31mNameError\u001b[0m: name 'data_premade' is not defined"
     ]
    }
   ],
   "source": [
    "tempx = data_premade['X'].iloc[10]\n",
    "tempy = data_premade['y'].iloc[10]\n",
    "t = np.linspace(0, len(tempy)) \n"
   ]
  },
  {
   "cell_type": "code",
   "execution_count": 4,
   "metadata": {},
   "outputs": [
    {
     "ename": "NameError",
     "evalue": "name 't' is not defined",
     "output_type": "error",
     "traceback": [
      "\u001b[1;31m---------------------------------------------------------------------------\u001b[0m",
      "\u001b[1;31mNameError\u001b[0m                                 Traceback (most recent call last)",
      "Cell \u001b[1;32mIn[4], line 2\u001b[0m\n\u001b[0;32m      1\u001b[0m \u001b[38;5;66;03m# Smooth x and y curves\u001b[39;00m\n\u001b[1;32m----> 2\u001b[0m x_smooth \u001b[38;5;241m=\u001b[39m taylor_smooth(\u001b[43mt\u001b[49m, tempx)\n\u001b[0;32m      3\u001b[0m y_smooth \u001b[38;5;241m=\u001b[39m taylor_smooth(t, tempy)\n\u001b[0;32m      5\u001b[0m \u001b[38;5;66;03m# Plot original and smoothed curves\u001b[39;00m\n",
      "\u001b[1;31mNameError\u001b[0m: name 't' is not defined"
     ]
    }
   ],
   "source": [
    "# Smooth x and y curves\n",
    "x_smooth = taylor_smooth(t, tempx)\n",
    "y_smooth = taylor_smooth(t, tempy)\n",
    "\n",
    "# Plot original and smoothed curves\n",
    "plt.figure(figsize=(10, 5))\n",
    "plt.plot(tempx, tempy, label='Original Data', alpha=0.5)\n",
    "plt.plot(x_smooth, y_smooth, label='Smoothed Curve', linewidth=2)\n",
    "plt.legend()\n",
    "plt.xlabel('x')\n",
    "plt.ylabel('y')\n",
    "plt.title('Curve Smoothing Using Taylor Series')\n",
    "plt.show()"
   ]
  },
  {
   "cell_type": "code",
   "execution_count": 5,
   "metadata": {},
   "outputs": [
    {
     "ename": "NameError",
     "evalue": "name 'tempx' is not defined",
     "output_type": "error",
     "traceback": [
      "\u001b[1;31m---------------------------------------------------------------------------\u001b[0m",
      "\u001b[1;31mNameError\u001b[0m                                 Traceback (most recent call last)",
      "Cell \u001b[1;32mIn[5], line 6\u001b[0m\n\u001b[0;32m      2\u001b[0m \u001b[38;5;28;01mimport\u001b[39;00m\u001b[38;5;250m \u001b[39m\u001b[38;5;21;01mmatplotlib\u001b[39;00m\u001b[38;5;21;01m.\u001b[39;00m\u001b[38;5;21;01mpyplot\u001b[39;00m\u001b[38;5;250m \u001b[39m\u001b[38;5;28;01mas\u001b[39;00m\u001b[38;5;250m \u001b[39m\u001b[38;5;21;01mplt\u001b[39;00m\n\u001b[0;32m      3\u001b[0m \u001b[38;5;28;01mfrom\u001b[39;00m\u001b[38;5;250m \u001b[39m\u001b[38;5;21;01mscipy\u001b[39;00m\u001b[38;5;21;01m.\u001b[39;00m\u001b[38;5;21;01msignal\u001b[39;00m\u001b[38;5;250m \u001b[39m\u001b[38;5;28;01mimport\u001b[39;00m savgol_filter\n\u001b[1;32m----> 6\u001b[0m xhat \u001b[38;5;241m=\u001b[39m savgol_filter(\u001b[43mtempx\u001b[49m, \u001b[38;5;241m49\u001b[39m, \u001b[38;5;241m3\u001b[39m)\n\u001b[0;32m      7\u001b[0m yhat \u001b[38;5;241m=\u001b[39m savgol_filter(tempy, \u001b[38;5;241m49\u001b[39m, \u001b[38;5;241m3\u001b[39m) \n\u001b[0;32m      9\u001b[0m plt\u001b[38;5;241m.\u001b[39mplot(tempx,tempy)\n",
      "\u001b[1;31mNameError\u001b[0m: name 'tempx' is not defined"
     ]
    }
   ],
   "source": [
    "import numpy as np\n",
    "import matplotlib.pyplot as plt\n",
    "from scipy.signal import savgol_filter\n",
    "\n",
    "\n",
    "xhat = savgol_filter(tempx, 49, 3)\n",
    "yhat = savgol_filter(tempy, 49, 3) \n",
    "\n",
    "plt.plot(tempx,tempy)\n",
    "plt.plot(xhat,yhat, color='red')\n",
    "plt.show()\n"
   ]
  },
  {
   "cell_type": "markdown",
   "metadata": {},
   "source": [
    "# ML Approach"
   ]
  },
  {
   "cell_type": "code",
   "execution_count": 16,
   "metadata": {},
   "outputs": [],
   "source": [
    "controls = pd.read_pickle(\"./data/controls.pkl\")\n",
    "data_original = pd.read_pickle(f'G:/My Drive/Sys Lab/modified_data/new/modified_all.pkl') # This is the orginal data, it has the filename\n"
   ]
  },
  {
   "cell_type": "code",
   "execution_count": 17,
   "metadata": {},
   "outputs": [
    {
     "data": {
      "text/html": [
       "<div>\n",
       "<style scoped>\n",
       "    .dataframe tbody tr th:only-of-type {\n",
       "        vertical-align: middle;\n",
       "    }\n",
       "\n",
       "    .dataframe tbody tr th {\n",
       "        vertical-align: top;\n",
       "    }\n",
       "\n",
       "    .dataframe thead th {\n",
       "        text-align: right;\n",
       "    }\n",
       "</style>\n",
       "<table border=\"1\" class=\"dataframe\">\n",
       "  <thead>\n",
       "    <tr style=\"text-align: right;\">\n",
       "      <th></th>\n",
       "      <th>Filename</th>\n",
       "      <th>index</th>\n",
       "      <th>angle</th>\n",
       "      <th>X</th>\n",
       "      <th>y</th>\n",
       "      <th>length</th>\n",
       "    </tr>\n",
       "  </thead>\n",
       "  <tbody>\n",
       "    <tr>\n",
       "      <th>0</th>\n",
       "      <td>./data/hw_dataset/parkinson/P_02100001.txt</td>\n",
       "      <td>51</td>\n",
       "      <td>144</td>\n",
       "      <td>[197.8960113960114, 197.8960113960114, 197.896...</td>\n",
       "      <td>[207.0, 207.0, 207.0, 208.0, 208.0, 208.0, 209...</td>\n",
       "      <td>50</td>\n",
       "    </tr>\n",
       "    <tr>\n",
       "      <th>1</th>\n",
       "      <td>./data/hw_dataset/parkinson/P_02100001.txt</td>\n",
       "      <td>52</td>\n",
       "      <td>21</td>\n",
       "      <td>[197.8960113960114, 197.8960113960114, 197.896...</td>\n",
       "      <td>[207.0, 207.0, 208.0, 208.0, 208.0, 209.0, 209...</td>\n",
       "      <td>50</td>\n",
       "    </tr>\n",
       "    <tr>\n",
       "      <th>2</th>\n",
       "      <td>./data/hw_dataset/parkinson/P_02100001.txt</td>\n",
       "      <td>53</td>\n",
       "      <td>117</td>\n",
       "      <td>[197.8960113960114, 197.8960113960114, 197.896...</td>\n",
       "      <td>[207.0, 208.0, 208.0, 208.0, 209.0, 209.0, 209...</td>\n",
       "      <td>50</td>\n",
       "    </tr>\n",
       "    <tr>\n",
       "      <th>3</th>\n",
       "      <td>./data/hw_dataset/parkinson/P_02100001.txt</td>\n",
       "      <td>54</td>\n",
       "      <td>282</td>\n",
       "      <td>[197.8960113960114, 197.8960113960114, 197.896...</td>\n",
       "      <td>[208.0, 208.0, 208.0, 209.0, 209.0, 209.0, 209...</td>\n",
       "      <td>50</td>\n",
       "    </tr>\n",
       "    <tr>\n",
       "      <th>4</th>\n",
       "      <td>./data/hw_dataset/parkinson/P_02100001.txt</td>\n",
       "      <td>55</td>\n",
       "      <td>142</td>\n",
       "      <td>[197.8960113960114, 197.8960113960114, 197.896...</td>\n",
       "      <td>[208.0, 208.0, 209.0, 209.0, 209.0, 209.0, 210...</td>\n",
       "      <td>50</td>\n",
       "    </tr>\n",
       "    <tr>\n",
       "      <th>...</th>\n",
       "      <td>...</td>\n",
       "      <td>...</td>\n",
       "      <td>...</td>\n",
       "      <td>...</td>\n",
       "      <td>...</td>\n",
       "      <td>...</td>\n",
       "    </tr>\n",
       "    <tr>\n",
       "      <th>162362</th>\n",
       "      <td>./data/new_dataset/parkinson/H_p000-0043.txt</td>\n",
       "      <td>1755</td>\n",
       "      <td>19</td>\n",
       "      <td>[395.7121409921671, 395.7121409921671, 396.676...</td>\n",
       "      <td>[215.0, 208.0, 202.0, 197.0, 193.0, 190.0, 188...</td>\n",
       "      <td>50</td>\n",
       "    </tr>\n",
       "    <tr>\n",
       "      <th>162363</th>\n",
       "      <td>./data/new_dataset/parkinson/H_p000-0043.txt</td>\n",
       "      <td>1756</td>\n",
       "      <td>35</td>\n",
       "      <td>[395.7121409921671, 396.6762402088773, 396.676...</td>\n",
       "      <td>[208.0, 202.0, 197.0, 193.0, 190.0, 188.0, 186...</td>\n",
       "      <td>50</td>\n",
       "    </tr>\n",
       "    <tr>\n",
       "      <th>162364</th>\n",
       "      <td>./data/new_dataset/parkinson/H_p000-0043.txt</td>\n",
       "      <td>1757</td>\n",
       "      <td>199</td>\n",
       "      <td>[396.6762402088773, 396.6762402088773, 397.640...</td>\n",
       "      <td>[202.0, 197.0, 193.0, 190.0, 188.0, 186.0, 186...</td>\n",
       "      <td>50</td>\n",
       "    </tr>\n",
       "    <tr>\n",
       "      <th>162365</th>\n",
       "      <td>./data/new_dataset/parkinson/H_p000-0043.txt</td>\n",
       "      <td>1758</td>\n",
       "      <td>306</td>\n",
       "      <td>[396.6762402088773, 397.64033942558746, 398.60...</td>\n",
       "      <td>[197.0, 193.0, 190.0, 188.0, 186.0, 186.0, 186...</td>\n",
       "      <td>50</td>\n",
       "    </tr>\n",
       "    <tr>\n",
       "      <th>162366</th>\n",
       "      <td>./data/new_dataset/parkinson/H_p000-0043.txt</td>\n",
       "      <td>1759</td>\n",
       "      <td>229</td>\n",
       "      <td>[397.64033942558746, 398.6044386422977, 398.60...</td>\n",
       "      <td>[193.0, 190.0, 188.0, 186.0, 186.0, 186.0, 187...</td>\n",
       "      <td>50</td>\n",
       "    </tr>\n",
       "  </tbody>\n",
       "</table>\n",
       "<p>162367 rows × 6 columns</p>\n",
       "</div>"
      ],
      "text/plain": [
       "                                            Filename  index  angle  \\\n",
       "0         ./data/hw_dataset/parkinson/P_02100001.txt     51    144   \n",
       "1         ./data/hw_dataset/parkinson/P_02100001.txt     52     21   \n",
       "2         ./data/hw_dataset/parkinson/P_02100001.txt     53    117   \n",
       "3         ./data/hw_dataset/parkinson/P_02100001.txt     54    282   \n",
       "4         ./data/hw_dataset/parkinson/P_02100001.txt     55    142   \n",
       "...                                              ...    ...    ...   \n",
       "162362  ./data/new_dataset/parkinson/H_p000-0043.txt   1755     19   \n",
       "162363  ./data/new_dataset/parkinson/H_p000-0043.txt   1756     35   \n",
       "162364  ./data/new_dataset/parkinson/H_p000-0043.txt   1757    199   \n",
       "162365  ./data/new_dataset/parkinson/H_p000-0043.txt   1758    306   \n",
       "162366  ./data/new_dataset/parkinson/H_p000-0043.txt   1759    229   \n",
       "\n",
       "                                                        X  \\\n",
       "0       [197.8960113960114, 197.8960113960114, 197.896...   \n",
       "1       [197.8960113960114, 197.8960113960114, 197.896...   \n",
       "2       [197.8960113960114, 197.8960113960114, 197.896...   \n",
       "3       [197.8960113960114, 197.8960113960114, 197.896...   \n",
       "4       [197.8960113960114, 197.8960113960114, 197.896...   \n",
       "...                                                   ...   \n",
       "162362  [395.7121409921671, 395.7121409921671, 396.676...   \n",
       "162363  [395.7121409921671, 396.6762402088773, 396.676...   \n",
       "162364  [396.6762402088773, 396.6762402088773, 397.640...   \n",
       "162365  [396.6762402088773, 397.64033942558746, 398.60...   \n",
       "162366  [397.64033942558746, 398.6044386422977, 398.60...   \n",
       "\n",
       "                                                        y  length  \n",
       "0       [207.0, 207.0, 207.0, 208.0, 208.0, 208.0, 209...      50  \n",
       "1       [207.0, 207.0, 208.0, 208.0, 208.0, 209.0, 209...      50  \n",
       "2       [207.0, 208.0, 208.0, 208.0, 209.0, 209.0, 209...      50  \n",
       "3       [208.0, 208.0, 208.0, 209.0, 209.0, 209.0, 209...      50  \n",
       "4       [208.0, 208.0, 209.0, 209.0, 209.0, 209.0, 210...      50  \n",
       "...                                                   ...     ...  \n",
       "162362  [215.0, 208.0, 202.0, 197.0, 193.0, 190.0, 188...      50  \n",
       "162363  [208.0, 202.0, 197.0, 193.0, 190.0, 188.0, 186...      50  \n",
       "162364  [202.0, 197.0, 193.0, 190.0, 188.0, 186.0, 186...      50  \n",
       "162365  [197.0, 193.0, 190.0, 188.0, 186.0, 186.0, 186...      50  \n",
       "162366  [193.0, 190.0, 188.0, 186.0, 186.0, 186.0, 187...      50  \n",
       "\n",
       "[162367 rows x 6 columns]"
      ]
     },
     "execution_count": 17,
     "metadata": {},
     "output_type": "execute_result"
    }
   ],
   "source": [
    "data_original"
   ]
  },
  {
   "cell_type": "code",
   "execution_count": 18,
   "metadata": {},
   "outputs": [
    {
     "data": {
      "text/plain": [
       "[<matplotlib.lines.Line2D at 0x20af70429f0>]"
      ]
     },
     "execution_count": 18,
     "metadata": {},
     "output_type": "execute_result"
    },
    {
     "data": {
      "image/png": "[encoded data removed]",
      "text/plain": [
       "<Figure size 640x480 with 1 Axes>"
      ]
     },
     "metadata": {},
     "output_type": "display_data"
    }
   ],
   "source": [
    "r = data_premade.iloc[0]\n",
    "r2 = data_original.iloc[r['index']]\n",
    "plt.plot(r[\"X\"], r[\"y\"])"
   ]
  },
  {
   "cell_type": "code",
   "execution_count": 19,
   "metadata": {},
   "outputs": [
    {
     "data": {
      "text/plain": [
       "[<matplotlib.lines.Line2D at 0x20a85446cf0>]"
      ]
     },
     "execution_count": 19,
     "metadata": {},
     "output_type": "execute_result"
    },
    {
     "data": {
      "image/png": "[encoded data removed]",
      "text/plain": [
       "<Figure size 640x480 with 1 Axes>"
      ]
     },
     "metadata": {},
     "output_type": "display_data"
    }
   ],
   "source": [
    "plt.plot(r2[\"X\"], r2[\"y\"])"
   ]
  },
  {
   "cell_type": "code",
   "execution_count": 20,
   "metadata": {},
   "outputs": [
    {
     "data": {
      "text/html": [
       "<div>\n",
       "<style scoped>\n",
       "    .dataframe tbody tr th:only-of-type {\n",
       "        vertical-align: middle;\n",
       "    }\n",
       "\n",
       "    .dataframe tbody tr th {\n",
       "        vertical-align: top;\n",
       "    }\n",
       "\n",
       "    .dataframe thead th {\n",
       "        text-align: right;\n",
       "    }\n",
       "</style>\n",
       "<table border=\"1\" class=\"dataframe\">\n",
       "  <thead>\n",
       "    <tr style=\"text-align: right;\">\n",
       "      <th></th>\n",
       "      <th>Filename</th>\n",
       "      <th>X</th>\n",
       "      <th>y</th>\n",
       "    </tr>\n",
       "  </thead>\n",
       "  <tbody>\n",
       "    <tr>\n",
       "      <th>0</th>\n",
       "      <td>./data/hw_dataset/control/C_0001.txt</td>\n",
       "      <td>[200.0, 200.0, 200.0, 200.0, 200.0, 200.0, 200...</td>\n",
       "      <td>[204.0, 204.0, 204.0, 204.0, 204.0, 204.0, 204...</td>\n",
       "    </tr>\n",
       "    <tr>\n",
       "      <th>1</th>\n",
       "      <td>./data/hw_dataset/control/C_0002.txt</td>\n",
       "      <td>[200.0, 200.0, 200.0, 200.0, 200.0, 200.0, 200...</td>\n",
       "      <td>[204.0, 204.0, 204.0, 204.0, 204.0, 205.0, 205...</td>\n",
       "    </tr>\n",
       "    <tr>\n",
       "      <th>2</th>\n",
       "      <td>./data/hw_dataset/control/C_0003.txt</td>\n",
       "      <td>[200.0, 200.0, 200.0, 200.0, 200.0, 200.0, 200...</td>\n",
       "      <td>[204.0, 204.0, 204.0, 204.0, 204.0, 204.0, 204...</td>\n",
       "    </tr>\n",
       "    <tr>\n",
       "      <th>3</th>\n",
       "      <td>./data/hw_dataset/control/C_0004.txt</td>\n",
       "      <td>[200.0, 200.0, 200.0, 199.00202702702703, 199....</td>\n",
       "      <td>[204.0, 204.0, 204.0, 204.0, 204.0, 204.0, 204...</td>\n",
       "    </tr>\n",
       "    <tr>\n",
       "      <th>4</th>\n",
       "      <td>./data/hw_dataset/control/C_0005.txt</td>\n",
       "      <td>[200.0, 200.0, 200.0, 200.0, 200.0, 200.0, 200...</td>\n",
       "      <td>[204.0, 204.0, 204.0, 204.0, 204.0, 204.0, 204...</td>\n",
       "    </tr>\n",
       "    <tr>\n",
       "      <th>5</th>\n",
       "      <td>./data/hw_dataset/control/C_0006.txt</td>\n",
       "      <td>[200.0, 200.0, 200.0, 200.0, 200.0, 200.0, 201...</td>\n",
       "      <td>[204.0, 204.0, 204.0, 204.0, 204.0, 204.0, 204...</td>\n",
       "    </tr>\n",
       "    <tr>\n",
       "      <th>6</th>\n",
       "      <td>./data/hw_dataset/control/C_0007.txt</td>\n",
       "      <td>[200.0, 200.0, 200.0, 200.0, 200.0, 200.0, 200...</td>\n",
       "      <td>[204.0, 204.0, 204.0, 204.0, 204.0, 204.0, 204...</td>\n",
       "    </tr>\n",
       "    <tr>\n",
       "      <th>7</th>\n",
       "      <td>./data/hw_dataset/control/C_0008.txt</td>\n",
       "      <td>[200.0, 200.0, 200.0, 200.0, 200.0, 200.0, 200...</td>\n",
       "      <td>[204.0, 204.0, 204.0, 204.0, 203.0, 203.0, 203...</td>\n",
       "    </tr>\n",
       "    <tr>\n",
       "      <th>8</th>\n",
       "      <td>./data/hw_dataset/control/C_0009.txt</td>\n",
       "      <td>[200.0, 200.0, 200.0, 200.0, 200.0, 200.0, 200...</td>\n",
       "      <td>[204.0, 204.0, 204.0, 204.0, 204.0, 204.0, 204...</td>\n",
       "    </tr>\n",
       "  </tbody>\n",
       "</table>\n",
       "</div>"
      ],
      "text/plain": [
       "                               Filename  \\\n",
       "0  ./data/hw_dataset/control/C_0001.txt   \n",
       "1  ./data/hw_dataset/control/C_0002.txt   \n",
       "2  ./data/hw_dataset/control/C_0003.txt   \n",
       "3  ./data/hw_dataset/control/C_0004.txt   \n",
       "4  ./data/hw_dataset/control/C_0005.txt   \n",
       "5  ./data/hw_dataset/control/C_0006.txt   \n",
       "6  ./data/hw_dataset/control/C_0007.txt   \n",
       "7  ./data/hw_dataset/control/C_0008.txt   \n",
       "8  ./data/hw_dataset/control/C_0009.txt   \n",
       "\n",
       "                                                   X  \\\n",
       "0  [200.0, 200.0, 200.0, 200.0, 200.0, 200.0, 200...   \n",
       "1  [200.0, 200.0, 200.0, 200.0, 200.0, 200.0, 200...   \n",
       "2  [200.0, 200.0, 200.0, 200.0, 200.0, 200.0, 200...   \n",
       "3  [200.0, 200.0, 200.0, 199.00202702702703, 199....   \n",
       "4  [200.0, 200.0, 200.0, 200.0, 200.0, 200.0, 200...   \n",
       "5  [200.0, 200.0, 200.0, 200.0, 200.0, 200.0, 201...   \n",
       "6  [200.0, 200.0, 200.0, 200.0, 200.0, 200.0, 200...   \n",
       "7  [200.0, 200.0, 200.0, 200.0, 200.0, 200.0, 200...   \n",
       "8  [200.0, 200.0, 200.0, 200.0, 200.0, 200.0, 200...   \n",
       "\n",
       "                                                   y  \n",
       "0  [204.0, 204.0, 204.0, 204.0, 204.0, 204.0, 204...  \n",
       "1  [204.0, 204.0, 204.0, 204.0, 204.0, 205.0, 205...  \n",
       "2  [204.0, 204.0, 204.0, 204.0, 204.0, 204.0, 204...  \n",
       "3  [204.0, 204.0, 204.0, 204.0, 204.0, 204.0, 204...  \n",
       "4  [204.0, 204.0, 204.0, 204.0, 204.0, 204.0, 204...  \n",
       "5  [204.0, 204.0, 204.0, 204.0, 204.0, 204.0, 204...  \n",
       "6  [204.0, 204.0, 204.0, 204.0, 204.0, 204.0, 204...  \n",
       "7  [204.0, 204.0, 204.0, 204.0, 203.0, 203.0, 203...  \n",
       "8  [204.0, 204.0, 204.0, 204.0, 204.0, 204.0, 204...  "
      ]
     },
     "execution_count": 20,
     "metadata": {},
     "output_type": "execute_result"
    }
   ],
   "source": [
    "controls"
   ]
  },
  {
   "cell_type": "code",
   "execution_count": 21,
   "metadata": {},
   "outputs": [
    {
     "data": {
      "text/html": [
       "<div>\n",
       "<style scoped>\n",
       "    .dataframe tbody tr th:only-of-type {\n",
       "        vertical-align: middle;\n",
       "    }\n",
       "\n",
       "    .dataframe tbody tr th {\n",
       "        vertical-align: top;\n",
       "    }\n",
       "\n",
       "    .dataframe thead th {\n",
       "        text-align: right;\n",
       "    }\n",
       "</style>\n",
       "<table border=\"1\" class=\"dataframe\">\n",
       "  <thead>\n",
       "    <tr style=\"text-align: right;\">\n",
       "      <th></th>\n",
       "      <th>X</th>\n",
       "      <th>y</th>\n",
       "      <th>index</th>\n",
       "    </tr>\n",
       "  </thead>\n",
       "  <tbody>\n",
       "    <tr>\n",
       "      <th>0</th>\n",
       "      <td>[-0.7585194642073478, -0.7585194642073478, -0....</td>\n",
       "      <td>[-1.632862912807799, -1.632862912807799, -1.63...</td>\n",
       "      <td>0</td>\n",
       "    </tr>\n",
       "    <tr>\n",
       "      <th>1</th>\n",
       "      <td>[-0.7779893923724863, -0.7779893923724863, -0....</td>\n",
       "      <td>[-1.703897682407522, -1.703897682407522, -1.47...</td>\n",
       "      <td>1</td>\n",
       "    </tr>\n",
       "    <tr>\n",
       "      <th>2</th>\n",
       "      <td>[-0.7976091427589089, -0.7976091427589089, -0....</td>\n",
       "      <td>[-1.782999851892831, -1.5514414295690864, -1.5...</td>\n",
       "      <td>2</td>\n",
       "    </tr>\n",
       "    <tr>\n",
       "      <th>3</th>\n",
       "      <td>[-0.8175074722161106, -0.8175074722161106, -0....</td>\n",
       "      <td>[-1.6370549635770795, -1.6370549635770795, -1....</td>\n",
       "      <td>3</td>\n",
       "    </tr>\n",
       "    <tr>\n",
       "      <th>4</th>\n",
       "      <td>[-0.8377859869858639, -0.8377859869858639, -0....</td>\n",
       "      <td>[-1.7130445635821479, -1.7130445635821479, -1....</td>\n",
       "      <td>4</td>\n",
       "    </tr>\n",
       "    <tr>\n",
       "      <th>...</th>\n",
       "      <td>...</td>\n",
       "      <td>...</td>\n",
       "      <td>...</td>\n",
       "    </tr>\n",
       "    <tr>\n",
       "      <th>160962</th>\n",
       "      <td>[-0.11624763874380539, -0.11624763874380539, 0...</td>\n",
       "      <td>[1.9139640342315782, 1.261688073198421, 0.7025...</td>\n",
       "      <td>162362</td>\n",
       "    </tr>\n",
       "    <tr>\n",
       "      <th>160963</th>\n",
       "      <td>[-0.13945205043010517, 0.27070103907012877, 0....</td>\n",
       "      <td>[1.357624551977322, 0.7839803750854953, 0.3059...</td>\n",
       "      <td>162363</td>\n",
       "    </tr>\n",
       "    <tr>\n",
       "      <th>160964</th>\n",
       "      <td>[0.22194280274512782, 0.22194280274512782, 0.6...</td>\n",
       "      <td>[0.8395427112010607, 0.3581535419343974, -0.02...</td>\n",
       "      <td>162364</td>\n",
       "    </tr>\n",
       "    <tr>\n",
       "      <th>160965</th>\n",
       "      <td>[0.17425742638841127, 0.5530779185371246, 0.93...</td>\n",
       "      <td>[0.39508575304417465, 0.011507352030413276, -0...</td>\n",
       "      <td>162365</td>\n",
       "    </tr>\n",
       "    <tr>\n",
       "      <th>160966</th>\n",
       "      <td>[0.4650194082397905, 0.8173068387245186, 0.817...</td>\n",
       "      <td>[0.03992157365898957, -0.24523252390523015, -0...</td>\n",
       "      <td>162366</td>\n",
       "    </tr>\n",
       "  </tbody>\n",
       "</table>\n",
       "<p>160967 rows × 3 columns</p>\n",
       "</div>"
      ],
      "text/plain": [
       "                                                        X  \\\n",
       "0       [-0.7585194642073478, -0.7585194642073478, -0....   \n",
       "1       [-0.7779893923724863, -0.7779893923724863, -0....   \n",
       "2       [-0.7976091427589089, -0.7976091427589089, -0....   \n",
       "3       [-0.8175074722161106, -0.8175074722161106, -0....   \n",
       "4       [-0.8377859869858639, -0.8377859869858639, -0....   \n",
       "...                                                   ...   \n",
       "160962  [-0.11624763874380539, -0.11624763874380539, 0...   \n",
       "160963  [-0.13945205043010517, 0.27070103907012877, 0....   \n",
       "160964  [0.22194280274512782, 0.22194280274512782, 0.6...   \n",
       "160965  [0.17425742638841127, 0.5530779185371246, 0.93...   \n",
       "160966  [0.4650194082397905, 0.8173068387245186, 0.817...   \n",
       "\n",
       "                                                        y   index  \n",
       "0       [-1.632862912807799, -1.632862912807799, -1.63...       0  \n",
       "1       [-1.703897682407522, -1.703897682407522, -1.47...       1  \n",
       "2       [-1.782999851892831, -1.5514414295690864, -1.5...       2  \n",
       "3       [-1.6370549635770795, -1.6370549635770795, -1....       3  \n",
       "4       [-1.7130445635821479, -1.7130445635821479, -1....       4  \n",
       "...                                                   ...     ...  \n",
       "160962  [1.9139640342315782, 1.261688073198421, 0.7025...  162362  \n",
       "160963  [1.357624551977322, 0.7839803750854953, 0.3059...  162363  \n",
       "160964  [0.8395427112010607, 0.3581535419343974, -0.02...  162364  \n",
       "160965  [0.39508575304417465, 0.011507352030413276, -0...  162365  \n",
       "160966  [0.03992157365898957, -0.24523252390523015, -0...  162366  \n",
       "\n",
       "[160967 rows x 3 columns]"
      ]
     },
     "execution_count": 21,
     "metadata": {},
     "output_type": "execute_result"
    }
   ],
   "source": [
    "data_premade"
   ]
  },
  {
   "cell_type": "code",
   "execution_count": 22,
   "metadata": {},
   "outputs": [
    {
     "data": {
      "text/html": [
       "<div>\n",
       "<style scoped>\n",
       "    .dataframe tbody tr th:only-of-type {\n",
       "        vertical-align: middle;\n",
       "    }\n",
       "\n",
       "    .dataframe tbody tr th {\n",
       "        vertical-align: top;\n",
       "    }\n",
       "\n",
       "    .dataframe thead th {\n",
       "        text-align: right;\n",
       "    }\n",
       "</style>\n",
       "<table border=\"1\" class=\"dataframe\">\n",
       "  <thead>\n",
       "    <tr style=\"text-align: right;\">\n",
       "      <th></th>\n",
       "      <th>Filename</th>\n",
       "      <th>index</th>\n",
       "      <th>angle</th>\n",
       "      <th>X</th>\n",
       "      <th>y</th>\n",
       "      <th>length</th>\n",
       "    </tr>\n",
       "  </thead>\n",
       "  <tbody>\n",
       "    <tr>\n",
       "      <th>0</th>\n",
       "      <td>./data/hw_dataset/parkinson/P_02100001.txt</td>\n",
       "      <td>51</td>\n",
       "      <td>144</td>\n",
       "      <td>[197.8960113960114, 197.8960113960114, 197.896...</td>\n",
       "      <td>[207.0, 207.0, 207.0, 208.0, 208.0, 208.0, 209...</td>\n",
       "      <td>50</td>\n",
       "    </tr>\n",
       "    <tr>\n",
       "      <th>1</th>\n",
       "      <td>./data/hw_dataset/parkinson/P_02100001.txt</td>\n",
       "      <td>52</td>\n",
       "      <td>21</td>\n",
       "      <td>[197.8960113960114, 197.8960113960114, 197.896...</td>\n",
       "      <td>[207.0, 207.0, 208.0, 208.0, 208.0, 209.0, 209...</td>\n",
       "      <td>50</td>\n",
       "    </tr>\n",
       "    <tr>\n",
       "      <th>2</th>\n",
       "      <td>./data/hw_dataset/parkinson/P_02100001.txt</td>\n",
       "      <td>53</td>\n",
       "      <td>117</td>\n",
       "      <td>[197.8960113960114, 197.8960113960114, 197.896...</td>\n",
       "      <td>[207.0, 208.0, 208.0, 208.0, 209.0, 209.0, 209...</td>\n",
       "      <td>50</td>\n",
       "    </tr>\n",
       "    <tr>\n",
       "      <th>3</th>\n",
       "      <td>./data/hw_dataset/parkinson/P_02100001.txt</td>\n",
       "      <td>54</td>\n",
       "      <td>282</td>\n",
       "      <td>[197.8960113960114, 197.8960113960114, 197.896...</td>\n",
       "      <td>[208.0, 208.0, 208.0, 209.0, 209.0, 209.0, 209...</td>\n",
       "      <td>50</td>\n",
       "    </tr>\n",
       "    <tr>\n",
       "      <th>4</th>\n",
       "      <td>./data/hw_dataset/parkinson/P_02100001.txt</td>\n",
       "      <td>55</td>\n",
       "      <td>142</td>\n",
       "      <td>[197.8960113960114, 197.8960113960114, 197.896...</td>\n",
       "      <td>[208.0, 208.0, 209.0, 209.0, 209.0, 209.0, 210...</td>\n",
       "      <td>50</td>\n",
       "    </tr>\n",
       "    <tr>\n",
       "      <th>...</th>\n",
       "      <td>...</td>\n",
       "      <td>...</td>\n",
       "      <td>...</td>\n",
       "      <td>...</td>\n",
       "      <td>...</td>\n",
       "      <td>...</td>\n",
       "    </tr>\n",
       "    <tr>\n",
       "      <th>162362</th>\n",
       "      <td>./data/new_dataset/parkinson/H_p000-0043.txt</td>\n",
       "      <td>1755</td>\n",
       "      <td>19</td>\n",
       "      <td>[395.7121409921671, 395.7121409921671, 396.676...</td>\n",
       "      <td>[215.0, 208.0, 202.0, 197.0, 193.0, 190.0, 188...</td>\n",
       "      <td>50</td>\n",
       "    </tr>\n",
       "    <tr>\n",
       "      <th>162363</th>\n",
       "      <td>./data/new_dataset/parkinson/H_p000-0043.txt</td>\n",
       "      <td>1756</td>\n",
       "      <td>35</td>\n",
       "      <td>[395.7121409921671, 396.6762402088773, 396.676...</td>\n",
       "      <td>[208.0, 202.0, 197.0, 193.0, 190.0, 188.0, 186...</td>\n",
       "      <td>50</td>\n",
       "    </tr>\n",
       "    <tr>\n",
       "      <th>162364</th>\n",
       "      <td>./data/new_dataset/parkinson/H_p000-0043.txt</td>\n",
       "      <td>1757</td>\n",
       "      <td>199</td>\n",
       "      <td>[396.6762402088773, 396.6762402088773, 397.640...</td>\n",
       "      <td>[202.0, 197.0, 193.0, 190.0, 188.0, 186.0, 186...</td>\n",
       "      <td>50</td>\n",
       "    </tr>\n",
       "    <tr>\n",
       "      <th>162365</th>\n",
       "      <td>./data/new_dataset/parkinson/H_p000-0043.txt</td>\n",
       "      <td>1758</td>\n",
       "      <td>306</td>\n",
       "      <td>[396.6762402088773, 397.64033942558746, 398.60...</td>\n",
       "      <td>[197.0, 193.0, 190.0, 188.0, 186.0, 186.0, 186...</td>\n",
       "      <td>50</td>\n",
       "    </tr>\n",
       "    <tr>\n",
       "      <th>162366</th>\n",
       "      <td>./data/new_dataset/parkinson/H_p000-0043.txt</td>\n",
       "      <td>1759</td>\n",
       "      <td>229</td>\n",
       "      <td>[397.64033942558746, 398.6044386422977, 398.60...</td>\n",
       "      <td>[193.0, 190.0, 188.0, 186.0, 186.0, 186.0, 187...</td>\n",
       "      <td>50</td>\n",
       "    </tr>\n",
       "  </tbody>\n",
       "</table>\n",
       "<p>162367 rows × 6 columns</p>\n",
       "</div>"
      ],
      "text/plain": [
       "                                            Filename  index  angle  \\\n",
       "0         ./data/hw_dataset/parkinson/P_02100001.txt     51    144   \n",
       "1         ./data/hw_dataset/parkinson/P_02100001.txt     52     21   \n",
       "2         ./data/hw_dataset/parkinson/P_02100001.txt     53    117   \n",
       "3         ./data/hw_dataset/parkinson/P_02100001.txt     54    282   \n",
       "4         ./data/hw_dataset/parkinson/P_02100001.txt     55    142   \n",
       "...                                              ...    ...    ...   \n",
       "162362  ./data/new_dataset/parkinson/H_p000-0043.txt   1755     19   \n",
       "162363  ./data/new_dataset/parkinson/H_p000-0043.txt   1756     35   \n",
       "162364  ./data/new_dataset/parkinson/H_p000-0043.txt   1757    199   \n",
       "162365  ./data/new_dataset/parkinson/H_p000-0043.txt   1758    306   \n",
       "162366  ./data/new_dataset/parkinson/H_p000-0043.txt   1759    229   \n",
       "\n",
       "                                                        X  \\\n",
       "0       [197.8960113960114, 197.8960113960114, 197.896...   \n",
       "1       [197.8960113960114, 197.8960113960114, 197.896...   \n",
       "2       [197.8960113960114, 197.8960113960114, 197.896...   \n",
       "3       [197.8960113960114, 197.8960113960114, 197.896...   \n",
       "4       [197.8960113960114, 197.8960113960114, 197.896...   \n",
       "...                                                   ...   \n",
       "162362  [395.7121409921671, 395.7121409921671, 396.676...   \n",
       "162363  [395.7121409921671, 396.6762402088773, 396.676...   \n",
       "162364  [396.6762402088773, 396.6762402088773, 397.640...   \n",
       "162365  [396.6762402088773, 397.64033942558746, 398.60...   \n",
       "162366  [397.64033942558746, 398.6044386422977, 398.60...   \n",
       "\n",
       "                                                        y  length  \n",
       "0       [207.0, 207.0, 207.0, 208.0, 208.0, 208.0, 209...      50  \n",
       "1       [207.0, 207.0, 208.0, 208.0, 208.0, 209.0, 209...      50  \n",
       "2       [207.0, 208.0, 208.0, 208.0, 209.0, 209.0, 209...      50  \n",
       "3       [208.0, 208.0, 208.0, 209.0, 209.0, 209.0, 209...      50  \n",
       "4       [208.0, 208.0, 209.0, 209.0, 209.0, 209.0, 210...      50  \n",
       "...                                                   ...     ...  \n",
       "162362  [215.0, 208.0, 202.0, 197.0, 193.0, 190.0, 188...      50  \n",
       "162363  [208.0, 202.0, 197.0, 193.0, 190.0, 188.0, 186...      50  \n",
       "162364  [202.0, 197.0, 193.0, 190.0, 188.0, 186.0, 186...      50  \n",
       "162365  [197.0, 193.0, 190.0, 188.0, 186.0, 186.0, 186...      50  \n",
       "162366  [193.0, 190.0, 188.0, 186.0, 186.0, 186.0, 187...      50  \n",
       "\n",
       "[162367 rows x 6 columns]"
      ]
     },
     "execution_count": 22,
     "metadata": {},
     "output_type": "execute_result"
    }
   ],
   "source": [
    "data_original"
   ]
  },
  {
   "cell_type": "code",
   "execution_count": 23,
   "metadata": {},
   "outputs": [
    {
     "name": "stdout",
     "output_type": "stream",
     "text": [
      "160967\n"
     ]
    }
   ],
   "source": [
    "print(len(data_premade))"
   ]
  },
  {
   "cell_type": "code",
   "execution_count": 24,
   "metadata": {},
   "outputs": [],
   "source": [
    "from scipy.spatial import KDTree\n",
    "# Precompute KDTree for each control file\n",
    "control_trees = []\n",
    "for index, control_file in controls.iterrows():\n",
    "    control_data = np.column_stack((control_file[\"X\"], control_file[\"y\"]))\n",
    "    control_trees.append(KDTree(control_data))"
   ]
  },
  {
   "cell_type": "code",
   "execution_count": 25,
   "metadata": {},
   "outputs": [
    {
     "name": "stderr",
     "output_type": "stream",
     "text": [
      "  0%|          | 0/160967 [00:00<?, ?it/s]"
     ]
    },
    {
     "name": "stderr",
     "output_type": "stream",
     "text": [
      "100%|██████████| 160967/160967 [03:11<00:00, 839.49it/s] \n"
     ]
    }
   ],
   "source": [
    "from scipy.spatial import KDTree\n",
    "from tqdm import tqdm\n",
    "import numpy as np\n",
    "\n",
    "org_mse = []\n",
    "mean_square_errors = []\n",
    "translated = {\"X\":[], \"y\":[]}\n",
    "\n",
    "for _, row in tqdm(data_premade.iterrows(), total=len(data_premade)):  # Include progress bar\n",
    "    data_find = data_original.loc[row['index']] # Finding row which matches 'index' arg of the row in data_premade \n",
    "    points = np.column_stack((data_find[\"X\"], data_find[\"y\"]))\n",
    "    min_mse = float(\"inf\")\n",
    "    min_close_seg = 0 # This is the cloest segment\n",
    "    for tree in control_trees:\n",
    "        distances, indices = tree.query(points)\n",
    "        closest_segments = np.array([tree.data[idx] for idx in indices])\n",
    "        \n",
    "        mse = np.sum((closest_segments - points) ** 2)\n",
    "        if mse < min_mse:\n",
    "            min_mse = mse\n",
    "            min_close_seg = closest_segments\n",
    "    \n",
    "    offset_x = min_close_seg[:, 0] - points[:, 0]\n",
    "    offset_y = min_close_seg[:, 1] - points[:, 1]\n",
    "\n",
    "    # Calculate the average offset for X and Y directions\n",
    "    avg_offset_x = np.mean(offset_x)\n",
    "    avg_offset_y = np.mean(offset_y)\n",
    "\n",
    "    # Apply the translations to the orange line\n",
    "    orange_line_x_translated = min_close_seg[:, 0] - avg_offset_x\n",
    "    orange_line_y_translated = min_close_seg[:, 1] - avg_offset_y\n",
    "    translated[\"X\"].append(orange_line_x_translated)\n",
    "    translated[\"y\"].append(orange_line_y_translated)\n",
    "\n",
    "    temp = np.column_stack((orange_line_x_translated, orange_line_y_translated))\n",
    "    mse = np.sum((temp - points) ** 2)\n",
    "    mean_square_errors.append(mse)\n",
    "    org_mse.append(min_mse)\n",
    "    \n",
    "\n"
   ]
  },
  {
   "cell_type": "code",
   "execution_count": 83,
   "metadata": {},
   "outputs": [],
   "source": [
    "translated = pd.DataFrame(translated)"
   ]
  },
  {
   "cell_type": "code",
   "execution_count": 84,
   "metadata": {},
   "outputs": [],
   "source": [
    "def reject_outliers(data, m=4.):\n",
    "    ranged = range(0,len(data))\n",
    "    data = np.asarray(data)  # Ensure input is a NumPy array\n",
    "    d = np.abs(data - np.median(data))  # Deviation from the median\n",
    "    mdev = np.median(d)  # Median of the deviations\n",
    "    if mdev == 0:  # Handle case where mdev is zero\n",
    "        return data\n",
    "    s = d / mdev\n",
    "    ranged = np.where(s<m)[0]\n",
    "    return data[s < m], ranged "
   ]
  },
  {
   "cell_type": "code",
   "execution_count": 85,
   "metadata": {},
   "outputs": [],
   "source": [
    "data_no_outliers, ranged = reject_outliers(mean_square_errors)"
   ]
  },
  {
   "cell_type": "code",
   "execution_count": 86,
   "metadata": {},
   "outputs": [
    {
     "data": {
      "text/plain": [
       "array([   100,    101,    102, ..., 160127, 160128, 160129])"
      ]
     },
     "execution_count": 86,
     "metadata": {},
     "output_type": "execute_result"
    }
   ],
   "source": [
    "ranged"
   ]
  },
  {
   "cell_type": "code",
   "execution_count": 87,
   "metadata": {},
   "outputs": [],
   "source": [
    "import pickle\n",
    "data = {'translated': translated, 'ranged': ranged}\n",
    "# Save the data to a PKL file\n",
    "with open('data/smooth_translated.pkl', 'wb') as file:\n",
    "    pickle.dump(data, file)"
   ]
  },
  {
   "cell_type": "markdown",
   "metadata": {},
   "source": [
    "# Getting Angle + Normalize???"
   ]
  },
  {
   "cell_type": "code",
   "execution_count": 88,
   "metadata": {},
   "outputs": [],
   "source": [
    "from scipy.spatial import KDTree\n",
    "from tqdm import tqdm\n",
    "import numpy as np"
   ]
  },
  {
   "cell_type": "code",
   "execution_count": 89,
   "metadata": {},
   "outputs": [],
   "source": [
    "import pickle\n",
    "with open('data/smooth_translated.pkl', 'rb') as file:\n",
    "    loaded_data = pickle.load(file)\n",
    "translated = loaded_data['translated']\n",
    "ranged = loaded_data['ranged']"
   ]
  },
  {
   "cell_type": "code",
   "execution_count": 90,
   "metadata": {},
   "outputs": [
    {
     "data": {
      "text/html": [
       "<div>\n",
       "<style scoped>\n",
       "    .dataframe tbody tr th:only-of-type {\n",
       "        vertical-align: middle;\n",
       "    }\n",
       "\n",
       "    .dataframe tbody tr th {\n",
       "        vertical-align: top;\n",
       "    }\n",
       "\n",
       "    .dataframe thead th {\n",
       "        text-align: right;\n",
       "    }\n",
       "</style>\n",
       "<table border=\"1\" class=\"dataframe\">\n",
       "  <thead>\n",
       "    <tr style=\"text-align: right;\">\n",
       "      <th></th>\n",
       "      <th>X</th>\n",
       "      <th>y</th>\n",
       "    </tr>\n",
       "  </thead>\n",
       "  <tbody>\n",
       "    <tr>\n",
       "      <th>0</th>\n",
       "      <td>[200.80408955778523, 200.80408955778523, 200.8...</td>\n",
       "      <td>[214.24, 214.24, 214.24, 214.24, 214.24, 214.2...</td>\n",
       "    </tr>\n",
       "    <tr>\n",
       "      <th>1</th>\n",
       "      <td>[201.08149588133284, 201.08149588133284, 201.0...</td>\n",
       "      <td>[214.54, 214.54, 214.54, 214.54, 214.54, 214.5...</td>\n",
       "    </tr>\n",
       "    <tr>\n",
       "      <th>2</th>\n",
       "      <td>[201.37994209092037, 201.37994209092037, 201.3...</td>\n",
       "      <td>[214.84, 214.84, 214.84, 214.84, 214.84, 214.8...</td>\n",
       "    </tr>\n",
       "    <tr>\n",
       "      <th>3</th>\n",
       "      <td>[201.69942818654775, 201.69942818654775, 201.6...</td>\n",
       "      <td>[215.14, 215.14, 215.14, 215.14, 215.14, 215.1...</td>\n",
       "    </tr>\n",
       "    <tr>\n",
       "      <th>4</th>\n",
       "      <td>[202.03995416821505, 202.03995416821505, 202.0...</td>\n",
       "      <td>[215.42, 215.42, 215.42, 215.42, 215.42, 215.4...</td>\n",
       "    </tr>\n",
       "    <tr>\n",
       "      <th>...</th>\n",
       "      <td>...</td>\n",
       "      <td>...</td>\n",
       "    </tr>\n",
       "    <tr>\n",
       "      <th>160962</th>\n",
       "      <td>[393.8432636362339, 394.8521434176547, 393.843...</td>\n",
       "      <td>[208.12, 201.12, 196.12, 191.12, 191.12, 191.1...</td>\n",
       "    </tr>\n",
       "    <tr>\n",
       "      <th>160963</th>\n",
       "      <td>[394.84945658377205, 393.8405768023513, 396.86...</td>\n",
       "      <td>[200.8, 195.8, 190.8, 190.8, 190.8, 190.8, 190...</td>\n",
       "    </tr>\n",
       "    <tr>\n",
       "      <th>160964</th>\n",
       "      <td>[393.89663153276547, 396.9232708770278, 396.92...</td>\n",
       "      <td>[195.48, 190.48, 190.48, 190.48, 190.48, 190.4...</td>\n",
       "    </tr>\n",
       "    <tr>\n",
       "      <th>160965</th>\n",
       "      <td>[396.95914801181357, 396.95914801181357, 396.9...</td>\n",
       "      <td>[190.18, 190.18, 190.18, 190.18, 190.18, 190.1...</td>\n",
       "    </tr>\n",
       "    <tr>\n",
       "      <th>160966</th>\n",
       "      <td>[397.094121902153, 397.094121902153, 397.09412...</td>\n",
       "      <td>[189.88, 189.88, 189.88, 189.88, 189.88, 189.8...</td>\n",
       "    </tr>\n",
       "  </tbody>\n",
       "</table>\n",
       "<p>160967 rows × 2 columns</p>\n",
       "</div>"
      ],
      "text/plain": [
       "                                                        X  \\\n",
       "0       [200.80408955778523, 200.80408955778523, 200.8...   \n",
       "1       [201.08149588133284, 201.08149588133284, 201.0...   \n",
       "2       [201.37994209092037, 201.37994209092037, 201.3...   \n",
       "3       [201.69942818654775, 201.69942818654775, 201.6...   \n",
       "4       [202.03995416821505, 202.03995416821505, 202.0...   \n",
       "...                                                   ...   \n",
       "160962  [393.8432636362339, 394.8521434176547, 393.843...   \n",
       "160963  [394.84945658377205, 393.8405768023513, 396.86...   \n",
       "160964  [393.89663153276547, 396.9232708770278, 396.92...   \n",
       "160965  [396.95914801181357, 396.95914801181357, 396.9...   \n",
       "160966  [397.094121902153, 397.094121902153, 397.09412...   \n",
       "\n",
       "                                                        y  \n",
       "0       [214.24, 214.24, 214.24, 214.24, 214.24, 214.2...  \n",
       "1       [214.54, 214.54, 214.54, 214.54, 214.54, 214.5...  \n",
       "2       [214.84, 214.84, 214.84, 214.84, 214.84, 214.8...  \n",
       "3       [215.14, 215.14, 215.14, 215.14, 215.14, 215.1...  \n",
       "4       [215.42, 215.42, 215.42, 215.42, 215.42, 215.4...  \n",
       "...                                                   ...  \n",
       "160962  [208.12, 201.12, 196.12, 191.12, 191.12, 191.1...  \n",
       "160963  [200.8, 195.8, 190.8, 190.8, 190.8, 190.8, 190...  \n",
       "160964  [195.48, 190.48, 190.48, 190.48, 190.48, 190.4...  \n",
       "160965  [190.18, 190.18, 190.18, 190.18, 190.18, 190.1...  \n",
       "160966  [189.88, 189.88, 189.88, 189.88, 189.88, 189.8...  \n",
       "\n",
       "[160967 rows x 2 columns]"
      ]
     },
     "execution_count": 90,
     "metadata": {},
     "output_type": "execute_result"
    }
   ],
   "source": [
    "translated"
   ]
  },
  {
   "cell_type": "code",
   "execution_count": 91,
   "metadata": {},
   "outputs": [
    {
     "data": {
      "text/plain": [
       "130761"
      ]
     },
     "execution_count": 91,
     "metadata": {},
     "output_type": "execute_result"
    }
   ],
   "source": [
    "len(ranged)"
   ]
  },
  {
   "cell_type": "code",
   "execution_count": 92,
   "metadata": {},
   "outputs": [],
   "source": [
    "\n",
    "def get_subset(original, premade, compiled, indexes): \n",
    "    #  format ([Xi, X2. . . Xf], [yi, y2, . . . yf])\n",
    "    subset = []\n",
    "    for _ in tqdm(indexes): # was len(X)\n",
    "        ind = premade.iloc[_]['index']\n",
    "        row = original.iloc[ind] #idt this angle is right \n",
    "        compiled_row = compiled.iloc[_]\n",
    "\n",
    "        angle = row[\"angle\"] # Replace with my angle \n",
    "        theta = np.radians(angle)  # Convert the angle to radians\n",
    "        rotation_matrix = np.array([[np.cos(theta), -np.sin(theta)], \n",
    "                                    [np.sin(theta), np.cos(theta)]])\n",
    "        \n",
    "        combined_array = np.column_stack((compiled_row[\"X\"], compiled_row[\"y\"]))\n",
    "\n",
    "        rotated = np.dot(combined_array, rotation_matrix)\n",
    "        shape = 50\n",
    "        X_all = combined_array[:, 0 ] # This is for X data and x coordinate value\n",
    "        Y_all = combined_array[:, 1 ]\n",
    "    \n",
    "        subset.append((row[\"Filename\"], _, angle, X_all, Y_all, shape))\n",
    "    return subset\n"
   ]
  },
  {
   "cell_type": "code",
   "execution_count": 93,
   "metadata": {},
   "outputs": [
    {
     "data": {
      "text/html": [
       "<div>\n",
       "<style scoped>\n",
       "    .dataframe tbody tr th:only-of-type {\n",
       "        vertical-align: middle;\n",
       "    }\n",
       "\n",
       "    .dataframe tbody tr th {\n",
       "        vertical-align: top;\n",
       "    }\n",
       "\n",
       "    .dataframe thead th {\n",
       "        text-align: right;\n",
       "    }\n",
       "</style>\n",
       "<table border=\"1\" class=\"dataframe\">\n",
       "  <thead>\n",
       "    <tr style=\"text-align: right;\">\n",
       "      <th></th>\n",
       "      <th>Filename</th>\n",
       "      <th>index</th>\n",
       "      <th>angle</th>\n",
       "      <th>X</th>\n",
       "      <th>y</th>\n",
       "      <th>length</th>\n",
       "    </tr>\n",
       "  </thead>\n",
       "  <tbody>\n",
       "    <tr>\n",
       "      <th>0</th>\n",
       "      <td>./data/hw_dataset/parkinson/P_02100001.txt</td>\n",
       "      <td>51</td>\n",
       "      <td>144</td>\n",
       "      <td>[197.8960113960114, 197.8960113960114, 197.896...</td>\n",
       "      <td>[207.0, 207.0, 207.0, 208.0, 208.0, 208.0, 209...</td>\n",
       "      <td>50</td>\n",
       "    </tr>\n",
       "    <tr>\n",
       "      <th>1</th>\n",
       "      <td>./data/hw_dataset/parkinson/P_02100001.txt</td>\n",
       "      <td>52</td>\n",
       "      <td>21</td>\n",
       "      <td>[197.8960113960114, 197.8960113960114, 197.896...</td>\n",
       "      <td>[207.0, 207.0, 208.0, 208.0, 208.0, 209.0, 209...</td>\n",
       "      <td>50</td>\n",
       "    </tr>\n",
       "    <tr>\n",
       "      <th>2</th>\n",
       "      <td>./data/hw_dataset/parkinson/P_02100001.txt</td>\n",
       "      <td>53</td>\n",
       "      <td>117</td>\n",
       "      <td>[197.8960113960114, 197.8960113960114, 197.896...</td>\n",
       "      <td>[207.0, 208.0, 208.0, 208.0, 209.0, 209.0, 209...</td>\n",
       "      <td>50</td>\n",
       "    </tr>\n",
       "    <tr>\n",
       "      <th>3</th>\n",
       "      <td>./data/hw_dataset/parkinson/P_02100001.txt</td>\n",
       "      <td>54</td>\n",
       "      <td>282</td>\n",
       "      <td>[197.8960113960114, 197.8960113960114, 197.896...</td>\n",
       "      <td>[208.0, 208.0, 208.0, 209.0, 209.0, 209.0, 209...</td>\n",
       "      <td>50</td>\n",
       "    </tr>\n",
       "    <tr>\n",
       "      <th>4</th>\n",
       "      <td>./data/hw_dataset/parkinson/P_02100001.txt</td>\n",
       "      <td>55</td>\n",
       "      <td>142</td>\n",
       "      <td>[197.8960113960114, 197.8960113960114, 197.896...</td>\n",
       "      <td>[208.0, 208.0, 209.0, 209.0, 209.0, 209.0, 210...</td>\n",
       "      <td>50</td>\n",
       "    </tr>\n",
       "    <tr>\n",
       "      <th>...</th>\n",
       "      <td>...</td>\n",
       "      <td>...</td>\n",
       "      <td>...</td>\n",
       "      <td>...</td>\n",
       "      <td>...</td>\n",
       "      <td>...</td>\n",
       "    </tr>\n",
       "    <tr>\n",
       "      <th>162362</th>\n",
       "      <td>./data/new_dataset/parkinson/H_p000-0043.txt</td>\n",
       "      <td>1755</td>\n",
       "      <td>19</td>\n",
       "      <td>[395.7121409921671, 395.7121409921671, 396.676...</td>\n",
       "      <td>[215.0, 208.0, 202.0, 197.0, 193.0, 190.0, 188...</td>\n",
       "      <td>50</td>\n",
       "    </tr>\n",
       "    <tr>\n",
       "      <th>162363</th>\n",
       "      <td>./data/new_dataset/parkinson/H_p000-0043.txt</td>\n",
       "      <td>1756</td>\n",
       "      <td>35</td>\n",
       "      <td>[395.7121409921671, 396.6762402088773, 396.676...</td>\n",
       "      <td>[208.0, 202.0, 197.0, 193.0, 190.0, 188.0, 186...</td>\n",
       "      <td>50</td>\n",
       "    </tr>\n",
       "    <tr>\n",
       "      <th>162364</th>\n",
       "      <td>./data/new_dataset/parkinson/H_p000-0043.txt</td>\n",
       "      <td>1757</td>\n",
       "      <td>199</td>\n",
       "      <td>[396.6762402088773, 396.6762402088773, 397.640...</td>\n",
       "      <td>[202.0, 197.0, 193.0, 190.0, 188.0, 186.0, 186...</td>\n",
       "      <td>50</td>\n",
       "    </tr>\n",
       "    <tr>\n",
       "      <th>162365</th>\n",
       "      <td>./data/new_dataset/parkinson/H_p000-0043.txt</td>\n",
       "      <td>1758</td>\n",
       "      <td>306</td>\n",
       "      <td>[396.6762402088773, 397.64033942558746, 398.60...</td>\n",
       "      <td>[197.0, 193.0, 190.0, 188.0, 186.0, 186.0, 186...</td>\n",
       "      <td>50</td>\n",
       "    </tr>\n",
       "    <tr>\n",
       "      <th>162366</th>\n",
       "      <td>./data/new_dataset/parkinson/H_p000-0043.txt</td>\n",
       "      <td>1759</td>\n",
       "      <td>229</td>\n",
       "      <td>[397.64033942558746, 398.6044386422977, 398.60...</td>\n",
       "      <td>[193.0, 190.0, 188.0, 186.0, 186.0, 186.0, 187...</td>\n",
       "      <td>50</td>\n",
       "    </tr>\n",
       "  </tbody>\n",
       "</table>\n",
       "<p>162367 rows × 6 columns</p>\n",
       "</div>"
      ],
      "text/plain": [
       "                                            Filename  index  angle  \\\n",
       "0         ./data/hw_dataset/parkinson/P_02100001.txt     51    144   \n",
       "1         ./data/hw_dataset/parkinson/P_02100001.txt     52     21   \n",
       "2         ./data/hw_dataset/parkinson/P_02100001.txt     53    117   \n",
       "3         ./data/hw_dataset/parkinson/P_02100001.txt     54    282   \n",
       "4         ./data/hw_dataset/parkinson/P_02100001.txt     55    142   \n",
       "...                                              ...    ...    ...   \n",
       "162362  ./data/new_dataset/parkinson/H_p000-0043.txt   1755     19   \n",
       "162363  ./data/new_dataset/parkinson/H_p000-0043.txt   1756     35   \n",
       "162364  ./data/new_dataset/parkinson/H_p000-0043.txt   1757    199   \n",
       "162365  ./data/new_dataset/parkinson/H_p000-0043.txt   1758    306   \n",
       "162366  ./data/new_dataset/parkinson/H_p000-0043.txt   1759    229   \n",
       "\n",
       "                                                        X  \\\n",
       "0       [197.8960113960114, 197.8960113960114, 197.896...   \n",
       "1       [197.8960113960114, 197.8960113960114, 197.896...   \n",
       "2       [197.8960113960114, 197.8960113960114, 197.896...   \n",
       "3       [197.8960113960114, 197.8960113960114, 197.896...   \n",
       "4       [197.8960113960114, 197.8960113960114, 197.896...   \n",
       "...                                                   ...   \n",
       "162362  [395.7121409921671, 395.7121409921671, 396.676...   \n",
       "162363  [395.7121409921671, 396.6762402088773, 396.676...   \n",
       "162364  [396.6762402088773, 396.6762402088773, 397.640...   \n",
       "162365  [396.6762402088773, 397.64033942558746, 398.60...   \n",
       "162366  [397.64033942558746, 398.6044386422977, 398.60...   \n",
       "\n",
       "                                                        y  length  \n",
       "0       [207.0, 207.0, 207.0, 208.0, 208.0, 208.0, 209...      50  \n",
       "1       [207.0, 207.0, 208.0, 208.0, 208.0, 209.0, 209...      50  \n",
       "2       [207.0, 208.0, 208.0, 208.0, 209.0, 209.0, 209...      50  \n",
       "3       [208.0, 208.0, 208.0, 209.0, 209.0, 209.0, 209...      50  \n",
       "4       [208.0, 208.0, 209.0, 209.0, 209.0, 209.0, 210...      50  \n",
       "...                                                   ...     ...  \n",
       "162362  [215.0, 208.0, 202.0, 197.0, 193.0, 190.0, 188...      50  \n",
       "162363  [208.0, 202.0, 197.0, 193.0, 190.0, 188.0, 186...      50  \n",
       "162364  [202.0, 197.0, 193.0, 190.0, 188.0, 186.0, 186...      50  \n",
       "162365  [197.0, 193.0, 190.0, 188.0, 186.0, 186.0, 186...      50  \n",
       "162366  [193.0, 190.0, 188.0, 186.0, 186.0, 186.0, 187...      50  \n",
       "\n",
       "[162367 rows x 6 columns]"
      ]
     },
     "execution_count": 93,
     "metadata": {},
     "output_type": "execute_result"
    }
   ],
   "source": [
    "data_original"
   ]
  },
  {
   "cell_type": "code",
   "execution_count": 94,
   "metadata": {},
   "outputs": [
    {
     "name": "stderr",
     "output_type": "stream",
     "text": [
      "100%|██████████| 130761/130761 [00:08<00:00, 14562.31it/s]\n"
     ]
    }
   ],
   "source": [
    "subset = get_subset(data_original,data_premade, translated, ranged)"
   ]
  },
  {
   "cell_type": "code",
   "execution_count": 95,
   "metadata": {},
   "outputs": [],
   "source": [
    "df = pd.DataFrame(subset, columns=['Filename', 'index', 'angle', 'X', 'y', 'length']) \n",
    "df.to_pickle(\"data/control_original.pkl\") # original = with the angles, premade = parkinson"
   ]
  },
  {
   "cell_type": "code",
   "execution_count": 96,
   "metadata": {},
   "outputs": [],
   "source": [
    "import pickle as pkl\n",
    "def save_data_mean_std_all(arrX, arrY, index, filename):\n",
    "    normalized_data = {'X':[], 'y':[], 'index':[]}\n",
    "    df = pd.DataFrame()\n",
    "    for i in tqdm(range(len(arrX))):\n",
    "        innerX = arrX[i]\n",
    "        innerY = arrY[i]\n",
    "        meanX = np.mean(innerX)\n",
    "        stdX = np.std(innerX)\n",
    "        meanY = np.mean(innerY)\n",
    "        stdY = np.std(innerY)\n",
    "        normalized_arr_X = (innerX - meanX) / stdX\n",
    "        normalized_arr_y = (innerY - meanY) / stdY\n",
    "\n",
    "        if not np.isnan(normalized_arr_X[0]) and not np.isnan(normalized_arr_y[0]): \n",
    "            normalized_data['X'].append(normalized_arr_X)\n",
    "            normalized_data['y'].append(normalized_arr_y)\n",
    "            normalized_data['index'].append(index[i])\n",
    "    data = pd.DataFrame(normalized_data)\n",
    "    data.to_pickle(filename)\n",
    "    return data\n",
    "    "
   ]
  },
  {
   "cell_type": "code",
   "execution_count": 97,
   "metadata": {},
   "outputs": [
    {
     "name": "stderr",
     "output_type": "stream",
     "text": [
      "  0%|          | 0/130761 [00:00<?, ?it/s]C:\\Users\\leahz\\AppData\\Local\\Temp\\ipykernel_9756\\2043971446.py:13: RuntimeWarning: invalid value encountered in divide\n",
      "  normalized_arr_y = (innerY - meanY) / stdY\n",
      "C:\\Users\\leahz\\AppData\\Local\\Temp\\ipykernel_9756\\2043971446.py:12: RuntimeWarning: invalid value encountered in divide\n",
      "  normalized_arr_X = (innerX - meanX) / stdX\n",
      "100%|██████████| 130761/130761 [00:03<00:00, 34883.71it/s]\n"
     ]
    }
   ],
   "source": [
    "arrX = list(df['X'].copy())\n",
    "arrY = list(df['y'].copy())\n",
    "index = list(df['index'].copy())\n",
    "control_set = save_data_mean_std_all(arrX, arrY, index,'data/premade_data_all.pkl')"
   ]
  },
  {
   "cell_type": "code",
   "execution_count": 98,
   "metadata": {},
   "outputs": [
    {
     "data": {
      "text/plain": [
       "[<matplotlib.lines.Line2D at 0x19355193ce0>]"
      ]
     },
     "execution_count": 98,
     "metadata": {},
     "output_type": "execute_result"
    },
    {
     "data": {
      "image/png": "[encoded data removed]",
      "text/plain": [
       "<Figure size 640x480 with 1 Axes>"
      ]
     },
     "metadata": {},
     "output_type": "display_data"
    }
   ],
   "source": [
    "r = df.iloc[2]\n",
    "r2 = data_original.iloc[r['index']]\n",
    "plt.plot(r[\"X\"], r[\"y\"])\n",
    "\n",
    "plt.plot(r2[\"X\"], r2[\"y\"])"
   ]
  },
  {
   "cell_type": "markdown",
   "metadata": {},
   "source": [
    "# Model"
   ]
  },
  {
   "cell_type": "code",
   "execution_count": 6,
   "metadata": {},
   "outputs": [],
   "source": [
    "import pandas as pd\n",
    "import numpy as np\n",
    "import tqdm as tqdm\n",
    "import matplotlib.pyplot as plt\n",
    "base = \"C:/Users/leahz/OneDrive/Desktop/Quizlet/ATC4/SYSlab\"\n",
    "parkinson =  pd.read_pickle(f'{base}/data/data_all.pkl')  # has more data; but when indexed should preform well\n",
    "control = pd.read_pickle(\"data/premade_data_all.pkl\")"
   ]
  },
  {
   "cell_type": "code",
   "execution_count": 7,
   "metadata": {},
   "outputs": [
    {
     "data": {
      "text/html": [
       "<div>\n",
       "<style scoped>\n",
       "    .dataframe tbody tr th:only-of-type {\n",
       "        vertical-align: middle;\n",
       "    }\n",
       "\n",
       "    .dataframe tbody tr th {\n",
       "        vertical-align: top;\n",
       "    }\n",
       "\n",
       "    .dataframe thead th {\n",
       "        text-align: right;\n",
       "    }\n",
       "</style>\n",
       "<table border=\"1\" class=\"dataframe\">\n",
       "  <thead>\n",
       "    <tr style=\"text-align: right;\">\n",
       "      <th></th>\n",
       "      <th>X</th>\n",
       "      <th>y</th>\n",
       "      <th>index</th>\n",
       "    </tr>\n",
       "  </thead>\n",
       "  <tbody>\n",
       "    <tr>\n",
       "      <th>0</th>\n",
       "      <td>[-0.7585194642073478, -0.7585194642073478, -0....</td>\n",
       "      <td>[-1.632862912807799, -1.632862912807799, -1.63...</td>\n",
       "      <td>0</td>\n",
       "    </tr>\n",
       "    <tr>\n",
       "      <th>1</th>\n",
       "      <td>[-0.7779893923724863, -0.7779893923724863, -0....</td>\n",
       "      <td>[-1.703897682407522, -1.703897682407522, -1.47...</td>\n",
       "      <td>1</td>\n",
       "    </tr>\n",
       "    <tr>\n",
       "      <th>2</th>\n",
       "      <td>[-0.7976091427589089, -0.7976091427589089, -0....</td>\n",
       "      <td>[-1.782999851892831, -1.5514414295690864, -1.5...</td>\n",
       "      <td>2</td>\n",
       "    </tr>\n",
       "    <tr>\n",
       "      <th>3</th>\n",
       "      <td>[-0.8175074722161106, -0.8175074722161106, -0....</td>\n",
       "      <td>[-1.6370549635770795, -1.6370549635770795, -1....</td>\n",
       "      <td>3</td>\n",
       "    </tr>\n",
       "    <tr>\n",
       "      <th>4</th>\n",
       "      <td>[-0.8377859869858639, -0.8377859869858639, -0....</td>\n",
       "      <td>[-1.7130445635821479, -1.7130445635821479, -1....</td>\n",
       "      <td>4</td>\n",
       "    </tr>\n",
       "    <tr>\n",
       "      <th>...</th>\n",
       "      <td>...</td>\n",
       "      <td>...</td>\n",
       "      <td>...</td>\n",
       "    </tr>\n",
       "    <tr>\n",
       "      <th>160962</th>\n",
       "      <td>[-0.11624763874380539, -0.11624763874380539, 0...</td>\n",
       "      <td>[1.9139640342315782, 1.261688073198421, 0.7025...</td>\n",
       "      <td>162362</td>\n",
       "    </tr>\n",
       "    <tr>\n",
       "      <th>160963</th>\n",
       "      <td>[-0.13945205043010517, 0.27070103907012877, 0....</td>\n",
       "      <td>[1.357624551977322, 0.7839803750854953, 0.3059...</td>\n",
       "      <td>162363</td>\n",
       "    </tr>\n",
       "    <tr>\n",
       "      <th>160964</th>\n",
       "      <td>[0.22194280274512782, 0.22194280274512782, 0.6...</td>\n",
       "      <td>[0.8395427112010607, 0.3581535419343974, -0.02...</td>\n",
       "      <td>162364</td>\n",
       "    </tr>\n",
       "    <tr>\n",
       "      <th>160965</th>\n",
       "      <td>[0.17425742638841127, 0.5530779185371246, 0.93...</td>\n",
       "      <td>[0.39508575304417465, 0.011507352030413276, -0...</td>\n",
       "      <td>162365</td>\n",
       "    </tr>\n",
       "    <tr>\n",
       "      <th>160966</th>\n",
       "      <td>[0.4650194082397905, 0.8173068387245186, 0.817...</td>\n",
       "      <td>[0.03992157365898957, -0.24523252390523015, -0...</td>\n",
       "      <td>162366</td>\n",
       "    </tr>\n",
       "  </tbody>\n",
       "</table>\n",
       "<p>160967 rows × 3 columns</p>\n",
       "</div>"
      ],
      "text/plain": [
       "                                                        X  \\\n",
       "0       [-0.7585194642073478, -0.7585194642073478, -0....   \n",
       "1       [-0.7779893923724863, -0.7779893923724863, -0....   \n",
       "2       [-0.7976091427589089, -0.7976091427589089, -0....   \n",
       "3       [-0.8175074722161106, -0.8175074722161106, -0....   \n",
       "4       [-0.8377859869858639, -0.8377859869858639, -0....   \n",
       "...                                                   ...   \n",
       "160962  [-0.11624763874380539, -0.11624763874380539, 0...   \n",
       "160963  [-0.13945205043010517, 0.27070103907012877, 0....   \n",
       "160964  [0.22194280274512782, 0.22194280274512782, 0.6...   \n",
       "160965  [0.17425742638841127, 0.5530779185371246, 0.93...   \n",
       "160966  [0.4650194082397905, 0.8173068387245186, 0.817...   \n",
       "\n",
       "                                                        y   index  \n",
       "0       [-1.632862912807799, -1.632862912807799, -1.63...       0  \n",
       "1       [-1.703897682407522, -1.703897682407522, -1.47...       1  \n",
       "2       [-1.782999851892831, -1.5514414295690864, -1.5...       2  \n",
       "3       [-1.6370549635770795, -1.6370549635770795, -1....       3  \n",
       "4       [-1.7130445635821479, -1.7130445635821479, -1....       4  \n",
       "...                                                   ...     ...  \n",
       "160962  [1.9139640342315782, 1.261688073198421, 0.7025...  162362  \n",
       "160963  [1.357624551977322, 0.7839803750854953, 0.3059...  162363  \n",
       "160964  [0.8395427112010607, 0.3581535419343974, -0.02...  162364  \n",
       "160965  [0.39508575304417465, 0.011507352030413276, -0...  162365  \n",
       "160966  [0.03992157365898957, -0.24523252390523015, -0...  162366  \n",
       "\n",
       "[160967 rows x 3 columns]"
      ]
     },
     "execution_count": 7,
     "metadata": {},
     "output_type": "execute_result"
    }
   ],
   "source": [
    "parkinson"
   ]
  },
  {
   "cell_type": "code",
   "execution_count": 8,
   "metadata": {},
   "outputs": [
    {
     "data": {
      "text/plain": [
       "[<matplotlib.lines.Line2D at 0x2520789b1d0>]"
      ]
     },
     "execution_count": 8,
     "metadata": {},
     "output_type": "execute_result"
    },
    {
     "data": {
      "image/png": "[encoded data removed]",
      "text/plain": [
       "<Figure size 640x480 with 1 Axes>"
      ]
     },
     "metadata": {},
     "output_type": "display_data"
    }
   ],
   "source": [
    "plt.plot(parkinson.iloc[1]['X'], parkinson.iloc[1]['y'])"
   ]
  },
  {
   "cell_type": "code",
   "execution_count": 9,
   "metadata": {},
   "outputs": [
    {
     "data": {
      "text/html": [
       "<div>\n",
       "<style scoped>\n",
       "    .dataframe tbody tr th:only-of-type {\n",
       "        vertical-align: middle;\n",
       "    }\n",
       "\n",
       "    .dataframe tbody tr th {\n",
       "        vertical-align: top;\n",
       "    }\n",
       "\n",
       "    .dataframe thead th {\n",
       "        text-align: right;\n",
       "    }\n",
       "</style>\n",
       "<table border=\"1\" class=\"dataframe\">\n",
       "  <thead>\n",
       "    <tr style=\"text-align: right;\">\n",
       "      <th></th>\n",
       "      <th>X</th>\n",
       "      <th>y</th>\n",
       "      <th>index</th>\n",
       "    </tr>\n",
       "  </thead>\n",
       "  <tbody>\n",
       "    <tr>\n",
       "      <th>0</th>\n",
       "      <td>[-1.5957367207642525, -1.5957367207642525, -1....</td>\n",
       "      <td>[1.4001876904675192, 1.4001876904675192, 1.400...</td>\n",
       "      <td>100</td>\n",
       "    </tr>\n",
       "    <tr>\n",
       "      <th>1</th>\n",
       "      <td>[-1.5957367207641846, -1.5957367207641846, -1....</td>\n",
       "      <td>[1.4518095247164289, 1.4518095247164289, 1.451...</td>\n",
       "      <td>101</td>\n",
       "    </tr>\n",
       "    <tr>\n",
       "      <th>2</th>\n",
       "      <td>[-1.5957367207642073, -1.5957367207642073, -1....</td>\n",
       "      <td>[1.5084025690018612, 1.5084025690018612, 1.508...</td>\n",
       "      <td>102</td>\n",
       "    </tr>\n",
       "    <tr>\n",
       "      <th>3</th>\n",
       "      <td>[-1.5312500000000024, -1.5312500000000024, -1....</td>\n",
       "      <td>[1.5612967535335225, 1.5612967535335225, 1.561...</td>\n",
       "      <td>103</td>\n",
       "    </tr>\n",
       "    <tr>\n",
       "      <th>4</th>\n",
       "      <td>[-1.4722339938012692, -1.4722339938012692, -1....</td>\n",
       "      <td>[1.6204340836068207, 1.6204340836068207, 1.620...</td>\n",
       "      <td>104</td>\n",
       "    </tr>\n",
       "    <tr>\n",
       "      <th>...</th>\n",
       "      <td>...</td>\n",
       "      <td>...</td>\n",
       "      <td>...</td>\n",
       "    </tr>\n",
       "    <tr>\n",
       "      <th>127732</th>\n",
       "      <td>[-1.4383093525060813, -1.5893922676852865, -1....</td>\n",
       "      <td>[1.2717089907347563, 1.3387115719115086, 1.338...</td>\n",
       "      <td>160125</td>\n",
       "    </tr>\n",
       "    <tr>\n",
       "      <th>127733</th>\n",
       "      <td>[-1.6561267709147742, -1.6561267709147742, -1....</td>\n",
       "      <td>[1.3908565787714071, 1.3908565787714071, 1.457...</td>\n",
       "      <td>160126</td>\n",
       "    </tr>\n",
       "    <tr>\n",
       "      <th>127734</th>\n",
       "      <td>[-1.7410190600064872, -1.7410190600064872, -1....</td>\n",
       "      <td>[1.4515057904657889, 1.5189236163118545, 1.586...</td>\n",
       "      <td>160127</td>\n",
       "    </tr>\n",
       "    <tr>\n",
       "      <th>127735</th>\n",
       "      <td>[-1.835470389878543, -1.9939738777782583, -1.9...</td>\n",
       "      <td>[1.5861865967510733, 1.6542925047266452, 1.688...</td>\n",
       "      <td>160128</td>\n",
       "    </tr>\n",
       "    <tr>\n",
       "      <th>127736</th>\n",
       "      <td>[-2.104234732625442, -2.104234732625442, -2.10...</td>\n",
       "      <td>[1.7343644552314839, 1.7689686941626788, 1.803...</td>\n",
       "      <td>160129</td>\n",
       "    </tr>\n",
       "  </tbody>\n",
       "</table>\n",
       "<p>127737 rows × 3 columns</p>\n",
       "</div>"
      ],
      "text/plain": [
       "                                                        X  \\\n",
       "0       [-1.5957367207642525, -1.5957367207642525, -1....   \n",
       "1       [-1.5957367207641846, -1.5957367207641846, -1....   \n",
       "2       [-1.5957367207642073, -1.5957367207642073, -1....   \n",
       "3       [-1.5312500000000024, -1.5312500000000024, -1....   \n",
       "4       [-1.4722339938012692, -1.4722339938012692, -1....   \n",
       "...                                                   ...   \n",
       "127732  [-1.4383093525060813, -1.5893922676852865, -1....   \n",
       "127733  [-1.6561267709147742, -1.6561267709147742, -1....   \n",
       "127734  [-1.7410190600064872, -1.7410190600064872, -1....   \n",
       "127735  [-1.835470389878543, -1.9939738777782583, -1.9...   \n",
       "127736  [-2.104234732625442, -2.104234732625442, -2.10...   \n",
       "\n",
       "                                                        y   index  \n",
       "0       [1.4001876904675192, 1.4001876904675192, 1.400...     100  \n",
       "1       [1.4518095247164289, 1.4518095247164289, 1.451...     101  \n",
       "2       [1.5084025690018612, 1.5084025690018612, 1.508...     102  \n",
       "3       [1.5612967535335225, 1.5612967535335225, 1.561...     103  \n",
       "4       [1.6204340836068207, 1.6204340836068207, 1.620...     104  \n",
       "...                                                   ...     ...  \n",
       "127732  [1.2717089907347563, 1.3387115719115086, 1.338...  160125  \n",
       "127733  [1.3908565787714071, 1.3908565787714071, 1.457...  160126  \n",
       "127734  [1.4515057904657889, 1.5189236163118545, 1.586...  160127  \n",
       "127735  [1.5861865967510733, 1.6542925047266452, 1.688...  160128  \n",
       "127736  [1.7343644552314839, 1.7689686941626788, 1.803...  160129  \n",
       "\n",
       "[127737 rows x 3 columns]"
      ]
     },
     "execution_count": 9,
     "metadata": {},
     "output_type": "execute_result"
    }
   ],
   "source": [
    "control"
   ]
  },
  {
   "cell_type": "code",
   "execution_count": 10,
   "metadata": {},
   "outputs": [
    {
     "name": "stdout",
     "output_type": "stream",
     "text": [
      "0.09586157728364925\n"
     ]
    },
    {
     "data": {
      "image/png": "[encoded data removed]",
      "text/plain": [
       "<Figure size 640x480 with 1 Axes>"
      ]
     },
     "metadata": {},
     "output_type": "display_data"
    }
   ],
   "source": [
    "from sklearn.metrics import mean_absolute_error\n",
    "r = control.iloc[200] #155\n",
    "r2 = parkinson.iloc[r['index']]\n",
    "print(mean_absolute_error(np.concatenate((r2['X'], r2['y']), axis=0), np.concatenate((r['X'], r['y']), axis=0)))\n",
    "plt.plot(r[\"X\"], r[\"y\"], label=\"control\")\n",
    "\n",
    "plt.plot(r2[\"X\"], r2[\"y\"], label=\"parkinson's\")\n",
    "plt.legend(loc=\"upper left\")\n",
    "plt.show()"
   ]
  },
  {
   "cell_type": "code",
   "execution_count": 11,
   "metadata": {},
   "outputs": [],
   "source": [
    "parkinson_mod = parkinson.loc[control['index']]"
   ]
  },
  {
   "cell_type": "code",
   "execution_count": 12,
   "metadata": {},
   "outputs": [],
   "source": [
    "control_X = np.array(control['X'])\n",
    "control_y = np.array(control['y'])\n",
    "parkinson_X = np.array(parkinson_mod['X'])\n",
    "parkinson_y = np.array(parkinson_mod['y'])"
   ]
  },
  {
   "cell_type": "code",
   "execution_count": 13,
   "metadata": {},
   "outputs": [
    {
     "name": "stderr",
     "output_type": "stream",
     "text": [
      "100%|██████████| 127737/127737 [00:00<00:00, 478093.05it/s]\n"
     ]
    }
   ],
   "source": [
    "X = []\n",
    "for i in tqdm.tqdm(range(len(control_X))):\n",
    "    exp = np.column_stack((control_X[i], control_y[i]))\n",
    "    X.append(exp)"
   ]
  },
  {
   "cell_type": "code",
   "execution_count": 14,
   "metadata": {},
   "outputs": [
    {
     "name": "stderr",
     "output_type": "stream",
     "text": [
      "100%|██████████| 127737/127737 [00:00<00:00, 466012.29it/s]\n"
     ]
    }
   ],
   "source": [
    "y = []\n",
    "for i in tqdm.tqdm(range(len(parkinson_X))):\n",
    "    exp = np.column_stack((parkinson_X[i], parkinson_y[i]))\n",
    "    y.append(exp)"
   ]
  },
  {
   "cell_type": "code",
   "execution_count": 15,
   "metadata": {},
   "outputs": [],
   "source": [
    "X = np.array(X)\n",
    "y = np.array(y)"
   ]
  },
  {
   "cell_type": "code",
   "execution_count": 16,
   "metadata": {},
   "outputs": [],
   "source": [
    "\n",
    "from sklearn.model_selection import train_test_split\n",
    "X_train, X_test, y_train, y_test = train_test_split(\n",
    "    X, y, test_size=0.33, random_state=42)"
   ]
  },
  {
   "cell_type": "code",
   "execution_count": 37,
   "metadata": {},
   "outputs": [
    {
     "name": "stdout",
     "output_type": "stream",
     "text": [
      "(85583, 50, 2)\n",
      "(85583, 50, 2)\n"
     ]
    }
   ],
   "source": [
    "print(X_train.shape)\n",
    "print(y_train.shape)"
   ]
  },
  {
   "cell_type": "code",
   "execution_count": 38,
   "metadata": {},
   "outputs": [
    {
     "name": "stdout",
     "output_type": "stream",
     "text": [
      "[[[ 2.14383503 -1.9202042 ]\n",
      "  [ 1.94310141 -1.9202042 ]\n",
      "  [ 1.74236779 -1.66886857]\n",
      "  ...\n",
      "  [-1.46937007  1.34715896]\n",
      "  [-1.46937007  1.59849459]\n",
      "  [-1.46937007  1.59849459]]\n",
      "\n",
      " [[-1.2588625  -1.33500792]\n",
      "  [-1.2588625  -1.33500792]\n",
      "  [-1.2588625  -1.33500792]\n",
      "  ...\n",
      "  [ 1.6185375   1.52981594]\n",
      "  [ 1.6185375   1.52981594]\n",
      "  [ 1.6185375   1.52981594]]\n",
      "\n",
      " [[-0.29488391  1.89121516]\n",
      "  [-0.29488391  1.89121516]\n",
      "  [-0.29488391  1.89121516]\n",
      "  ...\n",
      "  [ 3.39116499 -0.76002105]\n",
      "  [ 3.39116499 -0.76002105]\n",
      "  [ 3.39116499 -0.76002105]]\n",
      "\n",
      " ...\n",
      "\n",
      " [[-2.48617946 -2.36061042]\n",
      "  [-2.25295437 -2.36061042]\n",
      "  [-2.25295437 -2.36061042]\n",
      "  ...\n",
      "  [ 1.01219689  0.91801516]\n",
      "  [ 1.01219689  0.91801516]\n",
      "  [ 1.01219689  0.91801516]]\n",
      "\n",
      " [[ 1.86640436  1.7778312 ]\n",
      "  [ 1.86640436  1.7778312 ]\n",
      "  [ 1.86640436  1.7778312 ]\n",
      "  ...\n",
      "  [-1.40277525 -1.52976173]\n",
      "  [-1.40277525 -1.52976173]\n",
      "  [-1.40277525 -1.52976173]]\n",
      "\n",
      " [[-1.75491518  1.53557407]\n",
      "  [-1.63380302  1.53557407]\n",
      "  [-1.57324694  1.46609108]\n",
      "  ...\n",
      "  [ 1.51511311 -1.59116047]\n",
      "  [ 1.57566919 -1.66064346]\n",
      "  [ 1.57566919 -1.73012645]]]\n"
     ]
    }
   ],
   "source": [
    "print(y_train)"
   ]
  },
  {
   "cell_type": "code",
   "execution_count": 39,
   "metadata": {},
   "outputs": [
    {
     "data": {
      "text/plain": [
       "(50, 2)"
      ]
     },
     "execution_count": 39,
     "metadata": {},
     "output_type": "execute_result"
    }
   ],
   "source": [
    "X[0].shape"
   ]
  },
  {
   "cell_type": "code",
   "execution_count": 40,
   "metadata": {},
   "outputs": [
    {
     "name": "stderr",
     "output_type": "stream",
     "text": [
      "C:\\Users\\leahz\\AppData\\Roaming\\Python\\Python312\\site-packages\\keras\\src\\layers\\rnn\\rnn.py:200: UserWarning: Do not pass an `input_shape`/`input_dim` argument to a layer. When using Sequential models, prefer using an `Input(shape)` object as the first layer in the model instead.\n",
      "  super().__init__(**kwargs)\n"
     ]
    }
   ],
   "source": [
    "import tensorflow as tf\n",
    "from tensorflow.keras.models import Sequential\n",
    "from tensorflow.keras.layers import LSTM, Dense, TimeDistributed\n",
    "\n",
    "model = Sequential([\n",
    "    LSTM(64, return_sequences=True, input_shape=(None, 2)),  # Allow variable sequence lengths\n",
    "    LSTM(32, return_sequences=True),\n",
    "    TimeDistributed(Dense(2))\n",
    "])\n",
    "model.compile(optimizer='adam', loss='mse', metrics=['mae'])\n"
   ]
  },
  {
   "cell_type": "code",
   "execution_count": 41,
   "metadata": {},
   "outputs": [
    {
     "name": "stdout",
     "output_type": "stream",
     "text": [
      "Epoch 1/50\n",
      "\u001b[1m2140/2140\u001b[0m \u001b[32m━━━━━━━━━━━━━━━━━━━━\u001b[0m\u001b[37m\u001b[0m \u001b[1m48s\u001b[0m 21ms/step - loss: 0.2269 - mae: 0.2820 - val_loss: 0.1639 - val_mae: 0.2205\n",
      "Epoch 2/50\n",
      "\u001b[1m2140/2140\u001b[0m \u001b[32m━━━━━━━━━━━━━━━━━━━━\u001b[0m\u001b[37m\u001b[0m \u001b[1m69s\u001b[0m 32ms/step - loss: 0.1622 - mae: 0.2220 - val_loss: 0.1607 - val_mae: 0.2180\n",
      "Epoch 3/50\n",
      "\u001b[1m2140/2140\u001b[0m \u001b[32m━━━━━━━━━━━━━━━━━━━━\u001b[0m\u001b[37m\u001b[0m \u001b[1m54s\u001b[0m 25ms/step - loss: 0.1609 - mae: 0.2195 - val_loss: 0.1611 - val_mae: 0.2228\n",
      "Epoch 4/50\n",
      "\u001b[1m2140/2140\u001b[0m \u001b[32m━━━━━━━━━━━━━━━━━━━━\u001b[0m\u001b[37m\u001b[0m \u001b[1m42s\u001b[0m 20ms/step - loss: 0.1561 - mae: 0.2158 - val_loss: 0.1566 - val_mae: 0.2186\n",
      "Epoch 5/50\n",
      "\u001b[1m2140/2140\u001b[0m \u001b[32m━━━━━━━━━━━━━━━━━━━━\u001b[0m\u001b[37m\u001b[0m \u001b[1m43s\u001b[0m 20ms/step - loss: 0.1567 - mae: 0.2160 - val_loss: 0.1551 - val_mae: 0.2112\n",
      "Epoch 6/50\n",
      "\u001b[1m2140/2140\u001b[0m \u001b[32m━━━━━━━━━━━━━━━━━━━━\u001b[0m\u001b[37m\u001b[0m \u001b[1m42s\u001b[0m 20ms/step - loss: 0.1553 - mae: 0.2145 - val_loss: 0.1532 - val_mae: 0.2102\n",
      "Epoch 7/50\n",
      "\u001b[1m2140/2140\u001b[0m \u001b[32m━━━━━━━━━━━━━━━━━━━━\u001b[0m\u001b[37m\u001b[0m \u001b[1m43s\u001b[0m 20ms/step - loss: 0.1530 - mae: 0.2117 - val_loss: 0.1522 - val_mae: 0.2119\n",
      "Epoch 8/50\n",
      "\u001b[1m2140/2140\u001b[0m \u001b[32m━━━━━━━━━━━━━━━━━━━━\u001b[0m\u001b[37m\u001b[0m \u001b[1m70s\u001b[0m 32ms/step - loss: 0.1522 - mae: 0.2116 - val_loss: 0.1517 - val_mae: 0.2099\n",
      "Epoch 9/50\n",
      "\u001b[1m2140/2140\u001b[0m \u001b[32m━━━━━━━━━━━━━━━━━━━━\u001b[0m\u001b[37m\u001b[0m \u001b[1m104s\u001b[0m 48ms/step - loss: 0.1491 - mae: 0.2094 - val_loss: 0.1503 - val_mae: 0.2112\n",
      "Epoch 10/50\n",
      "\u001b[1m2140/2140\u001b[0m \u001b[32m━━━━━━━━━━━━━━━━━━━━\u001b[0m\u001b[37m\u001b[0m \u001b[1m48s\u001b[0m 23ms/step - loss: 0.1485 - mae: 0.2086 - val_loss: 0.1484 - val_mae: 0.2061\n",
      "Epoch 11/50\n",
      "\u001b[1m2140/2140\u001b[0m \u001b[32m━━━━━━━━━━━━━━━━━━━━\u001b[0m\u001b[37m\u001b[0m \u001b[1m44s\u001b[0m 21ms/step - loss: 0.1462 - mae: 0.2074 - val_loss: 0.1481 - val_mae: 0.2075\n",
      "Epoch 12/50\n",
      "\u001b[1m2140/2140\u001b[0m \u001b[32m━━━━━━━━━━━━━━━━━━━━\u001b[0m\u001b[37m\u001b[0m \u001b[1m45s\u001b[0m 21ms/step - loss: 0.1485 - mae: 0.2089 - val_loss: 0.1469 - val_mae: 0.2049\n",
      "Epoch 13/50\n",
      "\u001b[1m2140/2140\u001b[0m \u001b[32m━━━━━━━━━━━━━━━━━━━━\u001b[0m\u001b[37m\u001b[0m \u001b[1m59s\u001b[0m 27ms/step - loss: 0.1446 - mae: 0.2056 - val_loss: 0.1453 - val_mae: 0.2067\n",
      "Epoch 14/50\n",
      "\u001b[1m2140/2140\u001b[0m \u001b[32m━━━━━━━━━━━━━━━━━━━━\u001b[0m\u001b[37m\u001b[0m \u001b[1m102s\u001b[0m 48ms/step - loss: 0.1419 - mae: 0.2042 - val_loss: 0.1455 - val_mae: 0.2047\n",
      "Epoch 15/50\n",
      "\u001b[1m2140/2140\u001b[0m \u001b[32m━━━━━━━━━━━━━━━━━━━━\u001b[0m\u001b[37m\u001b[0m \u001b[1m85s\u001b[0m 40ms/step - loss: 0.1415 - mae: 0.2041 - val_loss: 0.1482 - val_mae: 0.2109\n",
      "Epoch 16/50\n",
      "\u001b[1m2140/2140\u001b[0m \u001b[32m━━━━━━━━━━━━━━━━━━━━\u001b[0m\u001b[37m\u001b[0m \u001b[1m105s\u001b[0m 49ms/step - loss: 0.1400 - mae: 0.2033 - val_loss: 0.1426 - val_mae: 0.2036\n",
      "Epoch 17/50\n",
      "\u001b[1m2140/2140\u001b[0m \u001b[32m━━━━━━━━━━━━━━━━━━━━\u001b[0m\u001b[37m\u001b[0m \u001b[1m115s\u001b[0m 54ms/step - loss: 0.1400 - mae: 0.2029 - val_loss: 0.1416 - val_mae: 0.2032\n",
      "Epoch 18/50\n",
      "\u001b[1m2140/2140\u001b[0m \u001b[32m━━━━━━━━━━━━━━━━━━━━\u001b[0m\u001b[37m\u001b[0m \u001b[1m109s\u001b[0m 51ms/step - loss: 0.1373 - mae: 0.2014 - val_loss: 0.1410 - val_mae: 0.2007\n",
      "Epoch 19/50\n",
      "\u001b[1m2140/2140\u001b[0m \u001b[32m━━━━━━━━━━━━━━━━━━━━\u001b[0m\u001b[37m\u001b[0m \u001b[1m112s\u001b[0m 52ms/step - loss: 0.1390 - mae: 0.2026 - val_loss: 0.1421 - val_mae: 0.2043\n",
      "Epoch 20/50\n",
      "\u001b[1m2140/2140\u001b[0m \u001b[32m━━━━━━━━━━━━━━━━━━━━\u001b[0m\u001b[37m\u001b[0m \u001b[1m49s\u001b[0m 23ms/step - loss: 0.1382 - mae: 0.2019 - val_loss: 0.1403 - val_mae: 0.2015\n",
      "Epoch 21/50\n",
      "\u001b[1m2140/2140\u001b[0m \u001b[32m━━━━━━━━━━━━━━━━━━━━\u001b[0m\u001b[37m\u001b[0m \u001b[1m46s\u001b[0m 22ms/step - loss: 0.1365 - mae: 0.2006 - val_loss: 0.1399 - val_mae: 0.2003\n",
      "Epoch 22/50\n",
      "\u001b[1m2140/2140\u001b[0m \u001b[32m━━━━━━━━━━━━━━━━━━━━\u001b[0m\u001b[37m\u001b[0m \u001b[1m110s\u001b[0m 51ms/step - loss: 0.1362 - mae: 0.2006 - val_loss: 0.1397 - val_mae: 0.2007\n",
      "Epoch 23/50\n",
      "\u001b[1m2140/2140\u001b[0m \u001b[32m━━━━━━━━━━━━━━━━━━━━\u001b[0m\u001b[37m\u001b[0m \u001b[1m110s\u001b[0m 51ms/step - loss: 0.1359 - mae: 0.2006 - val_loss: 0.1393 - val_mae: 0.1998\n",
      "Epoch 24/50\n",
      "\u001b[1m2140/2140\u001b[0m \u001b[32m━━━━━━━━━━━━━━━━━━━━\u001b[0m\u001b[37m\u001b[0m \u001b[1m114s\u001b[0m 53ms/step - loss: 0.1335 - mae: 0.1987 - val_loss: 0.1396 - val_mae: 0.2010\n",
      "Epoch 25/50\n",
      "\u001b[1m2140/2140\u001b[0m \u001b[32m━━━━━━━━━━━━━━━━━━━━\u001b[0m\u001b[37m\u001b[0m \u001b[1m113s\u001b[0m 53ms/step - loss: 0.1332 - mae: 0.1985 - val_loss: 0.1391 - val_mae: 0.2016\n",
      "Epoch 26/50\n",
      "\u001b[1m2140/2140\u001b[0m \u001b[32m━━━━━━━━━━━━━━━━━━━━\u001b[0m\u001b[37m\u001b[0m \u001b[1m108s\u001b[0m 51ms/step - loss: 0.1330 - mae: 0.1984 - val_loss: 0.1389 - val_mae: 0.2024\n",
      "Epoch 27/50\n",
      "\u001b[1m2140/2140\u001b[0m \u001b[32m━━━━━━━━━━━━━━━━━━━━\u001b[0m\u001b[37m\u001b[0m \u001b[1m109s\u001b[0m 51ms/step - loss: 0.1342 - mae: 0.1994 - val_loss: 0.1373 - val_mae: 0.2001\n",
      "Epoch 28/50\n",
      "\u001b[1m2140/2140\u001b[0m \u001b[32m━━━━━━━━━━━━━━━━━━━━\u001b[0m\u001b[37m\u001b[0m \u001b[1m112s\u001b[0m 52ms/step - loss: 0.1320 - mae: 0.1978 - val_loss: 0.1374 - val_mae: 0.1998\n",
      "Epoch 29/50\n",
      "\u001b[1m2140/2140\u001b[0m \u001b[32m━━━━━━━━━━━━━━━━━━━━\u001b[0m\u001b[37m\u001b[0m \u001b[1m115s\u001b[0m 54ms/step - loss: 0.1322 - mae: 0.1979 - val_loss: 0.1371 - val_mae: 0.1991\n",
      "Epoch 30/50\n",
      "\u001b[1m2140/2140\u001b[0m \u001b[32m━━━━━━━━━━━━━━━━━━━━\u001b[0m\u001b[37m\u001b[0m \u001b[1m110s\u001b[0m 52ms/step - loss: 0.1322 - mae: 0.1983 - val_loss: 0.1366 - val_mae: 0.2004\n",
      "Epoch 31/50\n",
      "\u001b[1m2140/2140\u001b[0m \u001b[32m━━━━━━━━━━━━━━━━━━━━\u001b[0m\u001b[37m\u001b[0m \u001b[1m115s\u001b[0m 54ms/step - loss: 0.1298 - mae: 0.1967 - val_loss: 0.1354 - val_mae: 0.1987\n",
      "Epoch 32/50\n",
      "\u001b[1m2140/2140\u001b[0m \u001b[32m━━━━━━━━━━━━━━━━━━━━\u001b[0m\u001b[37m\u001b[0m \u001b[1m101s\u001b[0m 47ms/step - loss: 0.1304 - mae: 0.1966 - val_loss: 0.1354 - val_mae: 0.1976\n",
      "Epoch 33/50\n",
      "\u001b[1m2140/2140\u001b[0m \u001b[32m━━━━━━━━━━━━━━━━━━━━\u001b[0m\u001b[37m\u001b[0m \u001b[1m108s\u001b[0m 50ms/step - loss: 0.1304 - mae: 0.1968 - val_loss: 0.1352 - val_mae: 0.1978\n",
      "Epoch 34/50\n",
      "\u001b[1m2140/2140\u001b[0m \u001b[32m━━━━━━━━━━━━━━━━━━━━\u001b[0m\u001b[37m\u001b[0m \u001b[1m102s\u001b[0m 48ms/step - loss: 0.1297 - mae: 0.1962 - val_loss: 0.1348 - val_mae: 0.1995\n",
      "Epoch 35/50\n",
      "\u001b[1m2140/2140\u001b[0m \u001b[32m━━━━━━━━━━━━━━━━━━━━\u001b[0m\u001b[37m\u001b[0m \u001b[1m99s\u001b[0m 46ms/step - loss: 0.1274 - mae: 0.1949 - val_loss: 0.1349 - val_mae: 0.1986\n",
      "Epoch 36/50\n",
      "\u001b[1m2140/2140\u001b[0m \u001b[32m━━━━━━━━━━━━━━━━━━━━\u001b[0m\u001b[37m\u001b[0m \u001b[1m53s\u001b[0m 25ms/step - loss: 0.1287 - mae: 0.1959 - val_loss: 0.1338 - val_mae: 0.1975\n",
      "Epoch 37/50\n",
      "\u001b[1m2140/2140\u001b[0m \u001b[32m━━━━━━━━━━━━━━━━━━━━\u001b[0m\u001b[37m\u001b[0m \u001b[1m45s\u001b[0m 21ms/step - loss: 0.1269 - mae: 0.1946 - val_loss: 0.1328 - val_mae: 0.1990\n",
      "Epoch 38/50\n",
      "\u001b[1m2140/2140\u001b[0m \u001b[32m━━━━━━━━━━━━━━━━━━━━\u001b[0m\u001b[37m\u001b[0m \u001b[1m46s\u001b[0m 22ms/step - loss: 0.1271 - mae: 0.1951 - val_loss: 0.1346 - val_mae: 0.2000\n",
      "Epoch 39/50\n",
      "\u001b[1m2140/2140\u001b[0m \u001b[32m━━━━━━━━━━━━━━━━━━━━\u001b[0m\u001b[37m\u001b[0m \u001b[1m42s\u001b[0m 19ms/step - loss: 0.1280 - mae: 0.1952 - val_loss: 0.1325 - val_mae: 0.1977\n",
      "Epoch 40/50\n",
      "\u001b[1m2140/2140\u001b[0m \u001b[32m━━━━━━━━━━━━━━━━━━━━\u001b[0m\u001b[37m\u001b[0m \u001b[1m43s\u001b[0m 20ms/step - loss: 0.1262 - mae: 0.1942 - val_loss: 0.1330 - val_mae: 0.1968\n",
      "Epoch 41/50\n",
      "\u001b[1m2140/2140\u001b[0m \u001b[32m━━━━━━━━━━━━━━━━━━━━\u001b[0m\u001b[37m\u001b[0m \u001b[1m47s\u001b[0m 22ms/step - loss: 0.1277 - mae: 0.1953 - val_loss: 0.1324 - val_mae: 0.1979\n",
      "Epoch 42/50\n",
      "\u001b[1m2140/2140\u001b[0m \u001b[32m━━━━━━━━━━━━━━━━━━━━\u001b[0m\u001b[37m\u001b[0m \u001b[1m44s\u001b[0m 21ms/step - loss: 0.1250 - mae: 0.1932 - val_loss: 0.1339 - val_mae: 0.1983\n",
      "Epoch 43/50\n",
      "\u001b[1m2140/2140\u001b[0m \u001b[32m━━━━━━━━━━━━━━━━━━━━\u001b[0m\u001b[37m\u001b[0m \u001b[1m44s\u001b[0m 21ms/step - loss: 0.1250 - mae: 0.1932 - val_loss: 0.1313 - val_mae: 0.1957\n",
      "Epoch 44/50\n",
      "\u001b[1m2140/2140\u001b[0m \u001b[32m━━━━━━━━━━━━━━━━━━━━\u001b[0m\u001b[37m\u001b[0m \u001b[1m44s\u001b[0m 21ms/step - loss: 0.1243 - mae: 0.1927 - val_loss: 0.1312 - val_mae: 0.1953\n",
      "Epoch 45/50\n",
      "\u001b[1m2140/2140\u001b[0m \u001b[32m━━━━━━━━━━━━━━━━━━━━\u001b[0m\u001b[37m\u001b[0m \u001b[1m45s\u001b[0m 21ms/step - loss: 0.1237 - mae: 0.1928 - val_loss: 0.1324 - val_mae: 0.1971\n",
      "Epoch 46/50\n",
      "\u001b[1m2140/2140\u001b[0m \u001b[32m━━━━━━━━━━━━━━━━━━━━\u001b[0m\u001b[37m\u001b[0m \u001b[1m41s\u001b[0m 19ms/step - loss: 0.1249 - mae: 0.1930 - val_loss: 0.1307 - val_mae: 0.1957\n",
      "Epoch 47/50\n",
      "\u001b[1m2140/2140\u001b[0m \u001b[32m━━━━━━━━━━━━━━━━━━━━\u001b[0m\u001b[37m\u001b[0m \u001b[1m44s\u001b[0m 21ms/step - loss: 0.1241 - mae: 0.1927 - val_loss: 0.1315 - val_mae: 0.1968\n",
      "Epoch 48/50\n",
      "\u001b[1m2140/2140\u001b[0m \u001b[32m━━━━━━━━━━━━━━━━━━━━\u001b[0m\u001b[37m\u001b[0m \u001b[1m44s\u001b[0m 21ms/step - loss: 0.1246 - mae: 0.1934 - val_loss: 0.1321 - val_mae: 0.1983\n",
      "Epoch 49/50\n",
      "\u001b[1m2140/2140\u001b[0m \u001b[32m━━━━━━━━━━━━━━━━━━━━\u001b[0m\u001b[37m\u001b[0m \u001b[1m60s\u001b[0m 28ms/step - loss: 0.1229 - mae: 0.1922 - val_loss: 0.1298 - val_mae: 0.1952\n",
      "Epoch 50/50\n",
      "\u001b[1m2140/2140\u001b[0m \u001b[32m━━━━━━━━━━━━━━━━━━━━\u001b[0m\u001b[37m\u001b[0m \u001b[1m123s\u001b[0m 57ms/step - loss: 0.1236 - mae: 0.1926 - val_loss: 0.1306 - val_mae: 0.1954\n"
     ]
    }
   ],
   "source": [
    "history = model.fit(\n",
    "    X_train, y_train,\n",
    "    validation_split=0.2,  # Use 20% of the data for validation\n",
    "    epochs=50,            # Number of training epochs\n",
    "    batch_size=32         # Adjust batch size if needed\n",
    ")"
   ]
  },
  {
   "cell_type": "code",
   "execution_count": 42,
   "metadata": {},
   "outputs": [],
   "source": [
    "model.save(\"./model/smoothing3_50.keras\")"
   ]
  },
  {
   "cell_type": "code",
   "execution_count": 17,
   "metadata": {},
   "outputs": [],
   "source": [
    "import tensorflow as tf\n",
    "from tensorflow.keras.models import Sequential\n",
    "from tensorflow.keras.layers import LSTM, Dense, TimeDistributed\n",
    "atp =  tf.keras.models.load_model('./model/smoothing3_50.keras')"
   ]
  },
  {
   "cell_type": "code",
   "execution_count": 18,
   "metadata": {},
   "outputs": [
    {
     "data": {
      "text/plain": [
       "<Sequential name=sequential, built=True>"
      ]
     },
     "execution_count": 18,
     "metadata": {},
     "output_type": "execute_result"
    }
   ],
   "source": [
    "atp"
   ]
  },
  {
   "cell_type": "code",
   "execution_count": 19,
   "metadata": {},
   "outputs": [
    {
     "name": "stdout",
     "output_type": "stream",
     "text": [
      "\u001b[1m1318/1318\u001b[0m \u001b[32m━━━━━━━━━━━━━━━━━━━━\u001b[0m\u001b[37m\u001b[0m \u001b[1m7s\u001b[0m 5ms/step - loss: 0.1301 - mae: 0.1963\n",
      "Test Loss: 0.12947909533977509, Test MAE: 0.19539004564285278\n",
      "\u001b[1m1318/1318\u001b[0m \u001b[32m━━━━━━━━━━━━━━━━━━━━\u001b[0m\u001b[37m\u001b[0m \u001b[1m22s\u001b[0m 17ms/step\n"
     ]
    },
    {
     "ename": "ValueError",
     "evalue": "Exception encountered when calling Sequential.call().\n\n\u001b[1mCannot take the length of shape with unknown rank.\u001b[0m\n\nArguments received by Sequential.call():\n  • inputs=tf.Tensor(shape=<unknown>, dtype=float32)\n  • training=False\n  • mask=None",
     "output_type": "error",
     "traceback": [
      "\u001b[1;31m---------------------------------------------------------------------------\u001b[0m",
      "\u001b[1;31mValueError\u001b[0m                                Traceback (most recent call last)",
      "Cell \u001b[1;32mIn[19], line 10\u001b[0m\n\u001b[0;32m      8\u001b[0m \u001b[38;5;66;03m# Example: Predict the blue line for a new orange line\u001b[39;00m\n\u001b[0;32m      9\u001b[0m new_orange_line \u001b[38;5;241m=\u001b[39m np\u001b[38;5;241m.\u001b[39marray([\u001b[38;5;241m-\u001b[39m\u001b[38;5;241m2.1832400154313\u001b[39m] \u001b[38;5;241m*\u001b[39m X\u001b[38;5;241m.\u001b[39mshape[\u001b[38;5;241m1\u001b[39m])  \u001b[38;5;66;03m# Replace with actual data\u001b[39;00m\n\u001b[1;32m---> 10\u001b[0m predicted_blue_line \u001b[38;5;241m=\u001b[39m \u001b[43matp\u001b[49m\u001b[38;5;241;43m.\u001b[39;49m\u001b[43mpredict\u001b[49m\u001b[43m(\u001b[49m\u001b[43mnew_orange_line\u001b[49m\u001b[38;5;241;43m.\u001b[39;49m\u001b[43mreshape\u001b[49m\u001b[43m(\u001b[49m\u001b[38;5;241;43m1\u001b[39;49m\u001b[43m,\u001b[49m\u001b[43m \u001b[49m\u001b[38;5;241;43m-\u001b[39;49m\u001b[38;5;241;43m1\u001b[39;49m\u001b[43m)\u001b[49m\u001b[43m)\u001b[49m\n\u001b[0;32m     11\u001b[0m \u001b[38;5;28mprint\u001b[39m(\u001b[38;5;124m\"\u001b[39m\u001b[38;5;124mPredicted Blue Line:\u001b[39m\u001b[38;5;124m\"\u001b[39m, predicted_blue_line)\n",
      "File \u001b[1;32m~\\AppData\\Roaming\\Python\\Python312\\site-packages\\keras\\src\\utils\\traceback_utils.py:122\u001b[0m, in \u001b[0;36mfilter_traceback.<locals>.error_handler\u001b[1;34m(*args, **kwargs)\u001b[0m\n\u001b[0;32m    119\u001b[0m     filtered_tb \u001b[38;5;241m=\u001b[39m _process_traceback_frames(e\u001b[38;5;241m.\u001b[39m__traceback__)\n\u001b[0;32m    120\u001b[0m     \u001b[38;5;66;03m# To get the full stack trace, call:\u001b[39;00m\n\u001b[0;32m    121\u001b[0m     \u001b[38;5;66;03m# `keras.config.disable_traceback_filtering()`\u001b[39;00m\n\u001b[1;32m--> 122\u001b[0m     \u001b[38;5;28;01mraise\u001b[39;00m e\u001b[38;5;241m.\u001b[39mwith_traceback(filtered_tb) \u001b[38;5;28;01mfrom\u001b[39;00m\u001b[38;5;250m \u001b[39m\u001b[38;5;28;01mNone\u001b[39;00m\n\u001b[0;32m    123\u001b[0m \u001b[38;5;28;01mfinally\u001b[39;00m:\n\u001b[0;32m    124\u001b[0m     \u001b[38;5;28;01mdel\u001b[39;00m filtered_tb\n",
      "File \u001b[1;32m~\\AppData\\Roaming\\Python\\Python312\\site-packages\\keras\\src\\utils\\traceback_utils.py:122\u001b[0m, in \u001b[0;36mfilter_traceback.<locals>.error_handler\u001b[1;34m(*args, **kwargs)\u001b[0m\n\u001b[0;32m    119\u001b[0m     filtered_tb \u001b[38;5;241m=\u001b[39m _process_traceback_frames(e\u001b[38;5;241m.\u001b[39m__traceback__)\n\u001b[0;32m    120\u001b[0m     \u001b[38;5;66;03m# To get the full stack trace, call:\u001b[39;00m\n\u001b[0;32m    121\u001b[0m     \u001b[38;5;66;03m# `keras.config.disable_traceback_filtering()`\u001b[39;00m\n\u001b[1;32m--> 122\u001b[0m     \u001b[38;5;28;01mraise\u001b[39;00m e\u001b[38;5;241m.\u001b[39mwith_traceback(filtered_tb) \u001b[38;5;28;01mfrom\u001b[39;00m\u001b[38;5;250m \u001b[39m\u001b[38;5;28;01mNone\u001b[39;00m\n\u001b[0;32m    123\u001b[0m \u001b[38;5;28;01mfinally\u001b[39;00m:\n\u001b[0;32m    124\u001b[0m     \u001b[38;5;28;01mdel\u001b[39;00m filtered_tb\n",
      "\u001b[1;31mValueError\u001b[0m: Exception encountered when calling Sequential.call().\n\n\u001b[1mCannot take the length of shape with unknown rank.\u001b[0m\n\nArguments received by Sequential.call():\n  • inputs=tf.Tensor(shape=<unknown>, dtype=float32)\n  • training=False\n  • mask=None"
     ]
    }
   ],
   "source": [
    "\n",
    "# Evaluate the model\n",
    "test_loss, test_mae = atp.evaluate(X_test, y_test)\n",
    "print(f\"Test Loss: {test_loss}, Test MAE: {test_mae}\")\n",
    "\n",
    "# Make predictions\n",
    "predictions = atp.predict(X_test)\n",
    "\n",
    "# Example: Predict the blue line for a new orange line\n",
    "new_orange_line = np.array([-2.1832400154313] * X.shape[1])  # Replace with actual data\n",
    "predicted_blue_line = atp.predict(new_orange_line.reshape(1, -1))\n",
    "print(\"Predicted Blue Line:\", predicted_blue_line)"
   ]
  },
  {
   "cell_type": "code",
   "execution_count": null,
   "metadata": {},
   "outputs": [],
   "source": []
  }
 ],
 "metadata": {
  "kernelspec": {
   "display_name": "AIR",
   "language": "python",
   "name": "python3"
  },
  "language_info": {
   "codemirror_mode": {
    "name": "ipython",
    "version": 3
   },
   "file_extension": ".py",
   "mimetype": "text/x-python",
   "name": "python",
   "nbconvert_exporter": "python",
   "pygments_lexer": "ipython3",
   "version": "3.12.8"
  }
 },
 "nbformat": 4,
 "nbformat_minor": 2
}
