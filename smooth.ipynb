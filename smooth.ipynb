{
 "cells": [
  {
   "cell_type": "code",
   "execution_count": 28,
   "metadata": {},
   "outputs": [],
   "source": [
    "import pandas as pd \n",
    "import matplotlib.pyplot as plt \n",
    "import numpy as np "
   ]
  },
  {
   "cell_type": "markdown",
   "metadata": {},
   "source": [
    "# Experimenting and Precode"
   ]
  },
  {
   "cell_type": "code",
   "execution_count": 47,
   "metadata": {},
   "outputs": [],
   "source": [
    "base = \"C:/Users/leahz/OneDrive/Desktop/Quizlet/ATC4/SYSlab\"\n",
    "\n",
    "# with open(f'{base}/data/data_all.pkl', 'rb') as f:\n",
    "#     data =  pickle.load(f)\n",
    "data_premade = pd.read_pickle(f'{base}/data/data_all.pkl') # This is the data after being preprocessed has index not filename\n",
    "data_original = pd.read_pickle(f'G:/My Drive/Sys Lab/modified_data/new/modified_all.pkl') # This is the orginal data, it has the filename\n",
    "data_spirals = pd.read_pickle(f\"{base}/data/data_original_spiral.pkl\")\n",
    "\n",
    "leng = range(len(data_premade))"
   ]
  },
  {
   "cell_type": "code",
   "execution_count": 31,
   "metadata": {},
   "outputs": [
    {
     "data": {
      "text/html": [
       "<div>\n",
       "<style scoped>\n",
       "    .dataframe tbody tr th:only-of-type {\n",
       "        vertical-align: middle;\n",
       "    }\n",
       "\n",
       "    .dataframe tbody tr th {\n",
       "        vertical-align: top;\n",
       "    }\n",
       "\n",
       "    .dataframe thead th {\n",
       "        text-align: right;\n",
       "    }\n",
       "</style>\n",
       "<table border=\"1\" class=\"dataframe\">\n",
       "  <thead>\n",
       "    <tr style=\"text-align: right;\">\n",
       "      <th></th>\n",
       "      <th>X</th>\n",
       "      <th>y</th>\n",
       "      <th>index</th>\n",
       "      <th>target</th>\n",
       "    </tr>\n",
       "  </thead>\n",
       "  <tbody>\n",
       "    <tr>\n",
       "      <th>0</th>\n",
       "      <td>[-2.056546340567396, -2.056546340567396, -1.47...</td>\n",
       "      <td>[-1.3952663046302018, -1.3952663046302018, -1....</td>\n",
       "      <td>70473</td>\n",
       "      <td>[1.4489303763088408, 1.8748890968469032]</td>\n",
       "    </tr>\n",
       "    <tr>\n",
       "      <th>1</th>\n",
       "      <td>[1.66737406371331, 1.66737406371331, 1.6673740...</td>\n",
       "      <td>[-1.9952172111690554, -1.9952172111690554, -1....</td>\n",
       "      <td>74844</td>\n",
       "      <td>[-1.7725966988020012, 2.7933040956366777]</td>\n",
       "    </tr>\n",
       "    <tr>\n",
       "      <th>2</th>\n",
       "      <td>[0.18022639872047436, -0.056913599595946544, -...</td>\n",
       "      <td>[-1.6533837631420183, -1.5283169126774179, -1....</td>\n",
       "      <td>95145</td>\n",
       "      <td>[2.788766380201092, 1.973554900331396]</td>\n",
       "    </tr>\n",
       "    <tr>\n",
       "      <th>3</th>\n",
       "      <td>[-1.8480943565342245, -1.7263490102539736, -1....</td>\n",
       "      <td>[1.803269661665738, 1.3158994828371586, 1.3158...</td>\n",
       "      <td>55640</td>\n",
       "      <td>[1.499902666172703, -2.0956917689628964]</td>\n",
       "    </tr>\n",
       "    <tr>\n",
       "      <th>4</th>\n",
       "      <td>[-2.2259955480133455, -1.8726629213445662, -1....</td>\n",
       "      <td>[1.7763555742918122, 1.680749784502156, 1.4895...</td>\n",
       "      <td>31735</td>\n",
       "      <td>[2.0139959720120904, -2.0478760172944392]</td>\n",
       "    </tr>\n",
       "    <tr>\n",
       "      <th>...</th>\n",
       "      <td>...</td>\n",
       "      <td>...</td>\n",
       "      <td>...</td>\n",
       "      <td>...</td>\n",
       "    </tr>\n",
       "    <tr>\n",
       "      <th>32189</th>\n",
       "      <td>[-1.9470036496822107, -1.9470036496822107, -1....</td>\n",
       "      <td>[-2.201704178130174, -2.201704178130174, -2.20...</td>\n",
       "      <td>139013</td>\n",
       "      <td>[1.7265881421710167, 1.7704425349912787]</td>\n",
       "    </tr>\n",
       "    <tr>\n",
       "      <th>32190</th>\n",
       "      <td>[2.2845990353241943, 2.2845990353241943, 2.284...</td>\n",
       "      <td>[2.1226745220209273, 2.1226745220209273, 2.122...</td>\n",
       "      <td>93198</td>\n",
       "      <td>[-0.8449886842978346, -1.288766674084138]</td>\n",
       "    </tr>\n",
       "    <tr>\n",
       "      <th>32191</th>\n",
       "      <td>[1.6461582494510627, 1.4821982644459757, 1.482...</td>\n",
       "      <td>[-1.5432260242699338, -1.444554283587713, -1.4...</td>\n",
       "      <td>42403</td>\n",
       "      <td>[-1.633041450650661, 1.7129414182433536]</td>\n",
       "    </tr>\n",
       "    <tr>\n",
       "      <th>32192</th>\n",
       "      <td>[-1.9279335090084688, -1.9279335090084688, -1....</td>\n",
       "      <td>[-0.8164965809276795, -0.8164965809276795, -0....</td>\n",
       "      <td>62161</td>\n",
       "      <td>[1.2675363954254597, 1.2247448713916351]</td>\n",
       "    </tr>\n",
       "    <tr>\n",
       "      <th>32193</th>\n",
       "      <td>[2.085647512825636, 1.939798036404263, 1.79394...</td>\n",
       "      <td>[2.936303306891295, 2.936303306891295, 1.63705...</td>\n",
       "      <td>27490</td>\n",
       "      <td>[-1.2688904448659606, 0.33780480521758033]</td>\n",
       "    </tr>\n",
       "  </tbody>\n",
       "</table>\n",
       "<p>160967 rows × 4 columns</p>\n",
       "</div>"
      ],
      "text/plain": [
       "                                                       X  \\\n",
       "0      [-2.056546340567396, -2.056546340567396, -1.47...   \n",
       "1      [1.66737406371331, 1.66737406371331, 1.6673740...   \n",
       "2      [0.18022639872047436, -0.056913599595946544, -...   \n",
       "3      [-1.8480943565342245, -1.7263490102539736, -1....   \n",
       "4      [-2.2259955480133455, -1.8726629213445662, -1....   \n",
       "...                                                  ...   \n",
       "32189  [-1.9470036496822107, -1.9470036496822107, -1....   \n",
       "32190  [2.2845990353241943, 2.2845990353241943, 2.284...   \n",
       "32191  [1.6461582494510627, 1.4821982644459757, 1.482...   \n",
       "32192  [-1.9279335090084688, -1.9279335090084688, -1....   \n",
       "32193  [2.085647512825636, 1.939798036404263, 1.79394...   \n",
       "\n",
       "                                                       y   index  \\\n",
       "0      [-1.3952663046302018, -1.3952663046302018, -1....   70473   \n",
       "1      [-1.9952172111690554, -1.9952172111690554, -1....   74844   \n",
       "2      [-1.6533837631420183, -1.5283169126774179, -1....   95145   \n",
       "3      [1.803269661665738, 1.3158994828371586, 1.3158...   55640   \n",
       "4      [1.7763555742918122, 1.680749784502156, 1.4895...   31735   \n",
       "...                                                  ...     ...   \n",
       "32189  [-2.201704178130174, -2.201704178130174, -2.20...  139013   \n",
       "32190  [2.1226745220209273, 2.1226745220209273, 2.122...   93198   \n",
       "32191  [-1.5432260242699338, -1.444554283587713, -1.4...   42403   \n",
       "32192  [-0.8164965809276795, -0.8164965809276795, -0....   62161   \n",
       "32193  [2.936303306891295, 2.936303306891295, 1.63705...   27490   \n",
       "\n",
       "                                           target  \n",
       "0        [1.4489303763088408, 1.8748890968469032]  \n",
       "1       [-1.7725966988020012, 2.7933040956366777]  \n",
       "2          [2.788766380201092, 1.973554900331396]  \n",
       "3        [1.499902666172703, -2.0956917689628964]  \n",
       "4       [2.0139959720120904, -2.0478760172944392]  \n",
       "...                                           ...  \n",
       "32189    [1.7265881421710167, 1.7704425349912787]  \n",
       "32190   [-0.8449886842978346, -1.288766674084138]  \n",
       "32191    [-1.633041450650661, 1.7129414182433536]  \n",
       "32192    [1.2675363954254597, 1.2247448713916351]  \n",
       "32193  [-1.2688904448659606, 0.33780480521758033]  \n",
       "\n",
       "[160967 rows x 4 columns]"
      ]
     },
     "execution_count": 31,
     "metadata": {},
     "output_type": "execute_result"
    }
   ],
   "source": [
    "data_premade"
   ]
  },
  {
   "cell_type": "code",
   "execution_count": 4,
   "metadata": {},
   "outputs": [],
   "source": [
    "def taylor_smooth(t, f, window_size=5):\n",
    "    smoothed = np.zeros_like(f)\n",
    "    half_window = window_size // 2\n",
    "    \n",
    "    for i in range(len(f)):\n",
    "        start = max(0, i - half_window)\n",
    "        end = min(len(f), i + half_window + 1)\n",
    "        local_t = t[start:end]\n",
    "        local_f = f[start:end]\n",
    "        coeffs = np.polyfit(local_t - t[i], local_f, 1)\n",
    "        smoothed[i] = np.polyval(coeffs, 0)  # Evaluate at t[i]\n",
    "    \n",
    "    return smoothed"
   ]
  },
  {
   "cell_type": "code",
   "execution_count": 5,
   "metadata": {},
   "outputs": [],
   "source": [
    "tempx = data_premade['X'].iloc[10]\n",
    "tempy = data_premade['y'].iloc[10]\n",
    "t = np.linspace(0, len(tempy)) \n"
   ]
  },
  {
   "cell_type": "code",
   "execution_count": 6,
   "metadata": {},
   "outputs": [
    {
     "data": {
      "image/png": "[encoded data removed]",
      "text/plain": [
       "<Figure size 1000x500 with 1 Axes>"
      ]
     },
     "metadata": {},
     "output_type": "display_data"
    }
   ],
   "source": [
    "# Smooth x and y curves\n",
    "x_smooth = taylor_smooth(t, tempx)\n",
    "y_smooth = taylor_smooth(t, tempy)\n",
    "\n",
    "# Plot original and smoothed curves\n",
    "plt.figure(figsize=(10, 5))\n",
    "plt.plot(tempx, tempy, label='Original Data', alpha=0.5)\n",
    "plt.plot(x_smooth, y_smooth, label='Smoothed Curve', linewidth=2)\n",
    "plt.legend()\n",
    "plt.xlabel('x')\n",
    "plt.ylabel('y')\n",
    "plt.title('Curve Smoothing Using Taylor Series')\n",
    "plt.show()"
   ]
  },
  {
   "cell_type": "code",
   "execution_count": 7,
   "metadata": {},
   "outputs": [
    {
     "data": {
      "image/png": "[encoded data removed]",
      "text/plain": [
       "<Figure size 640x480 with 1 Axes>"
      ]
     },
     "metadata": {},
     "output_type": "display_data"
    }
   ],
   "source": [
    "import numpy as np\n",
    "import matplotlib.pyplot as plt\n",
    "from scipy.signal import savgol_filter\n",
    "\n",
    "\n",
    "xhat = savgol_filter(tempx, 49, 3)\n",
    "yhat = savgol_filter(tempy, 49, 3) \n",
    "\n",
    "plt.plot(tempx,tempy)\n",
    "plt.plot(xhat,yhat, color='red')\n",
    "plt.show()\n"
   ]
  },
  {
   "cell_type": "markdown",
   "metadata": {},
   "source": [
    "# ML Approach"
   ]
  },
  {
   "cell_type": "code",
   "execution_count": 32,
   "metadata": {},
   "outputs": [],
   "source": [
    "controls = pd.read_pickle(\"./data/controls.pkl\")\n",
    "data_original = pd.read_pickle(f'G:/My Drive/Sys Lab/modified_data/new/modified_all.pkl') # This is the orginal data, it has the filename\n"
   ]
  },
  {
   "cell_type": "code",
   "execution_count": 33,
   "metadata": {},
   "outputs": [
    {
     "data": {
      "text/html": [
       "<div>\n",
       "<style scoped>\n",
       "    .dataframe tbody tr th:only-of-type {\n",
       "        vertical-align: middle;\n",
       "    }\n",
       "\n",
       "    .dataframe tbody tr th {\n",
       "        vertical-align: top;\n",
       "    }\n",
       "\n",
       "    .dataframe thead th {\n",
       "        text-align: right;\n",
       "    }\n",
       "</style>\n",
       "<table border=\"1\" class=\"dataframe\">\n",
       "  <thead>\n",
       "    <tr style=\"text-align: right;\">\n",
       "      <th></th>\n",
       "      <th>Filename</th>\n",
       "      <th>index</th>\n",
       "      <th>angle</th>\n",
       "      <th>X</th>\n",
       "      <th>y</th>\n",
       "      <th>length</th>\n",
       "    </tr>\n",
       "  </thead>\n",
       "  <tbody>\n",
       "    <tr>\n",
       "      <th>0</th>\n",
       "      <td>./data/hw_dataset/parkinson/P_02100001.txt</td>\n",
       "      <td>51</td>\n",
       "      <td>144</td>\n",
       "      <td>[197.8960113960114, 197.8960113960114, 197.896...</td>\n",
       "      <td>[207.0, 207.0, 207.0, 208.0, 208.0, 208.0, 209...</td>\n",
       "      <td>50</td>\n",
       "    </tr>\n",
       "    <tr>\n",
       "      <th>1</th>\n",
       "      <td>./data/hw_dataset/parkinson/P_02100001.txt</td>\n",
       "      <td>52</td>\n",
       "      <td>21</td>\n",
       "      <td>[197.8960113960114, 197.8960113960114, 197.896...</td>\n",
       "      <td>[207.0, 207.0, 208.0, 208.0, 208.0, 209.0, 209...</td>\n",
       "      <td>50</td>\n",
       "    </tr>\n",
       "    <tr>\n",
       "      <th>2</th>\n",
       "      <td>./data/hw_dataset/parkinson/P_02100001.txt</td>\n",
       "      <td>53</td>\n",
       "      <td>117</td>\n",
       "      <td>[197.8960113960114, 197.8960113960114, 197.896...</td>\n",
       "      <td>[207.0, 208.0, 208.0, 208.0, 209.0, 209.0, 209...</td>\n",
       "      <td>50</td>\n",
       "    </tr>\n",
       "    <tr>\n",
       "      <th>3</th>\n",
       "      <td>./data/hw_dataset/parkinson/P_02100001.txt</td>\n",
       "      <td>54</td>\n",
       "      <td>282</td>\n",
       "      <td>[197.8960113960114, 197.8960113960114, 197.896...</td>\n",
       "      <td>[208.0, 208.0, 208.0, 209.0, 209.0, 209.0, 209...</td>\n",
       "      <td>50</td>\n",
       "    </tr>\n",
       "    <tr>\n",
       "      <th>4</th>\n",
       "      <td>./data/hw_dataset/parkinson/P_02100001.txt</td>\n",
       "      <td>55</td>\n",
       "      <td>142</td>\n",
       "      <td>[197.8960113960114, 197.8960113960114, 197.896...</td>\n",
       "      <td>[208.0, 208.0, 209.0, 209.0, 209.0, 209.0, 210...</td>\n",
       "      <td>50</td>\n",
       "    </tr>\n",
       "    <tr>\n",
       "      <th>...</th>\n",
       "      <td>...</td>\n",
       "      <td>...</td>\n",
       "      <td>...</td>\n",
       "      <td>...</td>\n",
       "      <td>...</td>\n",
       "      <td>...</td>\n",
       "    </tr>\n",
       "    <tr>\n",
       "      <th>162362</th>\n",
       "      <td>./data/new_dataset/parkinson/H_p000-0043.txt</td>\n",
       "      <td>1755</td>\n",
       "      <td>19</td>\n",
       "      <td>[395.7121409921671, 395.7121409921671, 396.676...</td>\n",
       "      <td>[215.0, 208.0, 202.0, 197.0, 193.0, 190.0, 188...</td>\n",
       "      <td>50</td>\n",
       "    </tr>\n",
       "    <tr>\n",
       "      <th>162363</th>\n",
       "      <td>./data/new_dataset/parkinson/H_p000-0043.txt</td>\n",
       "      <td>1756</td>\n",
       "      <td>35</td>\n",
       "      <td>[395.7121409921671, 396.6762402088773, 396.676...</td>\n",
       "      <td>[208.0, 202.0, 197.0, 193.0, 190.0, 188.0, 186...</td>\n",
       "      <td>50</td>\n",
       "    </tr>\n",
       "    <tr>\n",
       "      <th>162364</th>\n",
       "      <td>./data/new_dataset/parkinson/H_p000-0043.txt</td>\n",
       "      <td>1757</td>\n",
       "      <td>199</td>\n",
       "      <td>[396.6762402088773, 396.6762402088773, 397.640...</td>\n",
       "      <td>[202.0, 197.0, 193.0, 190.0, 188.0, 186.0, 186...</td>\n",
       "      <td>50</td>\n",
       "    </tr>\n",
       "    <tr>\n",
       "      <th>162365</th>\n",
       "      <td>./data/new_dataset/parkinson/H_p000-0043.txt</td>\n",
       "      <td>1758</td>\n",
       "      <td>306</td>\n",
       "      <td>[396.6762402088773, 397.64033942558746, 398.60...</td>\n",
       "      <td>[197.0, 193.0, 190.0, 188.0, 186.0, 186.0, 186...</td>\n",
       "      <td>50</td>\n",
       "    </tr>\n",
       "    <tr>\n",
       "      <th>162366</th>\n",
       "      <td>./data/new_dataset/parkinson/H_p000-0043.txt</td>\n",
       "      <td>1759</td>\n",
       "      <td>229</td>\n",
       "      <td>[397.64033942558746, 398.6044386422977, 398.60...</td>\n",
       "      <td>[193.0, 190.0, 188.0, 186.0, 186.0, 186.0, 187...</td>\n",
       "      <td>50</td>\n",
       "    </tr>\n",
       "  </tbody>\n",
       "</table>\n",
       "<p>162367 rows × 6 columns</p>\n",
       "</div>"
      ],
      "text/plain": [
       "                                            Filename  index  angle  \\\n",
       "0         ./data/hw_dataset/parkinson/P_02100001.txt     51    144   \n",
       "1         ./data/hw_dataset/parkinson/P_02100001.txt     52     21   \n",
       "2         ./data/hw_dataset/parkinson/P_02100001.txt     53    117   \n",
       "3         ./data/hw_dataset/parkinson/P_02100001.txt     54    282   \n",
       "4         ./data/hw_dataset/parkinson/P_02100001.txt     55    142   \n",
       "...                                              ...    ...    ...   \n",
       "162362  ./data/new_dataset/parkinson/H_p000-0043.txt   1755     19   \n",
       "162363  ./data/new_dataset/parkinson/H_p000-0043.txt   1756     35   \n",
       "162364  ./data/new_dataset/parkinson/H_p000-0043.txt   1757    199   \n",
       "162365  ./data/new_dataset/parkinson/H_p000-0043.txt   1758    306   \n",
       "162366  ./data/new_dataset/parkinson/H_p000-0043.txt   1759    229   \n",
       "\n",
       "                                                        X  \\\n",
       "0       [197.8960113960114, 197.8960113960114, 197.896...   \n",
       "1       [197.8960113960114, 197.8960113960114, 197.896...   \n",
       "2       [197.8960113960114, 197.8960113960114, 197.896...   \n",
       "3       [197.8960113960114, 197.8960113960114, 197.896...   \n",
       "4       [197.8960113960114, 197.8960113960114, 197.896...   \n",
       "...                                                   ...   \n",
       "162362  [395.7121409921671, 395.7121409921671, 396.676...   \n",
       "162363  [395.7121409921671, 396.6762402088773, 396.676...   \n",
       "162364  [396.6762402088773, 396.6762402088773, 397.640...   \n",
       "162365  [396.6762402088773, 397.64033942558746, 398.60...   \n",
       "162366  [397.64033942558746, 398.6044386422977, 398.60...   \n",
       "\n",
       "                                                        y  length  \n",
       "0       [207.0, 207.0, 207.0, 208.0, 208.0, 208.0, 209...      50  \n",
       "1       [207.0, 207.0, 208.0, 208.0, 208.0, 209.0, 209...      50  \n",
       "2       [207.0, 208.0, 208.0, 208.0, 209.0, 209.0, 209...      50  \n",
       "3       [208.0, 208.0, 208.0, 209.0, 209.0, 209.0, 209...      50  \n",
       "4       [208.0, 208.0, 209.0, 209.0, 209.0, 209.0, 210...      50  \n",
       "...                                                   ...     ...  \n",
       "162362  [215.0, 208.0, 202.0, 197.0, 193.0, 190.0, 188...      50  \n",
       "162363  [208.0, 202.0, 197.0, 193.0, 190.0, 188.0, 186...      50  \n",
       "162364  [202.0, 197.0, 193.0, 190.0, 188.0, 186.0, 186...      50  \n",
       "162365  [197.0, 193.0, 190.0, 188.0, 186.0, 186.0, 186...      50  \n",
       "162366  [193.0, 190.0, 188.0, 186.0, 186.0, 186.0, 187...      50  \n",
       "\n",
       "[162367 rows x 6 columns]"
      ]
     },
     "execution_count": 33,
     "metadata": {},
     "output_type": "execute_result"
    }
   ],
   "source": [
    "data_original"
   ]
  },
  {
   "cell_type": "code",
   "execution_count": 49,
   "metadata": {},
   "outputs": [
    {
     "data": {
      "text/plain": [
       "[<matplotlib.lines.Line2D at 0x19250695e80>]"
      ]
     },
     "execution_count": 49,
     "metadata": {},
     "output_type": "execute_result"
    },
    {
     "data": {
      "image/png": "[encoded data removed]",
      "text/plain": [
       "<Figure size 640x480 with 1 Axes>"
      ]
     },
     "metadata": {},
     "output_type": "display_data"
    }
   ],
   "source": [
    "r = data_premade.iloc[0]\n",
    "r2 = data_original.iloc[r['index']]\n",
    "plt.plot(r[\"X\"], r[\"y\"])"
   ]
  },
  {
   "cell_type": "code",
   "execution_count": 50,
   "metadata": {},
   "outputs": [
    {
     "data": {
      "text/plain": [
       "[<matplotlib.lines.Line2D at 0x1926ae1f770>]"
      ]
     },
     "execution_count": 50,
     "metadata": {},
     "output_type": "execute_result"
    },
    {
     "data": {
      "image/png": "[encoded data removed]",
      "text/plain": [
       "<Figure size 640x480 with 1 Axes>"
      ]
     },
     "metadata": {},
     "output_type": "display_data"
    }
   ],
   "source": [
    "plt.plot(r2[\"X\"], r2[\"y\"])"
   ]
  },
  {
   "cell_type": "code",
   "execution_count": 18,
   "metadata": {},
   "outputs": [
    {
     "data": {
      "text/html": [
       "<div>\n",
       "<style scoped>\n",
       "    .dataframe tbody tr th:only-of-type {\n",
       "        vertical-align: middle;\n",
       "    }\n",
       "\n",
       "    .dataframe tbody tr th {\n",
       "        vertical-align: top;\n",
       "    }\n",
       "\n",
       "    .dataframe thead th {\n",
       "        text-align: right;\n",
       "    }\n",
       "</style>\n",
       "<table border=\"1\" class=\"dataframe\">\n",
       "  <thead>\n",
       "    <tr style=\"text-align: right;\">\n",
       "      <th></th>\n",
       "      <th>Filename</th>\n",
       "      <th>X</th>\n",
       "      <th>y</th>\n",
       "    </tr>\n",
       "  </thead>\n",
       "  <tbody>\n",
       "    <tr>\n",
       "      <th>0</th>\n",
       "      <td>./data/hw_dataset/control/C_0001.txt</td>\n",
       "      <td>[200.0, 200.0, 200.0, 200.0, 200.0, 200.0, 200...</td>\n",
       "      <td>[204.0, 204.0, 204.0, 204.0, 204.0, 204.0, 204...</td>\n",
       "    </tr>\n",
       "    <tr>\n",
       "      <th>1</th>\n",
       "      <td>./data/hw_dataset/control/C_0002.txt</td>\n",
       "      <td>[200.0, 200.0, 200.0, 200.0, 200.0, 200.0, 200...</td>\n",
       "      <td>[204.0, 204.0, 204.0, 204.0, 204.0, 205.0, 205...</td>\n",
       "    </tr>\n",
       "    <tr>\n",
       "      <th>2</th>\n",
       "      <td>./data/hw_dataset/control/C_0003.txt</td>\n",
       "      <td>[200.0, 200.0, 200.0, 200.0, 200.0, 200.0, 200...</td>\n",
       "      <td>[204.0, 204.0, 204.0, 204.0, 204.0, 204.0, 204...</td>\n",
       "    </tr>\n",
       "    <tr>\n",
       "      <th>3</th>\n",
       "      <td>./data/hw_dataset/control/C_0004.txt</td>\n",
       "      <td>[200.0, 200.0, 200.0, 199.00202702702703, 199....</td>\n",
       "      <td>[204.0, 204.0, 204.0, 204.0, 204.0, 204.0, 204...</td>\n",
       "    </tr>\n",
       "    <tr>\n",
       "      <th>4</th>\n",
       "      <td>./data/hw_dataset/control/C_0005.txt</td>\n",
       "      <td>[200.0, 200.0, 200.0, 200.0, 200.0, 200.0, 200...</td>\n",
       "      <td>[204.0, 204.0, 204.0, 204.0, 204.0, 204.0, 204...</td>\n",
       "    </tr>\n",
       "    <tr>\n",
       "      <th>5</th>\n",
       "      <td>./data/hw_dataset/control/C_0006.txt</td>\n",
       "      <td>[200.0, 200.0, 200.0, 200.0, 200.0, 200.0, 201...</td>\n",
       "      <td>[204.0, 204.0, 204.0, 204.0, 204.0, 204.0, 204...</td>\n",
       "    </tr>\n",
       "    <tr>\n",
       "      <th>6</th>\n",
       "      <td>./data/hw_dataset/control/C_0007.txt</td>\n",
       "      <td>[200.0, 200.0, 200.0, 200.0, 200.0, 200.0, 200...</td>\n",
       "      <td>[204.0, 204.0, 204.0, 204.0, 204.0, 204.0, 204...</td>\n",
       "    </tr>\n",
       "    <tr>\n",
       "      <th>7</th>\n",
       "      <td>./data/hw_dataset/control/C_0008.txt</td>\n",
       "      <td>[200.0, 200.0, 200.0, 200.0, 200.0, 200.0, 200...</td>\n",
       "      <td>[204.0, 204.0, 204.0, 204.0, 203.0, 203.0, 203...</td>\n",
       "    </tr>\n",
       "    <tr>\n",
       "      <th>8</th>\n",
       "      <td>./data/hw_dataset/control/C_0009.txt</td>\n",
       "      <td>[200.0, 200.0, 200.0, 200.0, 200.0, 200.0, 200...</td>\n",
       "      <td>[204.0, 204.0, 204.0, 204.0, 204.0, 204.0, 204...</td>\n",
       "    </tr>\n",
       "  </tbody>\n",
       "</table>\n",
       "</div>"
      ],
      "text/plain": [
       "                               Filename  \\\n",
       "0  ./data/hw_dataset/control/C_0001.txt   \n",
       "1  ./data/hw_dataset/control/C_0002.txt   \n",
       "2  ./data/hw_dataset/control/C_0003.txt   \n",
       "3  ./data/hw_dataset/control/C_0004.txt   \n",
       "4  ./data/hw_dataset/control/C_0005.txt   \n",
       "5  ./data/hw_dataset/control/C_0006.txt   \n",
       "6  ./data/hw_dataset/control/C_0007.txt   \n",
       "7  ./data/hw_dataset/control/C_0008.txt   \n",
       "8  ./data/hw_dataset/control/C_0009.txt   \n",
       "\n",
       "                                                   X  \\\n",
       "0  [200.0, 200.0, 200.0, 200.0, 200.0, 200.0, 200...   \n",
       "1  [200.0, 200.0, 200.0, 200.0, 200.0, 200.0, 200...   \n",
       "2  [200.0, 200.0, 200.0, 200.0, 200.0, 200.0, 200...   \n",
       "3  [200.0, 200.0, 200.0, 199.00202702702703, 199....   \n",
       "4  [200.0, 200.0, 200.0, 200.0, 200.0, 200.0, 200...   \n",
       "5  [200.0, 200.0, 200.0, 200.0, 200.0, 200.0, 201...   \n",
       "6  [200.0, 200.0, 200.0, 200.0, 200.0, 200.0, 200...   \n",
       "7  [200.0, 200.0, 200.0, 200.0, 200.0, 200.0, 200...   \n",
       "8  [200.0, 200.0, 200.0, 200.0, 200.0, 200.0, 200...   \n",
       "\n",
       "                                                   y  \n",
       "0  [204.0, 204.0, 204.0, 204.0, 204.0, 204.0, 204...  \n",
       "1  [204.0, 204.0, 204.0, 204.0, 204.0, 205.0, 205...  \n",
       "2  [204.0, 204.0, 204.0, 204.0, 204.0, 204.0, 204...  \n",
       "3  [204.0, 204.0, 204.0, 204.0, 204.0, 204.0, 204...  \n",
       "4  [204.0, 204.0, 204.0, 204.0, 204.0, 204.0, 204...  \n",
       "5  [204.0, 204.0, 204.0, 204.0, 204.0, 204.0, 204...  \n",
       "6  [204.0, 204.0, 204.0, 204.0, 204.0, 204.0, 204...  \n",
       "7  [204.0, 204.0, 204.0, 204.0, 203.0, 203.0, 203...  \n",
       "8  [204.0, 204.0, 204.0, 204.0, 204.0, 204.0, 204...  "
      ]
     },
     "execution_count": 18,
     "metadata": {},
     "output_type": "execute_result"
    }
   ],
   "source": [
    "controls"
   ]
  },
  {
   "cell_type": "code",
   "execution_count": 21,
   "metadata": {},
   "outputs": [
    {
     "data": {
      "text/html": [
       "<div>\n",
       "<style scoped>\n",
       "    .dataframe tbody tr th:only-of-type {\n",
       "        vertical-align: middle;\n",
       "    }\n",
       "\n",
       "    .dataframe tbody tr th {\n",
       "        vertical-align: top;\n",
       "    }\n",
       "\n",
       "    .dataframe thead th {\n",
       "        text-align: right;\n",
       "    }\n",
       "</style>\n",
       "<table border=\"1\" class=\"dataframe\">\n",
       "  <thead>\n",
       "    <tr style=\"text-align: right;\">\n",
       "      <th></th>\n",
       "      <th>X</th>\n",
       "      <th>y</th>\n",
       "      <th>index</th>\n",
       "      <th>target</th>\n",
       "    </tr>\n",
       "  </thead>\n",
       "  <tbody>\n",
       "    <tr>\n",
       "      <th>0</th>\n",
       "      <td>[-2.056546340567396, -2.056546340567396, -1.47...</td>\n",
       "      <td>[-1.3952663046302018, -1.3952663046302018, -1....</td>\n",
       "      <td>70473</td>\n",
       "      <td>[1.4489303763088408, 1.8748890968469032]</td>\n",
       "    </tr>\n",
       "    <tr>\n",
       "      <th>1</th>\n",
       "      <td>[1.66737406371331, 1.66737406371331, 1.6673740...</td>\n",
       "      <td>[-1.9952172111690554, -1.9952172111690554, -1....</td>\n",
       "      <td>74844</td>\n",
       "      <td>[-1.7725966988020012, 2.7933040956366777]</td>\n",
       "    </tr>\n",
       "    <tr>\n",
       "      <th>2</th>\n",
       "      <td>[0.18022639872047436, -0.056913599595946544, -...</td>\n",
       "      <td>[-1.6533837631420183, -1.5283169126774179, -1....</td>\n",
       "      <td>95145</td>\n",
       "      <td>[2.788766380201092, 1.973554900331396]</td>\n",
       "    </tr>\n",
       "    <tr>\n",
       "      <th>3</th>\n",
       "      <td>[-1.8480943565342245, -1.7263490102539736, -1....</td>\n",
       "      <td>[1.803269661665738, 1.3158994828371586, 1.3158...</td>\n",
       "      <td>55640</td>\n",
       "      <td>[1.499902666172703, -2.0956917689628964]</td>\n",
       "    </tr>\n",
       "    <tr>\n",
       "      <th>4</th>\n",
       "      <td>[-2.2259955480133455, -1.8726629213445662, -1....</td>\n",
       "      <td>[1.7763555742918122, 1.680749784502156, 1.4895...</td>\n",
       "      <td>31735</td>\n",
       "      <td>[2.0139959720120904, -2.0478760172944392]</td>\n",
       "    </tr>\n",
       "    <tr>\n",
       "      <th>...</th>\n",
       "      <td>...</td>\n",
       "      <td>...</td>\n",
       "      <td>...</td>\n",
       "      <td>...</td>\n",
       "    </tr>\n",
       "    <tr>\n",
       "      <th>32189</th>\n",
       "      <td>[-1.9470036496822107, -1.9470036496822107, -1....</td>\n",
       "      <td>[-2.201704178130174, -2.201704178130174, -2.20...</td>\n",
       "      <td>139013</td>\n",
       "      <td>[1.7265881421710167, 1.7704425349912787]</td>\n",
       "    </tr>\n",
       "    <tr>\n",
       "      <th>32190</th>\n",
       "      <td>[2.2845990353241943, 2.2845990353241943, 2.284...</td>\n",
       "      <td>[2.1226745220209273, 2.1226745220209273, 2.122...</td>\n",
       "      <td>93198</td>\n",
       "      <td>[-0.8449886842978346, -1.288766674084138]</td>\n",
       "    </tr>\n",
       "    <tr>\n",
       "      <th>32191</th>\n",
       "      <td>[1.6461582494510627, 1.4821982644459757, 1.482...</td>\n",
       "      <td>[-1.5432260242699338, -1.444554283587713, -1.4...</td>\n",
       "      <td>42403</td>\n",
       "      <td>[-1.633041450650661, 1.7129414182433536]</td>\n",
       "    </tr>\n",
       "    <tr>\n",
       "      <th>32192</th>\n",
       "      <td>[-1.9279335090084688, -1.9279335090084688, -1....</td>\n",
       "      <td>[-0.8164965809276795, -0.8164965809276795, -0....</td>\n",
       "      <td>62161</td>\n",
       "      <td>[1.2675363954254597, 1.2247448713916351]</td>\n",
       "    </tr>\n",
       "    <tr>\n",
       "      <th>32193</th>\n",
       "      <td>[2.085647512825636, 1.939798036404263, 1.79394...</td>\n",
       "      <td>[2.936303306891295, 2.936303306891295, 1.63705...</td>\n",
       "      <td>27490</td>\n",
       "      <td>[-1.2688904448659606, 0.33780480521758033]</td>\n",
       "    </tr>\n",
       "  </tbody>\n",
       "</table>\n",
       "<p>160967 rows × 4 columns</p>\n",
       "</div>"
      ],
      "text/plain": [
       "                                                       X  \\\n",
       "0      [-2.056546340567396, -2.056546340567396, -1.47...   \n",
       "1      [1.66737406371331, 1.66737406371331, 1.6673740...   \n",
       "2      [0.18022639872047436, -0.056913599595946544, -...   \n",
       "3      [-1.8480943565342245, -1.7263490102539736, -1....   \n",
       "4      [-2.2259955480133455, -1.8726629213445662, -1....   \n",
       "...                                                  ...   \n",
       "32189  [-1.9470036496822107, -1.9470036496822107, -1....   \n",
       "32190  [2.2845990353241943, 2.2845990353241943, 2.284...   \n",
       "32191  [1.6461582494510627, 1.4821982644459757, 1.482...   \n",
       "32192  [-1.9279335090084688, -1.9279335090084688, -1....   \n",
       "32193  [2.085647512825636, 1.939798036404263, 1.79394...   \n",
       "\n",
       "                                                       y   index  \\\n",
       "0      [-1.3952663046302018, -1.3952663046302018, -1....   70473   \n",
       "1      [-1.9952172111690554, -1.9952172111690554, -1....   74844   \n",
       "2      [-1.6533837631420183, -1.5283169126774179, -1....   95145   \n",
       "3      [1.803269661665738, 1.3158994828371586, 1.3158...   55640   \n",
       "4      [1.7763555742918122, 1.680749784502156, 1.4895...   31735   \n",
       "...                                                  ...     ...   \n",
       "32189  [-2.201704178130174, -2.201704178130174, -2.20...  139013   \n",
       "32190  [2.1226745220209273, 2.1226745220209273, 2.122...   93198   \n",
       "32191  [-1.5432260242699338, -1.444554283587713, -1.4...   42403   \n",
       "32192  [-0.8164965809276795, -0.8164965809276795, -0....   62161   \n",
       "32193  [2.936303306891295, 2.936303306891295, 1.63705...   27490   \n",
       "\n",
       "                                           target  \n",
       "0        [1.4489303763088408, 1.8748890968469032]  \n",
       "1       [-1.7725966988020012, 2.7933040956366777]  \n",
       "2          [2.788766380201092, 1.973554900331396]  \n",
       "3        [1.499902666172703, -2.0956917689628964]  \n",
       "4       [2.0139959720120904, -2.0478760172944392]  \n",
       "...                                           ...  \n",
       "32189    [1.7265881421710167, 1.7704425349912787]  \n",
       "32190   [-0.8449886842978346, -1.288766674084138]  \n",
       "32191    [-1.633041450650661, 1.7129414182433536]  \n",
       "32192    [1.2675363954254597, 1.2247448713916351]  \n",
       "32193  [-1.2688904448659606, 0.33780480521758033]  \n",
       "\n",
       "[160967 rows x 4 columns]"
      ]
     },
     "execution_count": 21,
     "metadata": {},
     "output_type": "execute_result"
    }
   ],
   "source": [
    "data_premade"
   ]
  },
  {
   "cell_type": "code",
   "execution_count": 22,
   "metadata": {},
   "outputs": [
    {
     "data": {
      "text/html": [
       "<div>\n",
       "<style scoped>\n",
       "    .dataframe tbody tr th:only-of-type {\n",
       "        vertical-align: middle;\n",
       "    }\n",
       "\n",
       "    .dataframe tbody tr th {\n",
       "        vertical-align: top;\n",
       "    }\n",
       "\n",
       "    .dataframe thead th {\n",
       "        text-align: right;\n",
       "    }\n",
       "</style>\n",
       "<table border=\"1\" class=\"dataframe\">\n",
       "  <thead>\n",
       "    <tr style=\"text-align: right;\">\n",
       "      <th></th>\n",
       "      <th>Filename</th>\n",
       "      <th>index</th>\n",
       "      <th>angle</th>\n",
       "      <th>X</th>\n",
       "      <th>y</th>\n",
       "      <th>length</th>\n",
       "    </tr>\n",
       "  </thead>\n",
       "  <tbody>\n",
       "    <tr>\n",
       "      <th>0</th>\n",
       "      <td>./data/hw_dataset/parkinson/P_02100001.txt</td>\n",
       "      <td>51</td>\n",
       "      <td>144</td>\n",
       "      <td>[197.8960113960114, 197.8960113960114, 197.896...</td>\n",
       "      <td>[207.0, 207.0, 207.0, 208.0, 208.0, 208.0, 209...</td>\n",
       "      <td>50</td>\n",
       "    </tr>\n",
       "    <tr>\n",
       "      <th>1</th>\n",
       "      <td>./data/hw_dataset/parkinson/P_02100001.txt</td>\n",
       "      <td>52</td>\n",
       "      <td>21</td>\n",
       "      <td>[197.8960113960114, 197.8960113960114, 197.896...</td>\n",
       "      <td>[207.0, 207.0, 208.0, 208.0, 208.0, 209.0, 209...</td>\n",
       "      <td>50</td>\n",
       "    </tr>\n",
       "    <tr>\n",
       "      <th>2</th>\n",
       "      <td>./data/hw_dataset/parkinson/P_02100001.txt</td>\n",
       "      <td>53</td>\n",
       "      <td>117</td>\n",
       "      <td>[197.8960113960114, 197.8960113960114, 197.896...</td>\n",
       "      <td>[207.0, 208.0, 208.0, 208.0, 209.0, 209.0, 209...</td>\n",
       "      <td>50</td>\n",
       "    </tr>\n",
       "    <tr>\n",
       "      <th>3</th>\n",
       "      <td>./data/hw_dataset/parkinson/P_02100001.txt</td>\n",
       "      <td>54</td>\n",
       "      <td>282</td>\n",
       "      <td>[197.8960113960114, 197.8960113960114, 197.896...</td>\n",
       "      <td>[208.0, 208.0, 208.0, 209.0, 209.0, 209.0, 209...</td>\n",
       "      <td>50</td>\n",
       "    </tr>\n",
       "    <tr>\n",
       "      <th>4</th>\n",
       "      <td>./data/hw_dataset/parkinson/P_02100001.txt</td>\n",
       "      <td>55</td>\n",
       "      <td>142</td>\n",
       "      <td>[197.8960113960114, 197.8960113960114, 197.896...</td>\n",
       "      <td>[208.0, 208.0, 209.0, 209.0, 209.0, 209.0, 210...</td>\n",
       "      <td>50</td>\n",
       "    </tr>\n",
       "    <tr>\n",
       "      <th>...</th>\n",
       "      <td>...</td>\n",
       "      <td>...</td>\n",
       "      <td>...</td>\n",
       "      <td>...</td>\n",
       "      <td>...</td>\n",
       "      <td>...</td>\n",
       "    </tr>\n",
       "    <tr>\n",
       "      <th>162362</th>\n",
       "      <td>./data/new_dataset/parkinson/H_p000-0043.txt</td>\n",
       "      <td>1755</td>\n",
       "      <td>19</td>\n",
       "      <td>[395.7121409921671, 395.7121409921671, 396.676...</td>\n",
       "      <td>[215.0, 208.0, 202.0, 197.0, 193.0, 190.0, 188...</td>\n",
       "      <td>50</td>\n",
       "    </tr>\n",
       "    <tr>\n",
       "      <th>162363</th>\n",
       "      <td>./data/new_dataset/parkinson/H_p000-0043.txt</td>\n",
       "      <td>1756</td>\n",
       "      <td>35</td>\n",
       "      <td>[395.7121409921671, 396.6762402088773, 396.676...</td>\n",
       "      <td>[208.0, 202.0, 197.0, 193.0, 190.0, 188.0, 186...</td>\n",
       "      <td>50</td>\n",
       "    </tr>\n",
       "    <tr>\n",
       "      <th>162364</th>\n",
       "      <td>./data/new_dataset/parkinson/H_p000-0043.txt</td>\n",
       "      <td>1757</td>\n",
       "      <td>199</td>\n",
       "      <td>[396.6762402088773, 396.6762402088773, 397.640...</td>\n",
       "      <td>[202.0, 197.0, 193.0, 190.0, 188.0, 186.0, 186...</td>\n",
       "      <td>50</td>\n",
       "    </tr>\n",
       "    <tr>\n",
       "      <th>162365</th>\n",
       "      <td>./data/new_dataset/parkinson/H_p000-0043.txt</td>\n",
       "      <td>1758</td>\n",
       "      <td>306</td>\n",
       "      <td>[396.6762402088773, 397.64033942558746, 398.60...</td>\n",
       "      <td>[197.0, 193.0, 190.0, 188.0, 186.0, 186.0, 186...</td>\n",
       "      <td>50</td>\n",
       "    </tr>\n",
       "    <tr>\n",
       "      <th>162366</th>\n",
       "      <td>./data/new_dataset/parkinson/H_p000-0043.txt</td>\n",
       "      <td>1759</td>\n",
       "      <td>229</td>\n",
       "      <td>[397.64033942558746, 398.6044386422977, 398.60...</td>\n",
       "      <td>[193.0, 190.0, 188.0, 186.0, 186.0, 186.0, 187...</td>\n",
       "      <td>50</td>\n",
       "    </tr>\n",
       "  </tbody>\n",
       "</table>\n",
       "<p>162367 rows × 6 columns</p>\n",
       "</div>"
      ],
      "text/plain": [
       "                                            Filename  index  angle  \\\n",
       "0         ./data/hw_dataset/parkinson/P_02100001.txt     51    144   \n",
       "1         ./data/hw_dataset/parkinson/P_02100001.txt     52     21   \n",
       "2         ./data/hw_dataset/parkinson/P_02100001.txt     53    117   \n",
       "3         ./data/hw_dataset/parkinson/P_02100001.txt     54    282   \n",
       "4         ./data/hw_dataset/parkinson/P_02100001.txt     55    142   \n",
       "...                                              ...    ...    ...   \n",
       "162362  ./data/new_dataset/parkinson/H_p000-0043.txt   1755     19   \n",
       "162363  ./data/new_dataset/parkinson/H_p000-0043.txt   1756     35   \n",
       "162364  ./data/new_dataset/parkinson/H_p000-0043.txt   1757    199   \n",
       "162365  ./data/new_dataset/parkinson/H_p000-0043.txt   1758    306   \n",
       "162366  ./data/new_dataset/parkinson/H_p000-0043.txt   1759    229   \n",
       "\n",
       "                                                        X  \\\n",
       "0       [197.8960113960114, 197.8960113960114, 197.896...   \n",
       "1       [197.8960113960114, 197.8960113960114, 197.896...   \n",
       "2       [197.8960113960114, 197.8960113960114, 197.896...   \n",
       "3       [197.8960113960114, 197.8960113960114, 197.896...   \n",
       "4       [197.8960113960114, 197.8960113960114, 197.896...   \n",
       "...                                                   ...   \n",
       "162362  [395.7121409921671, 395.7121409921671, 396.676...   \n",
       "162363  [395.7121409921671, 396.6762402088773, 396.676...   \n",
       "162364  [396.6762402088773, 396.6762402088773, 397.640...   \n",
       "162365  [396.6762402088773, 397.64033942558746, 398.60...   \n",
       "162366  [397.64033942558746, 398.6044386422977, 398.60...   \n",
       "\n",
       "                                                        y  length  \n",
       "0       [207.0, 207.0, 207.0, 208.0, 208.0, 208.0, 209...      50  \n",
       "1       [207.0, 207.0, 208.0, 208.0, 208.0, 209.0, 209...      50  \n",
       "2       [207.0, 208.0, 208.0, 208.0, 209.0, 209.0, 209...      50  \n",
       "3       [208.0, 208.0, 208.0, 209.0, 209.0, 209.0, 209...      50  \n",
       "4       [208.0, 208.0, 209.0, 209.0, 209.0, 209.0, 210...      50  \n",
       "...                                                   ...     ...  \n",
       "162362  [215.0, 208.0, 202.0, 197.0, 193.0, 190.0, 188...      50  \n",
       "162363  [208.0, 202.0, 197.0, 193.0, 190.0, 188.0, 186...      50  \n",
       "162364  [202.0, 197.0, 193.0, 190.0, 188.0, 186.0, 186...      50  \n",
       "162365  [197.0, 193.0, 190.0, 188.0, 186.0, 186.0, 186...      50  \n",
       "162366  [193.0, 190.0, 188.0, 186.0, 186.0, 186.0, 187...      50  \n",
       "\n",
       "[162367 rows x 6 columns]"
      ]
     },
     "execution_count": 22,
     "metadata": {},
     "output_type": "execute_result"
    }
   ],
   "source": [
    "data_original"
   ]
  },
  {
   "cell_type": "code",
   "execution_count": 23,
   "metadata": {},
   "outputs": [
    {
     "name": "stdout",
     "output_type": "stream",
     "text": [
      "160967\n"
     ]
    }
   ],
   "source": [
    "print(len(data_premade))"
   ]
  },
  {
   "cell_type": "code",
   "execution_count": 81,
   "metadata": {},
   "outputs": [],
   "source": [
    "from scipy.spatial import KDTree\n",
    "# Precompute KDTree for each control file\n",
    "control_trees = []\n",
    "for index, control_file in controls.iterrows():\n",
    "    control_data = np.column_stack((control_file[\"X\"], control_file[\"y\"]))\n",
    "    control_trees.append(KDTree(control_data))"
   ]
  },
  {
   "cell_type": "code",
   "execution_count": 82,
   "metadata": {},
   "outputs": [
    {
     "name": "stderr",
     "output_type": "stream",
     "text": [
      "100%|██████████| 160967/160967 [03:03<00:00, 878.17it/s] \n"
     ]
    }
   ],
   "source": [
    "from scipy.spatial import KDTree\n",
    "from tqdm import tqdm\n",
    "import numpy as np\n",
    "\n",
    "org_mse = []\n",
    "mean_square_errors = []\n",
    "translated = {\"X\":[], \"y\":[]}\n",
    "\n",
    "for _, row in tqdm(data_premade.iterrows(), total=len(data_premade)):  # Include progress bar\n",
    "    data_find = data_original.loc[row['index']] # Finding row which matches 'index' arg of the row in data_premade \n",
    "    points = np.column_stack((data_find[\"X\"], data_find[\"y\"]))\n",
    "    min_mse = float(\"inf\")\n",
    "    min_close_seg = 0 # This is the cloest segment\n",
    "    for tree in control_trees:\n",
    "        distances, indices = tree.query(points)\n",
    "        closest_segments = np.array([tree.data[idx] for idx in indices])\n",
    "        \n",
    "        mse = np.sum((closest_segments - points) ** 2)\n",
    "        if mse < min_mse:\n",
    "            min_mse = mse\n",
    "            min_close_seg = closest_segments\n",
    "    \n",
    "    offset_x = min_close_seg[:, 0] - points[:, 0]\n",
    "    offset_y = min_close_seg[:, 1] - points[:, 1]\n",
    "\n",
    "    # Calculate the average offset for X and Y directions\n",
    "    avg_offset_x = np.mean(offset_x)\n",
    "    avg_offset_y = np.mean(offset_y)\n",
    "\n",
    "    # Apply the translations to the orange line\n",
    "    orange_line_x_translated = min_close_seg[:, 0] - avg_offset_x\n",
    "    orange_line_y_translated = min_close_seg[:, 1] - avg_offset_y\n",
    "    translated[\"X\"].append(orange_line_x_translated)\n",
    "    translated[\"y\"].append(orange_line_y_translated)\n",
    "\n",
    "    temp = np.column_stack((orange_line_x_translated, orange_line_y_translated))\n",
    "    mse = np.sum((temp - points) ** 2)\n",
    "    mean_square_errors.append(mse)\n",
    "    org_mse.append(min_mse)\n",
    "    \n",
    "\n"
   ]
  },
  {
   "cell_type": "code",
   "execution_count": 83,
   "metadata": {},
   "outputs": [],
   "source": [
    "translated = pd.DataFrame(translated)"
   ]
  },
  {
   "cell_type": "code",
   "execution_count": 84,
   "metadata": {},
   "outputs": [],
   "source": [
    "def reject_outliers(data, m=4.):\n",
    "    ranged = range(0,len(data))\n",
    "    data = np.asarray(data)  # Ensure input is a NumPy array\n",
    "    d = np.abs(data - np.median(data))  # Deviation from the median\n",
    "    mdev = np.median(d)  # Median of the deviations\n",
    "    if mdev == 0:  # Handle case where mdev is zero\n",
    "        return data\n",
    "    s = d / mdev\n",
    "    ranged = np.where(s<m)[0]\n",
    "    return data[s < m], ranged "
   ]
  },
  {
   "cell_type": "code",
   "execution_count": 85,
   "metadata": {},
   "outputs": [],
   "source": [
    "data_no_outliers, ranged = reject_outliers(mean_square_errors)"
   ]
  },
  {
   "cell_type": "code",
   "execution_count": 86,
   "metadata": {},
   "outputs": [
    {
     "data": {
      "text/plain": [
       "array([   100,    101,    102, ..., 160127, 160128, 160129])"
      ]
     },
     "execution_count": 86,
     "metadata": {},
     "output_type": "execute_result"
    }
   ],
   "source": [
    "ranged"
   ]
  },
  {
   "cell_type": "code",
   "execution_count": 87,
   "metadata": {},
   "outputs": [],
   "source": [
    "import pickle\n",
    "data = {'translated': translated, 'ranged': ranged}\n",
    "# Save the data to a PKL file\n",
    "with open('data/smooth_translated.pkl', 'wb') as file:\n",
    "    pickle.dump(data, file)"
   ]
  },
  {
   "cell_type": "markdown",
   "metadata": {},
   "source": [
    "# Getting Angle + Normalize???"
   ]
  },
  {
   "cell_type": "code",
   "execution_count": 88,
   "metadata": {},
   "outputs": [],
   "source": [
    "from scipy.spatial import KDTree\n",
    "from tqdm import tqdm\n",
    "import numpy as np"
   ]
  },
  {
   "cell_type": "code",
   "execution_count": 89,
   "metadata": {},
   "outputs": [],
   "source": [
    "import pickle\n",
    "with open('data/smooth_translated.pkl', 'rb') as file:\n",
    "    loaded_data = pickle.load(file)\n",
    "translated = loaded_data['translated']\n",
    "ranged = loaded_data['ranged']"
   ]
  },
  {
   "cell_type": "code",
   "execution_count": 90,
   "metadata": {},
   "outputs": [
    {
     "data": {
      "text/html": [
       "<div>\n",
       "<style scoped>\n",
       "    .dataframe tbody tr th:only-of-type {\n",
       "        vertical-align: middle;\n",
       "    }\n",
       "\n",
       "    .dataframe tbody tr th {\n",
       "        vertical-align: top;\n",
       "    }\n",
       "\n",
       "    .dataframe thead th {\n",
       "        text-align: right;\n",
       "    }\n",
       "</style>\n",
       "<table border=\"1\" class=\"dataframe\">\n",
       "  <thead>\n",
       "    <tr style=\"text-align: right;\">\n",
       "      <th></th>\n",
       "      <th>X</th>\n",
       "      <th>y</th>\n",
       "    </tr>\n",
       "  </thead>\n",
       "  <tbody>\n",
       "    <tr>\n",
       "      <th>0</th>\n",
       "      <td>[200.80408955778523, 200.80408955778523, 200.8...</td>\n",
       "      <td>[214.24, 214.24, 214.24, 214.24, 214.24, 214.2...</td>\n",
       "    </tr>\n",
       "    <tr>\n",
       "      <th>1</th>\n",
       "      <td>[201.08149588133284, 201.08149588133284, 201.0...</td>\n",
       "      <td>[214.54, 214.54, 214.54, 214.54, 214.54, 214.5...</td>\n",
       "    </tr>\n",
       "    <tr>\n",
       "      <th>2</th>\n",
       "      <td>[201.37994209092037, 201.37994209092037, 201.3...</td>\n",
       "      <td>[214.84, 214.84, 214.84, 214.84, 214.84, 214.8...</td>\n",
       "    </tr>\n",
       "    <tr>\n",
       "      <th>3</th>\n",
       "      <td>[201.69942818654775, 201.69942818654775, 201.6...</td>\n",
       "      <td>[215.14, 215.14, 215.14, 215.14, 215.14, 215.1...</td>\n",
       "    </tr>\n",
       "    <tr>\n",
       "      <th>4</th>\n",
       "      <td>[202.03995416821505, 202.03995416821505, 202.0...</td>\n",
       "      <td>[215.42, 215.42, 215.42, 215.42, 215.42, 215.4...</td>\n",
       "    </tr>\n",
       "    <tr>\n",
       "      <th>...</th>\n",
       "      <td>...</td>\n",
       "      <td>...</td>\n",
       "    </tr>\n",
       "    <tr>\n",
       "      <th>160962</th>\n",
       "      <td>[393.8432636362339, 394.8521434176547, 393.843...</td>\n",
       "      <td>[208.12, 201.12, 196.12, 191.12, 191.12, 191.1...</td>\n",
       "    </tr>\n",
       "    <tr>\n",
       "      <th>160963</th>\n",
       "      <td>[394.84945658377205, 393.8405768023513, 396.86...</td>\n",
       "      <td>[200.8, 195.8, 190.8, 190.8, 190.8, 190.8, 190...</td>\n",
       "    </tr>\n",
       "    <tr>\n",
       "      <th>160964</th>\n",
       "      <td>[393.89663153276547, 396.9232708770278, 396.92...</td>\n",
       "      <td>[195.48, 190.48, 190.48, 190.48, 190.48, 190.4...</td>\n",
       "    </tr>\n",
       "    <tr>\n",
       "      <th>160965</th>\n",
       "      <td>[396.95914801181357, 396.95914801181357, 396.9...</td>\n",
       "      <td>[190.18, 190.18, 190.18, 190.18, 190.18, 190.1...</td>\n",
       "    </tr>\n",
       "    <tr>\n",
       "      <th>160966</th>\n",
       "      <td>[397.094121902153, 397.094121902153, 397.09412...</td>\n",
       "      <td>[189.88, 189.88, 189.88, 189.88, 189.88, 189.8...</td>\n",
       "    </tr>\n",
       "  </tbody>\n",
       "</table>\n",
       "<p>160967 rows × 2 columns</p>\n",
       "</div>"
      ],
      "text/plain": [
       "                                                        X  \\\n",
       "0       [200.80408955778523, 200.80408955778523, 200.8...   \n",
       "1       [201.08149588133284, 201.08149588133284, 201.0...   \n",
       "2       [201.37994209092037, 201.37994209092037, 201.3...   \n",
       "3       [201.69942818654775, 201.69942818654775, 201.6...   \n",
       "4       [202.03995416821505, 202.03995416821505, 202.0...   \n",
       "...                                                   ...   \n",
       "160962  [393.8432636362339, 394.8521434176547, 393.843...   \n",
       "160963  [394.84945658377205, 393.8405768023513, 396.86...   \n",
       "160964  [393.89663153276547, 396.9232708770278, 396.92...   \n",
       "160965  [396.95914801181357, 396.95914801181357, 396.9...   \n",
       "160966  [397.094121902153, 397.094121902153, 397.09412...   \n",
       "\n",
       "                                                        y  \n",
       "0       [214.24, 214.24, 214.24, 214.24, 214.24, 214.2...  \n",
       "1       [214.54, 214.54, 214.54, 214.54, 214.54, 214.5...  \n",
       "2       [214.84, 214.84, 214.84, 214.84, 214.84, 214.8...  \n",
       "3       [215.14, 215.14, 215.14, 215.14, 215.14, 215.1...  \n",
       "4       [215.42, 215.42, 215.42, 215.42, 215.42, 215.4...  \n",
       "...                                                   ...  \n",
       "160962  [208.12, 201.12, 196.12, 191.12, 191.12, 191.1...  \n",
       "160963  [200.8, 195.8, 190.8, 190.8, 190.8, 190.8, 190...  \n",
       "160964  [195.48, 190.48, 190.48, 190.48, 190.48, 190.4...  \n",
       "160965  [190.18, 190.18, 190.18, 190.18, 190.18, 190.1...  \n",
       "160966  [189.88, 189.88, 189.88, 189.88, 189.88, 189.8...  \n",
       "\n",
       "[160967 rows x 2 columns]"
      ]
     },
     "execution_count": 90,
     "metadata": {},
     "output_type": "execute_result"
    }
   ],
   "source": [
    "translated"
   ]
  },
  {
   "cell_type": "code",
   "execution_count": 91,
   "metadata": {},
   "outputs": [
    {
     "data": {
      "text/plain": [
       "130761"
      ]
     },
     "execution_count": 91,
     "metadata": {},
     "output_type": "execute_result"
    }
   ],
   "source": [
    "len(ranged)"
   ]
  },
  {
   "cell_type": "code",
   "execution_count": 92,
   "metadata": {},
   "outputs": [],
   "source": [
    "\n",
    "def get_subset(original, premade, compiled, indexes): \n",
    "    #  format ([Xi, X2. . . Xf], [yi, y2, . . . yf])\n",
    "    subset = []\n",
    "    for _ in tqdm(indexes): # was len(X)\n",
    "        ind = premade.iloc[_]['index']\n",
    "        row = original.iloc[ind] #idt this angle is right \n",
    "        compiled_row = compiled.iloc[_]\n",
    "\n",
    "        angle = row[\"angle\"] # Replace with my angle \n",
    "        theta = np.radians(angle)  # Convert the angle to radians\n",
    "        rotation_matrix = np.array([[np.cos(theta), -np.sin(theta)], \n",
    "                                    [np.sin(theta), np.cos(theta)]])\n",
    "        \n",
    "        combined_array = np.column_stack((compiled_row[\"X\"], compiled_row[\"y\"]))\n",
    "\n",
    "        rotated = np.dot(combined_array, rotation_matrix)\n",
    "        shape = 50\n",
    "        X_all = combined_array[:, 0 ] # This is for X data and x coordinate value\n",
    "        Y_all = combined_array[:, 1 ]\n",
    "    \n",
    "        subset.append((row[\"Filename\"], _, angle, X_all, Y_all, shape))\n",
    "    return subset\n"
   ]
  },
  {
   "cell_type": "code",
   "execution_count": 93,
   "metadata": {},
   "outputs": [
    {
     "data": {
      "text/html": [
       "<div>\n",
       "<style scoped>\n",
       "    .dataframe tbody tr th:only-of-type {\n",
       "        vertical-align: middle;\n",
       "    }\n",
       "\n",
       "    .dataframe tbody tr th {\n",
       "        vertical-align: top;\n",
       "    }\n",
       "\n",
       "    .dataframe thead th {\n",
       "        text-align: right;\n",
       "    }\n",
       "</style>\n",
       "<table border=\"1\" class=\"dataframe\">\n",
       "  <thead>\n",
       "    <tr style=\"text-align: right;\">\n",
       "      <th></th>\n",
       "      <th>Filename</th>\n",
       "      <th>index</th>\n",
       "      <th>angle</th>\n",
       "      <th>X</th>\n",
       "      <th>y</th>\n",
       "      <th>length</th>\n",
       "    </tr>\n",
       "  </thead>\n",
       "  <tbody>\n",
       "    <tr>\n",
       "      <th>0</th>\n",
       "      <td>./data/hw_dataset/parkinson/P_02100001.txt</td>\n",
       "      <td>51</td>\n",
       "      <td>144</td>\n",
       "      <td>[197.8960113960114, 197.8960113960114, 197.896...</td>\n",
       "      <td>[207.0, 207.0, 207.0, 208.0, 208.0, 208.0, 209...</td>\n",
       "      <td>50</td>\n",
       "    </tr>\n",
       "    <tr>\n",
       "      <th>1</th>\n",
       "      <td>./data/hw_dataset/parkinson/P_02100001.txt</td>\n",
       "      <td>52</td>\n",
       "      <td>21</td>\n",
       "      <td>[197.8960113960114, 197.8960113960114, 197.896...</td>\n",
       "      <td>[207.0, 207.0, 208.0, 208.0, 208.0, 209.0, 209...</td>\n",
       "      <td>50</td>\n",
       "    </tr>\n",
       "    <tr>\n",
       "      <th>2</th>\n",
       "      <td>./data/hw_dataset/parkinson/P_02100001.txt</td>\n",
       "      <td>53</td>\n",
       "      <td>117</td>\n",
       "      <td>[197.8960113960114, 197.8960113960114, 197.896...</td>\n",
       "      <td>[207.0, 208.0, 208.0, 208.0, 209.0, 209.0, 209...</td>\n",
       "      <td>50</td>\n",
       "    </tr>\n",
       "    <tr>\n",
       "      <th>3</th>\n",
       "      <td>./data/hw_dataset/parkinson/P_02100001.txt</td>\n",
       "      <td>54</td>\n",
       "      <td>282</td>\n",
       "      <td>[197.8960113960114, 197.8960113960114, 197.896...</td>\n",
       "      <td>[208.0, 208.0, 208.0, 209.0, 209.0, 209.0, 209...</td>\n",
       "      <td>50</td>\n",
       "    </tr>\n",
       "    <tr>\n",
       "      <th>4</th>\n",
       "      <td>./data/hw_dataset/parkinson/P_02100001.txt</td>\n",
       "      <td>55</td>\n",
       "      <td>142</td>\n",
       "      <td>[197.8960113960114, 197.8960113960114, 197.896...</td>\n",
       "      <td>[208.0, 208.0, 209.0, 209.0, 209.0, 209.0, 210...</td>\n",
       "      <td>50</td>\n",
       "    </tr>\n",
       "    <tr>\n",
       "      <th>...</th>\n",
       "      <td>...</td>\n",
       "      <td>...</td>\n",
       "      <td>...</td>\n",
       "      <td>...</td>\n",
       "      <td>...</td>\n",
       "      <td>...</td>\n",
       "    </tr>\n",
       "    <tr>\n",
       "      <th>162362</th>\n",
       "      <td>./data/new_dataset/parkinson/H_p000-0043.txt</td>\n",
       "      <td>1755</td>\n",
       "      <td>19</td>\n",
       "      <td>[395.7121409921671, 395.7121409921671, 396.676...</td>\n",
       "      <td>[215.0, 208.0, 202.0, 197.0, 193.0, 190.0, 188...</td>\n",
       "      <td>50</td>\n",
       "    </tr>\n",
       "    <tr>\n",
       "      <th>162363</th>\n",
       "      <td>./data/new_dataset/parkinson/H_p000-0043.txt</td>\n",
       "      <td>1756</td>\n",
       "      <td>35</td>\n",
       "      <td>[395.7121409921671, 396.6762402088773, 396.676...</td>\n",
       "      <td>[208.0, 202.0, 197.0, 193.0, 190.0, 188.0, 186...</td>\n",
       "      <td>50</td>\n",
       "    </tr>\n",
       "    <tr>\n",
       "      <th>162364</th>\n",
       "      <td>./data/new_dataset/parkinson/H_p000-0043.txt</td>\n",
       "      <td>1757</td>\n",
       "      <td>199</td>\n",
       "      <td>[396.6762402088773, 396.6762402088773, 397.640...</td>\n",
       "      <td>[202.0, 197.0, 193.0, 190.0, 188.0, 186.0, 186...</td>\n",
       "      <td>50</td>\n",
       "    </tr>\n",
       "    <tr>\n",
       "      <th>162365</th>\n",
       "      <td>./data/new_dataset/parkinson/H_p000-0043.txt</td>\n",
       "      <td>1758</td>\n",
       "      <td>306</td>\n",
       "      <td>[396.6762402088773, 397.64033942558746, 398.60...</td>\n",
       "      <td>[197.0, 193.0, 190.0, 188.0, 186.0, 186.0, 186...</td>\n",
       "      <td>50</td>\n",
       "    </tr>\n",
       "    <tr>\n",
       "      <th>162366</th>\n",
       "      <td>./data/new_dataset/parkinson/H_p000-0043.txt</td>\n",
       "      <td>1759</td>\n",
       "      <td>229</td>\n",
       "      <td>[397.64033942558746, 398.6044386422977, 398.60...</td>\n",
       "      <td>[193.0, 190.0, 188.0, 186.0, 186.0, 186.0, 187...</td>\n",
       "      <td>50</td>\n",
       "    </tr>\n",
       "  </tbody>\n",
       "</table>\n",
       "<p>162367 rows × 6 columns</p>\n",
       "</div>"
      ],
      "text/plain": [
       "                                            Filename  index  angle  \\\n",
       "0         ./data/hw_dataset/parkinson/P_02100001.txt     51    144   \n",
       "1         ./data/hw_dataset/parkinson/P_02100001.txt     52     21   \n",
       "2         ./data/hw_dataset/parkinson/P_02100001.txt     53    117   \n",
       "3         ./data/hw_dataset/parkinson/P_02100001.txt     54    282   \n",
       "4         ./data/hw_dataset/parkinson/P_02100001.txt     55    142   \n",
       "...                                              ...    ...    ...   \n",
       "162362  ./data/new_dataset/parkinson/H_p000-0043.txt   1755     19   \n",
       "162363  ./data/new_dataset/parkinson/H_p000-0043.txt   1756     35   \n",
       "162364  ./data/new_dataset/parkinson/H_p000-0043.txt   1757    199   \n",
       "162365  ./data/new_dataset/parkinson/H_p000-0043.txt   1758    306   \n",
       "162366  ./data/new_dataset/parkinson/H_p000-0043.txt   1759    229   \n",
       "\n",
       "                                                        X  \\\n",
       "0       [197.8960113960114, 197.8960113960114, 197.896...   \n",
       "1       [197.8960113960114, 197.8960113960114, 197.896...   \n",
       "2       [197.8960113960114, 197.8960113960114, 197.896...   \n",
       "3       [197.8960113960114, 197.8960113960114, 197.896...   \n",
       "4       [197.8960113960114, 197.8960113960114, 197.896...   \n",
       "...                                                   ...   \n",
       "162362  [395.7121409921671, 395.7121409921671, 396.676...   \n",
       "162363  [395.7121409921671, 396.6762402088773, 396.676...   \n",
       "162364  [396.6762402088773, 396.6762402088773, 397.640...   \n",
       "162365  [396.6762402088773, 397.64033942558746, 398.60...   \n",
       "162366  [397.64033942558746, 398.6044386422977, 398.60...   \n",
       "\n",
       "                                                        y  length  \n",
       "0       [207.0, 207.0, 207.0, 208.0, 208.0, 208.0, 209...      50  \n",
       "1       [207.0, 207.0, 208.0, 208.0, 208.0, 209.0, 209...      50  \n",
       "2       [207.0, 208.0, 208.0, 208.0, 209.0, 209.0, 209...      50  \n",
       "3       [208.0, 208.0, 208.0, 209.0, 209.0, 209.0, 209...      50  \n",
       "4       [208.0, 208.0, 209.0, 209.0, 209.0, 209.0, 210...      50  \n",
       "...                                                   ...     ...  \n",
       "162362  [215.0, 208.0, 202.0, 197.0, 193.0, 190.0, 188...      50  \n",
       "162363  [208.0, 202.0, 197.0, 193.0, 190.0, 188.0, 186...      50  \n",
       "162364  [202.0, 197.0, 193.0, 190.0, 188.0, 186.0, 186...      50  \n",
       "162365  [197.0, 193.0, 190.0, 188.0, 186.0, 186.0, 186...      50  \n",
       "162366  [193.0, 190.0, 188.0, 186.0, 186.0, 186.0, 187...      50  \n",
       "\n",
       "[162367 rows x 6 columns]"
      ]
     },
     "execution_count": 93,
     "metadata": {},
     "output_type": "execute_result"
    }
   ],
   "source": [
    "data_original"
   ]
  },
  {
   "cell_type": "code",
   "execution_count": 94,
   "metadata": {},
   "outputs": [
    {
     "name": "stderr",
     "output_type": "stream",
     "text": [
      "100%|██████████| 130761/130761 [00:08<00:00, 14562.31it/s]\n"
     ]
    }
   ],
   "source": [
    "subset = get_subset(data_original,data_premade, translated, ranged)"
   ]
  },
  {
   "cell_type": "code",
   "execution_count": 95,
   "metadata": {},
   "outputs": [],
   "source": [
    "df = pd.DataFrame(subset, columns=['Filename', 'index', 'angle', 'X', 'y', 'length']) \n",
    "df.to_pickle(\"data/control_original.pkl\") # original = with the angles, premade = parkinson"
   ]
  },
  {
   "cell_type": "code",
   "execution_count": 96,
   "metadata": {},
   "outputs": [],
   "source": [
    "import pickle as pkl\n",
    "def save_data_mean_std_all(arrX, arrY, index, filename):\n",
    "    normalized_data = {'X':[], 'y':[], 'index':[]}\n",
    "    df = pd.DataFrame()\n",
    "    for i in tqdm(range(len(arrX))):\n",
    "        innerX = arrX[i]\n",
    "        innerY = arrY[i]\n",
    "        meanX = np.mean(innerX)\n",
    "        stdX = np.std(innerX)\n",
    "        meanY = np.mean(innerY)\n",
    "        stdY = np.std(innerY)\n",
    "        normalized_arr_X = (innerX - meanX) / stdX\n",
    "        normalized_arr_y = (innerY - meanY) / stdY\n",
    "\n",
    "        if not np.isnan(normalized_arr_X[0]) and not np.isnan(normalized_arr_y[0]): \n",
    "            normalized_data['X'].append(normalized_arr_X)\n",
    "            normalized_data['y'].append(normalized_arr_y)\n",
    "            normalized_data['index'].append(index[i])\n",
    "    data = pd.DataFrame(normalized_data)\n",
    "    data.to_pickle(filename)\n",
    "    return data\n",
    "    "
   ]
  },
  {
   "cell_type": "code",
   "execution_count": 97,
   "metadata": {},
   "outputs": [
    {
     "name": "stderr",
     "output_type": "stream",
     "text": [
      "  0%|          | 0/130761 [00:00<?, ?it/s]C:\\Users\\leahz\\AppData\\Local\\Temp\\ipykernel_9756\\2043971446.py:13: RuntimeWarning: invalid value encountered in divide\n",
      "  normalized_arr_y = (innerY - meanY) / stdY\n",
      "C:\\Users\\leahz\\AppData\\Local\\Temp\\ipykernel_9756\\2043971446.py:12: RuntimeWarning: invalid value encountered in divide\n",
      "  normalized_arr_X = (innerX - meanX) / stdX\n",
      "100%|██████████| 130761/130761 [00:03<00:00, 34883.71it/s]\n"
     ]
    }
   ],
   "source": [
    "arrX = list(df['X'].copy())\n",
    "arrY = list(df['y'].copy())\n",
    "index = list(df['index'].copy())\n",
    "control_set = save_data_mean_std_all(arrX, arrY, index,'data/premade_data_all.pkl')"
   ]
  },
  {
   "cell_type": "code",
   "execution_count": 98,
   "metadata": {},
   "outputs": [
    {
     "data": {
      "text/plain": [
       "[<matplotlib.lines.Line2D at 0x19355193ce0>]"
      ]
     },
     "execution_count": 98,
     "metadata": {},
     "output_type": "execute_result"
    },
    {
     "data": {
      "image/png": "[encoded data removed]",
      "text/plain": [
       "<Figure size 640x480 with 1 Axes>"
      ]
     },
     "metadata": {},
     "output_type": "display_data"
    }
   ],
   "source": [
    "r = df.iloc[2]\n",
    "r2 = data_original.iloc[r['index']]\n",
    "plt.plot(r[\"X\"], r[\"y\"])\n",
    "\n",
    "plt.plot(r2[\"X\"], r2[\"y\"])"
   ]
  },
  {
   "cell_type": "markdown",
   "metadata": {},
   "source": [
    "# Model"
   ]
  },
  {
   "cell_type": "code",
   "execution_count": 1,
   "metadata": {},
   "outputs": [],
   "source": [
    "import pandas as pd\n",
    "import numpy as np\n",
    "import tqdm as tqdm\n",
    "import matplotlib.pyplot as plt\n",
    "base = \"C:/Users/leahz/OneDrive/Desktop/Quizlet/ATC4/SYSlab\"\n",
    "parkinson =  pd.read_pickle(f'{base}/data/data_all.pkl')  # has more data; but when indexed should preform well\n",
    "control = pd.read_pickle(\"data/premade_data_all.pkl\")"
   ]
  },
  {
   "cell_type": "code",
   "execution_count": 2,
   "metadata": {},
   "outputs": [
    {
     "data": {
      "text/html": [
       "<div>\n",
       "<style scoped>\n",
       "    .dataframe tbody tr th:only-of-type {\n",
       "        vertical-align: middle;\n",
       "    }\n",
       "\n",
       "    .dataframe tbody tr th {\n",
       "        vertical-align: top;\n",
       "    }\n",
       "\n",
       "    .dataframe thead th {\n",
       "        text-align: right;\n",
       "    }\n",
       "</style>\n",
       "<table border=\"1\" class=\"dataframe\">\n",
       "  <thead>\n",
       "    <tr style=\"text-align: right;\">\n",
       "      <th></th>\n",
       "      <th>X</th>\n",
       "      <th>y</th>\n",
       "      <th>index</th>\n",
       "    </tr>\n",
       "  </thead>\n",
       "  <tbody>\n",
       "    <tr>\n",
       "      <th>0</th>\n",
       "      <td>[-0.7585194642073478, -0.7585194642073478, -0....</td>\n",
       "      <td>[-1.632862912807799, -1.632862912807799, -1.63...</td>\n",
       "      <td>0</td>\n",
       "    </tr>\n",
       "    <tr>\n",
       "      <th>1</th>\n",
       "      <td>[-0.7779893923724863, -0.7779893923724863, -0....</td>\n",
       "      <td>[-1.703897682407522, -1.703897682407522, -1.47...</td>\n",
       "      <td>1</td>\n",
       "    </tr>\n",
       "    <tr>\n",
       "      <th>2</th>\n",
       "      <td>[-0.7976091427589089, -0.7976091427589089, -0....</td>\n",
       "      <td>[-1.782999851892831, -1.5514414295690864, -1.5...</td>\n",
       "      <td>2</td>\n",
       "    </tr>\n",
       "    <tr>\n",
       "      <th>3</th>\n",
       "      <td>[-0.8175074722161106, -0.8175074722161106, -0....</td>\n",
       "      <td>[-1.6370549635770795, -1.6370549635770795, -1....</td>\n",
       "      <td>3</td>\n",
       "    </tr>\n",
       "    <tr>\n",
       "      <th>4</th>\n",
       "      <td>[-0.8377859869858639, -0.8377859869858639, -0....</td>\n",
       "      <td>[-1.7130445635821479, -1.7130445635821479, -1....</td>\n",
       "      <td>4</td>\n",
       "    </tr>\n",
       "    <tr>\n",
       "      <th>...</th>\n",
       "      <td>...</td>\n",
       "      <td>...</td>\n",
       "      <td>...</td>\n",
       "    </tr>\n",
       "    <tr>\n",
       "      <th>160962</th>\n",
       "      <td>[-0.11624763874380539, -0.11624763874380539, 0...</td>\n",
       "      <td>[1.9139640342315782, 1.261688073198421, 0.7025...</td>\n",
       "      <td>162362</td>\n",
       "    </tr>\n",
       "    <tr>\n",
       "      <th>160963</th>\n",
       "      <td>[-0.13945205043010517, 0.27070103907012877, 0....</td>\n",
       "      <td>[1.357624551977322, 0.7839803750854953, 0.3059...</td>\n",
       "      <td>162363</td>\n",
       "    </tr>\n",
       "    <tr>\n",
       "      <th>160964</th>\n",
       "      <td>[0.22194280274512782, 0.22194280274512782, 0.6...</td>\n",
       "      <td>[0.8395427112010607, 0.3581535419343974, -0.02...</td>\n",
       "      <td>162364</td>\n",
       "    </tr>\n",
       "    <tr>\n",
       "      <th>160965</th>\n",
       "      <td>[0.17425742638841127, 0.5530779185371246, 0.93...</td>\n",
       "      <td>[0.39508575304417465, 0.011507352030413276, -0...</td>\n",
       "      <td>162365</td>\n",
       "    </tr>\n",
       "    <tr>\n",
       "      <th>160966</th>\n",
       "      <td>[0.4650194082397905, 0.8173068387245186, 0.817...</td>\n",
       "      <td>[0.03992157365898957, -0.24523252390523015, -0...</td>\n",
       "      <td>162366</td>\n",
       "    </tr>\n",
       "  </tbody>\n",
       "</table>\n",
       "<p>160967 rows × 3 columns</p>\n",
       "</div>"
      ],
      "text/plain": [
       "                                                        X  \\\n",
       "0       [-0.7585194642073478, -0.7585194642073478, -0....   \n",
       "1       [-0.7779893923724863, -0.7779893923724863, -0....   \n",
       "2       [-0.7976091427589089, -0.7976091427589089, -0....   \n",
       "3       [-0.8175074722161106, -0.8175074722161106, -0....   \n",
       "4       [-0.8377859869858639, -0.8377859869858639, -0....   \n",
       "...                                                   ...   \n",
       "160962  [-0.11624763874380539, -0.11624763874380539, 0...   \n",
       "160963  [-0.13945205043010517, 0.27070103907012877, 0....   \n",
       "160964  [0.22194280274512782, 0.22194280274512782, 0.6...   \n",
       "160965  [0.17425742638841127, 0.5530779185371246, 0.93...   \n",
       "160966  [0.4650194082397905, 0.8173068387245186, 0.817...   \n",
       "\n",
       "                                                        y   index  \n",
       "0       [-1.632862912807799, -1.632862912807799, -1.63...       0  \n",
       "1       [-1.703897682407522, -1.703897682407522, -1.47...       1  \n",
       "2       [-1.782999851892831, -1.5514414295690864, -1.5...       2  \n",
       "3       [-1.6370549635770795, -1.6370549635770795, -1....       3  \n",
       "4       [-1.7130445635821479, -1.7130445635821479, -1....       4  \n",
       "...                                                   ...     ...  \n",
       "160962  [1.9139640342315782, 1.261688073198421, 0.7025...  162362  \n",
       "160963  [1.357624551977322, 0.7839803750854953, 0.3059...  162363  \n",
       "160964  [0.8395427112010607, 0.3581535419343974, -0.02...  162364  \n",
       "160965  [0.39508575304417465, 0.011507352030413276, -0...  162365  \n",
       "160966  [0.03992157365898957, -0.24523252390523015, -0...  162366  \n",
       "\n",
       "[160967 rows x 3 columns]"
      ]
     },
     "execution_count": 2,
     "metadata": {},
     "output_type": "execute_result"
    }
   ],
   "source": [
    "parkinson"
   ]
  },
  {
   "cell_type": "code",
   "execution_count": 3,
   "metadata": {},
   "outputs": [
    {
     "data": {
      "text/plain": [
       "[<matplotlib.lines.Line2D at 0x2df1474fcb0>]"
      ]
     },
     "execution_count": 3,
     "metadata": {},
     "output_type": "execute_result"
    },
    {
     "data": {
      "image/png": "[encoded data removed]",
      "text/plain": [
       "<Figure size 640x480 with 1 Axes>"
      ]
     },
     "metadata": {},
     "output_type": "display_data"
    }
   ],
   "source": [
    "plt.plot(parkinson.iloc[1]['X'], parkinson.iloc[1]['y'])"
   ]
  },
  {
   "cell_type": "code",
   "execution_count": 4,
   "metadata": {},
   "outputs": [
    {
     "data": {
      "text/html": [
       "<div>\n",
       "<style scoped>\n",
       "    .dataframe tbody tr th:only-of-type {\n",
       "        vertical-align: middle;\n",
       "    }\n",
       "\n",
       "    .dataframe tbody tr th {\n",
       "        vertical-align: top;\n",
       "    }\n",
       "\n",
       "    .dataframe thead th {\n",
       "        text-align: right;\n",
       "    }\n",
       "</style>\n",
       "<table border=\"1\" class=\"dataframe\">\n",
       "  <thead>\n",
       "    <tr style=\"text-align: right;\">\n",
       "      <th></th>\n",
       "      <th>X</th>\n",
       "      <th>y</th>\n",
       "      <th>index</th>\n",
       "    </tr>\n",
       "  </thead>\n",
       "  <tbody>\n",
       "    <tr>\n",
       "      <th>0</th>\n",
       "      <td>[-1.5957367207642525, -1.5957367207642525, -1....</td>\n",
       "      <td>[1.4001876904675192, 1.4001876904675192, 1.400...</td>\n",
       "      <td>100</td>\n",
       "    </tr>\n",
       "    <tr>\n",
       "      <th>1</th>\n",
       "      <td>[-1.5957367207641846, -1.5957367207641846, -1....</td>\n",
       "      <td>[1.4518095247164289, 1.4518095247164289, 1.451...</td>\n",
       "      <td>101</td>\n",
       "    </tr>\n",
       "    <tr>\n",
       "      <th>2</th>\n",
       "      <td>[-1.5957367207642073, -1.5957367207642073, -1....</td>\n",
       "      <td>[1.5084025690018612, 1.5084025690018612, 1.508...</td>\n",
       "      <td>102</td>\n",
       "    </tr>\n",
       "    <tr>\n",
       "      <th>3</th>\n",
       "      <td>[-1.5312500000000024, -1.5312500000000024, -1....</td>\n",
       "      <td>[1.5612967535335225, 1.5612967535335225, 1.561...</td>\n",
       "      <td>103</td>\n",
       "    </tr>\n",
       "    <tr>\n",
       "      <th>4</th>\n",
       "      <td>[-1.4722339938012692, -1.4722339938012692, -1....</td>\n",
       "      <td>[1.6204340836068207, 1.6204340836068207, 1.620...</td>\n",
       "      <td>104</td>\n",
       "    </tr>\n",
       "    <tr>\n",
       "      <th>...</th>\n",
       "      <td>...</td>\n",
       "      <td>...</td>\n",
       "      <td>...</td>\n",
       "    </tr>\n",
       "    <tr>\n",
       "      <th>127732</th>\n",
       "      <td>[-1.4383093525060813, -1.5893922676852865, -1....</td>\n",
       "      <td>[1.2717089907347563, 1.3387115719115086, 1.338...</td>\n",
       "      <td>160125</td>\n",
       "    </tr>\n",
       "    <tr>\n",
       "      <th>127733</th>\n",
       "      <td>[-1.6561267709147742, -1.6561267709147742, -1....</td>\n",
       "      <td>[1.3908565787714071, 1.3908565787714071, 1.457...</td>\n",
       "      <td>160126</td>\n",
       "    </tr>\n",
       "    <tr>\n",
       "      <th>127734</th>\n",
       "      <td>[-1.7410190600064872, -1.7410190600064872, -1....</td>\n",
       "      <td>[1.4515057904657889, 1.5189236163118545, 1.586...</td>\n",
       "      <td>160127</td>\n",
       "    </tr>\n",
       "    <tr>\n",
       "      <th>127735</th>\n",
       "      <td>[-1.835470389878543, -1.9939738777782583, -1.9...</td>\n",
       "      <td>[1.5861865967510733, 1.6542925047266452, 1.688...</td>\n",
       "      <td>160128</td>\n",
       "    </tr>\n",
       "    <tr>\n",
       "      <th>127736</th>\n",
       "      <td>[-2.104234732625442, -2.104234732625442, -2.10...</td>\n",
       "      <td>[1.7343644552314839, 1.7689686941626788, 1.803...</td>\n",
       "      <td>160129</td>\n",
       "    </tr>\n",
       "  </tbody>\n",
       "</table>\n",
       "<p>127737 rows × 3 columns</p>\n",
       "</div>"
      ],
      "text/plain": [
       "                                                        X  \\\n",
       "0       [-1.5957367207642525, -1.5957367207642525, -1....   \n",
       "1       [-1.5957367207641846, -1.5957367207641846, -1....   \n",
       "2       [-1.5957367207642073, -1.5957367207642073, -1....   \n",
       "3       [-1.5312500000000024, -1.5312500000000024, -1....   \n",
       "4       [-1.4722339938012692, -1.4722339938012692, -1....   \n",
       "...                                                   ...   \n",
       "127732  [-1.4383093525060813, -1.5893922676852865, -1....   \n",
       "127733  [-1.6561267709147742, -1.6561267709147742, -1....   \n",
       "127734  [-1.7410190600064872, -1.7410190600064872, -1....   \n",
       "127735  [-1.835470389878543, -1.9939738777782583, -1.9...   \n",
       "127736  [-2.104234732625442, -2.104234732625442, -2.10...   \n",
       "\n",
       "                                                        y   index  \n",
       "0       [1.4001876904675192, 1.4001876904675192, 1.400...     100  \n",
       "1       [1.4518095247164289, 1.4518095247164289, 1.451...     101  \n",
       "2       [1.5084025690018612, 1.5084025690018612, 1.508...     102  \n",
       "3       [1.5612967535335225, 1.5612967535335225, 1.561...     103  \n",
       "4       [1.6204340836068207, 1.6204340836068207, 1.620...     104  \n",
       "...                                                   ...     ...  \n",
       "127732  [1.2717089907347563, 1.3387115719115086, 1.338...  160125  \n",
       "127733  [1.3908565787714071, 1.3908565787714071, 1.457...  160126  \n",
       "127734  [1.4515057904657889, 1.5189236163118545, 1.586...  160127  \n",
       "127735  [1.5861865967510733, 1.6542925047266452, 1.688...  160128  \n",
       "127736  [1.7343644552314839, 1.7689686941626788, 1.803...  160129  \n",
       "\n",
       "[127737 rows x 3 columns]"
      ]
     },
     "execution_count": 4,
     "metadata": {},
     "output_type": "execute_result"
    }
   ],
   "source": [
    "control"
   ]
  },
  {
   "cell_type": "code",
   "execution_count": 9,
   "metadata": {},
   "outputs": [
    {
     "data": {
      "image/png": "[encoded data removed]",
      "text/plain": [
       "<Figure size 640x480 with 1 Axes>"
      ]
     },
     "metadata": {},
     "output_type": "display_data"
    }
   ],
   "source": [
    "r = control.iloc[200]\n",
    "r2 = parkinson.iloc[r['index']]\n",
    "plt.plot(r[\"X\"], r[\"y\"], label=\"control\")\n",
    "\n",
    "plt.plot(r2[\"X\"], r2[\"y\"], label=\"parkinson's\")\n",
    "plt.legend(loc=\"upper left\")\n",
    "plt.show()"
   ]
  },
  {
   "cell_type": "code",
   "execution_count": 5,
   "metadata": {},
   "outputs": [],
   "source": [
    "parkinson_mod = parkinson.loc[control['index']]"
   ]
  },
  {
   "cell_type": "code",
   "execution_count": 6,
   "metadata": {},
   "outputs": [],
   "source": [
    "control_X = np.array(control['X'])\n",
    "control_y = np.array(control['y'])\n",
    "parkinson_X = np.array(parkinson_mod['X'])\n",
    "parkinson_y = np.array(parkinson_mod['y'])"
   ]
  },
  {
   "cell_type": "code",
   "execution_count": 7,
   "metadata": {},
   "outputs": [
    {
     "name": "stderr",
     "output_type": "stream",
     "text": [
      "100%|██████████| 127737/127737 [00:00<00:00, 445723.62it/s]\n"
     ]
    }
   ],
   "source": [
    "X = []\n",
    "for i in tqdm.tqdm(range(len(control_X))):\n",
    "    exp = np.column_stack((control_X[i], control_y[i]))\n",
    "    X.append(exp)"
   ]
  },
  {
   "cell_type": "code",
   "execution_count": 8,
   "metadata": {},
   "outputs": [
    {
     "name": "stderr",
     "output_type": "stream",
     "text": [
      "100%|██████████| 127737/127737 [00:00<00:00, 436668.51it/s]\n"
     ]
    }
   ],
   "source": [
    "y = []\n",
    "for i in tqdm.tqdm(range(len(parkinson_X))):\n",
    "    exp = np.column_stack((parkinson_X[i], parkinson_y[i]))\n",
    "    y.append(exp)"
   ]
  },
  {
   "cell_type": "code",
   "execution_count": 12,
   "metadata": {},
   "outputs": [],
   "source": [
    "X = np.array(X)\n",
    "y = np.array(y)"
   ]
  },
  {
   "cell_type": "code",
   "execution_count": 13,
   "metadata": {},
   "outputs": [],
   "source": [
    "\n",
    "from sklearn.model_selection import train_test_split\n",
    "X_train, X_test, y_train, y_test = train_test_split(\n",
    "    X, y, test_size=0.33, random_state=42)"
   ]
  },
  {
   "cell_type": "code",
   "execution_count": 15,
   "metadata": {},
   "outputs": [
    {
     "name": "stdout",
     "output_type": "stream",
     "text": [
      "(85583, 50, 2)\n",
      "(85583, 50, 2)\n"
     ]
    }
   ],
   "source": [
    "print(X_train.shape)\n",
    "print(y_train.shape)"
   ]
  },
  {
   "cell_type": "code",
   "execution_count": null,
   "metadata": {},
   "outputs": [],
   "source": [
    "print(y_train)"
   ]
  },
  {
   "cell_type": "code",
   "execution_count": 15,
   "metadata": {},
   "outputs": [
    {
     "data": {
      "text/plain": [
       "(50, 2)"
      ]
     },
     "execution_count": 15,
     "metadata": {},
     "output_type": "execute_result"
    }
   ],
   "source": [
    "X[0].shape"
   ]
  },
  {
   "cell_type": "code",
   "execution_count": 16,
   "metadata": {},
   "outputs": [
    {
     "name": "stderr",
     "output_type": "stream",
     "text": [
      "c:\\Users\\leahz\\anaconda3\\envs\\AIR\\Lib\\site-packages\\keras\\src\\layers\\rnn\\rnn.py:200: UserWarning: Do not pass an `input_shape`/`input_dim` argument to a layer. When using Sequential models, prefer using an `Input(shape)` object as the first layer in the model instead.\n",
      "  super().__init__(**kwargs)\n"
     ]
    },
    {
     "data": {
      "text/html": [
       "<pre style=\"white-space:pre;overflow-x:auto;line-height:normal;font-family:Menlo,'DejaVu Sans Mono',consolas,'Courier New',monospace\"><span style=\"font-weight: bold\">Model: \"sequential\"</span>\n",
       "</pre>\n"
      ],
      "text/plain": [
       "\u001b[1mModel: \"sequential\"\u001b[0m\n"
      ]
     },
     "metadata": {},
     "output_type": "display_data"
    },
    {
     "data": {
      "text/html": [
       "<pre style=\"white-space:pre;overflow-x:auto;line-height:normal;font-family:Menlo,'DejaVu Sans Mono',consolas,'Courier New',monospace\">┏━━━━━━━━━━━━━━━━━━━━━━━━━━━━━━━━━┳━━━━━━━━━━━━━━━━━━━━━━━━┳━━━━━━━━━━━━━━━┓\n",
       "┃<span style=\"font-weight: bold\"> Layer (type)                    </span>┃<span style=\"font-weight: bold\"> Output Shape           </span>┃<span style=\"font-weight: bold\">       Param # </span>┃\n",
       "┡━━━━━━━━━━━━━━━━━━━━━━━━━━━━━━━━━╇━━━━━━━━━━━━━━━━━━━━━━━━╇━━━━━━━━━━━━━━━┩\n",
       "│ lstm (<span style=\"color: #0087ff; text-decoration-color: #0087ff\">LSTM</span>)                     │ (<span style=\"color: #00d7ff; text-decoration-color: #00d7ff\">None</span>, <span style=\"color: #00af00; text-decoration-color: #00af00\">50</span>, <span style=\"color: #00af00; text-decoration-color: #00af00\">64</span>)         │        <span style=\"color: #00af00; text-decoration-color: #00af00\">17,152</span> │\n",
       "├─────────────────────────────────┼────────────────────────┼───────────────┤\n",
       "│ lstm_1 (<span style=\"color: #0087ff; text-decoration-color: #0087ff\">LSTM</span>)                   │ (<span style=\"color: #00d7ff; text-decoration-color: #00d7ff\">None</span>, <span style=\"color: #00af00; text-decoration-color: #00af00\">50</span>, <span style=\"color: #00af00; text-decoration-color: #00af00\">32</span>)         │        <span style=\"color: #00af00; text-decoration-color: #00af00\">12,416</span> │\n",
       "├─────────────────────────────────┼────────────────────────┼───────────────┤\n",
       "│ time_distributed                │ (<span style=\"color: #00d7ff; text-decoration-color: #00d7ff\">None</span>, <span style=\"color: #00af00; text-decoration-color: #00af00\">50</span>, <span style=\"color: #00af00; text-decoration-color: #00af00\">2</span>)          │            <span style=\"color: #00af00; text-decoration-color: #00af00\">66</span> │\n",
       "│ (<span style=\"color: #0087ff; text-decoration-color: #0087ff\">TimeDistributed</span>)               │                        │               │\n",
       "└─────────────────────────────────┴────────────────────────┴───────────────┘\n",
       "</pre>\n"
      ],
      "text/plain": [
       "┏━━━━━━━━━━━━━━━━━━━━━━━━━━━━━━━━━┳━━━━━━━━━━━━━━━━━━━━━━━━┳━━━━━━━━━━━━━━━┓\n",
       "┃\u001b[1m \u001b[0m\u001b[1mLayer (type)                   \u001b[0m\u001b[1m \u001b[0m┃\u001b[1m \u001b[0m\u001b[1mOutput Shape          \u001b[0m\u001b[1m \u001b[0m┃\u001b[1m \u001b[0m\u001b[1m      Param #\u001b[0m\u001b[1m \u001b[0m┃\n",
       "┡━━━━━━━━━━━━━━━━━━━━━━━━━━━━━━━━━╇━━━━━━━━━━━━━━━━━━━━━━━━╇━━━━━━━━━━━━━━━┩\n",
       "│ lstm (\u001b[38;5;33mLSTM\u001b[0m)                     │ (\u001b[38;5;45mNone\u001b[0m, \u001b[38;5;34m50\u001b[0m, \u001b[38;5;34m64\u001b[0m)         │        \u001b[38;5;34m17,152\u001b[0m │\n",
       "├─────────────────────────────────┼────────────────────────┼───────────────┤\n",
       "│ lstm_1 (\u001b[38;5;33mLSTM\u001b[0m)                   │ (\u001b[38;5;45mNone\u001b[0m, \u001b[38;5;34m50\u001b[0m, \u001b[38;5;34m32\u001b[0m)         │        \u001b[38;5;34m12,416\u001b[0m │\n",
       "├─────────────────────────────────┼────────────────────────┼───────────────┤\n",
       "│ time_distributed                │ (\u001b[38;5;45mNone\u001b[0m, \u001b[38;5;34m50\u001b[0m, \u001b[38;5;34m2\u001b[0m)          │            \u001b[38;5;34m66\u001b[0m │\n",
       "│ (\u001b[38;5;33mTimeDistributed\u001b[0m)               │                        │               │\n",
       "└─────────────────────────────────┴────────────────────────┴───────────────┘\n"
      ]
     },
     "metadata": {},
     "output_type": "display_data"
    },
    {
     "data": {
      "text/html": [
       "<pre style=\"white-space:pre;overflow-x:auto;line-height:normal;font-family:Menlo,'DejaVu Sans Mono',consolas,'Courier New',monospace\"><span style=\"font-weight: bold\"> Total params: </span><span style=\"color: #00af00; text-decoration-color: #00af00\">29,634</span> (115.76 KB)\n",
       "</pre>\n"
      ],
      "text/plain": [
       "\u001b[1m Total params: \u001b[0m\u001b[38;5;34m29,634\u001b[0m (115.76 KB)\n"
      ]
     },
     "metadata": {},
     "output_type": "display_data"
    },
    {
     "data": {
      "text/html": [
       "<pre style=\"white-space:pre;overflow-x:auto;line-height:normal;font-family:Menlo,'DejaVu Sans Mono',consolas,'Courier New',monospace\"><span style=\"font-weight: bold\"> Trainable params: </span><span style=\"color: #00af00; text-decoration-color: #00af00\">29,634</span> (115.76 KB)\n",
       "</pre>\n"
      ],
      "text/plain": [
       "\u001b[1m Trainable params: \u001b[0m\u001b[38;5;34m29,634\u001b[0m (115.76 KB)\n"
      ]
     },
     "metadata": {},
     "output_type": "display_data"
    },
    {
     "data": {
      "text/html": [
       "<pre style=\"white-space:pre;overflow-x:auto;line-height:normal;font-family:Menlo,'DejaVu Sans Mono',consolas,'Courier New',monospace\"><span style=\"font-weight: bold\"> Non-trainable params: </span><span style=\"color: #00af00; text-decoration-color: #00af00\">0</span> (0.00 B)\n",
       "</pre>\n"
      ],
      "text/plain": [
       "\u001b[1m Non-trainable params: \u001b[0m\u001b[38;5;34m0\u001b[0m (0.00 B)\n"
      ]
     },
     "metadata": {},
     "output_type": "display_data"
    }
   ],
   "source": [
    "import tensorflow as tf\n",
    "from tensorflow.keras.models import Sequential\n",
    "from tensorflow.keras.layers import LSTM, Dense, TimeDistributed\n",
    "\n",
    "# Define the model\n",
    "model = Sequential([\n",
    "    # LSTM layer to process sequences\n",
    "    LSTM(64, return_sequences=True, input_shape=(50, 2)),\n",
    "    \n",
    "    # Another LSTM layer (optional, for better sequence learning)\n",
    "    LSTM(32, return_sequences=True),\n",
    "    \n",
    "    # TimeDistributed Dense layer for output (2 features at each timestep)\n",
    "    TimeDistributed(Dense(2))\n",
    "])\n",
    "\n",
    "# Compile the model\n",
    "model.compile(optimizer='adam', loss='mse', metrics=['mae'])\n",
    "\n",
    "# Print the model summary\n",
    "model.summary()"
   ]
  },
  {
   "cell_type": "code",
   "execution_count": 17,
   "metadata": {},
   "outputs": [
    {
     "name": "stdout",
     "output_type": "stream",
     "text": [
      "Epoch 1/20\n",
      "\u001b[1m2140/2140\u001b[0m \u001b[32m━━━━━━━━━━━━━━━━━━━━\u001b[0m\u001b[37m\u001b[0m \u001b[1m79s\u001b[0m 36ms/step - loss: 0.2398 - mae: 0.2916 - val_loss: 0.1642 - val_mae: 0.2202\n",
      "Epoch 2/20\n",
      "\u001b[1m2140/2140\u001b[0m \u001b[32m━━━━━━━━━━━━━━━━━━━━\u001b[0m\u001b[37m\u001b[0m \u001b[1m108s\u001b[0m 50ms/step - loss: 0.1634 - mae: 0.2226 - val_loss: 0.1615 - val_mae: 0.2197\n",
      "Epoch 3/20\n",
      "\u001b[1m2140/2140\u001b[0m \u001b[32m━━━━━━━━━━━━━━━━━━━━\u001b[0m\u001b[37m\u001b[0m \u001b[1m98s\u001b[0m 30ms/step - loss: 0.1598 - mae: 0.2189 - val_loss: 0.1580 - val_mae: 0.2119\n",
      "Epoch 4/20\n",
      "\u001b[1m2140/2140\u001b[0m \u001b[32m━━━━━━━━━━━━━━━━━━━━\u001b[0m\u001b[37m\u001b[0m \u001b[1m42s\u001b[0m 20ms/step - loss: 0.1578 - mae: 0.2161 - val_loss: 0.1561 - val_mae: 0.2135\n",
      "Epoch 5/20\n",
      "\u001b[1m2140/2140\u001b[0m \u001b[32m━━━━━━━━━━━━━━━━━━━━\u001b[0m\u001b[37m\u001b[0m \u001b[1m40s\u001b[0m 19ms/step - loss: 0.1565 - mae: 0.2153 - val_loss: 0.1540 - val_mae: 0.2115\n",
      "Epoch 6/20\n",
      "\u001b[1m2140/2140\u001b[0m \u001b[32m━━━━━━━━━━━━━━━━━━━━\u001b[0m\u001b[37m\u001b[0m \u001b[1m42s\u001b[0m 20ms/step - loss: 0.1519 - mae: 0.2113 - val_loss: 0.1530 - val_mae: 0.2127\n",
      "Epoch 7/20\n",
      "\u001b[1m2140/2140\u001b[0m \u001b[32m━━━━━━━━━━━━━━━━━━━━\u001b[0m\u001b[37m\u001b[0m \u001b[1m57s\u001b[0m 26ms/step - loss: 0.1518 - mae: 0.2110 - val_loss: 0.1520 - val_mae: 0.2131\n",
      "Epoch 8/20\n",
      "\u001b[1m2140/2140\u001b[0m \u001b[32m━━━━━━━━━━━━━━━━━━━━\u001b[0m\u001b[37m\u001b[0m \u001b[1m54s\u001b[0m 25ms/step - loss: 0.1513 - mae: 0.2114 - val_loss: 0.1513 - val_mae: 0.2102\n",
      "Epoch 9/20\n",
      "\u001b[1m2140/2140\u001b[0m \u001b[32m━━━━━━━━━━━━━━━━━━━━\u001b[0m\u001b[37m\u001b[0m \u001b[1m55s\u001b[0m 26ms/step - loss: 0.1499 - mae: 0.2097 - val_loss: 0.1517 - val_mae: 0.2116\n",
      "Epoch 10/20\n",
      "\u001b[1m2140/2140\u001b[0m \u001b[32m━━━━━━━━━━━━━━━━━━━━\u001b[0m\u001b[37m\u001b[0m \u001b[1m55s\u001b[0m 26ms/step - loss: 0.1470 - mae: 0.2076 - val_loss: 0.1489 - val_mae: 0.2073\n",
      "Epoch 11/20\n",
      "\u001b[1m2140/2140\u001b[0m \u001b[32m━━━━━━━━━━━━━━━━━━━━\u001b[0m\u001b[37m\u001b[0m \u001b[1m55s\u001b[0m 26ms/step - loss: 0.1460 - mae: 0.2073 - val_loss: 0.1488 - val_mae: 0.2072\n",
      "Epoch 12/20\n",
      "\u001b[1m2140/2140\u001b[0m \u001b[32m━━━━━━━━━━━━━━━━━━━━\u001b[0m\u001b[37m\u001b[0m \u001b[1m57s\u001b[0m 27ms/step - loss: 0.1449 - mae: 0.2066 - val_loss: 0.1480 - val_mae: 0.2061\n",
      "Epoch 13/20\n",
      "\u001b[1m2140/2140\u001b[0m \u001b[32m━━━━━━━━━━━━━━━━━━━━\u001b[0m\u001b[37m\u001b[0m \u001b[1m56s\u001b[0m 26ms/step - loss: 0.1441 - mae: 0.2062 - val_loss: 0.1462 - val_mae: 0.2087\n",
      "Epoch 14/20\n",
      "\u001b[1m2140/2140\u001b[0m \u001b[32m━━━━━━━━━━━━━━━━━━━━\u001b[0m\u001b[37m\u001b[0m \u001b[1m54s\u001b[0m 25ms/step - loss: 0.1423 - mae: 0.2047 - val_loss: 0.1465 - val_mae: 0.2055\n",
      "Epoch 15/20\n",
      "\u001b[1m2140/2140\u001b[0m \u001b[32m━━━━━━━━━━━━━━━━━━━━\u001b[0m\u001b[37m\u001b[0m \u001b[1m86s\u001b[0m 40ms/step - loss: 0.1426 - mae: 0.2045 - val_loss: 0.1456 - val_mae: 0.2041\n",
      "Epoch 16/20\n",
      "\u001b[1m2140/2140\u001b[0m \u001b[32m━━━━━━━━━━━━━━━━━━━━\u001b[0m\u001b[37m\u001b[0m \u001b[1m101s\u001b[0m 47ms/step - loss: 0.1401 - mae: 0.2033 - val_loss: 0.1443 - val_mae: 0.2062\n",
      "Epoch 17/20\n",
      "\u001b[1m2140/2140\u001b[0m \u001b[32m━━━━━━━━━━━━━━━━━━━━\u001b[0m\u001b[37m\u001b[0m \u001b[1m50s\u001b[0m 23ms/step - loss: 0.1403 - mae: 0.2030 - val_loss: 0.1436 - val_mae: 0.2034\n",
      "Epoch 18/20\n",
      "\u001b[1m2140/2140\u001b[0m \u001b[32m━━━━━━━━━━━━━━━━━━━━\u001b[0m\u001b[37m\u001b[0m \u001b[1m66s\u001b[0m 31ms/step - loss: 0.1390 - mae: 0.2021 - val_loss: 0.1424 - val_mae: 0.2038\n",
      "Epoch 19/20\n",
      "\u001b[1m2140/2140\u001b[0m \u001b[32m━━━━━━━━━━━━━━━━━━━━\u001b[0m\u001b[37m\u001b[0m \u001b[1m97s\u001b[0m 45ms/step - loss: 0.1398 - mae: 0.2031 - val_loss: 0.1431 - val_mae: 0.2034\n",
      "Epoch 20/20\n",
      "\u001b[1m2140/2140\u001b[0m \u001b[32m━━━━━━━━━━━━━━━━━━━━\u001b[0m\u001b[37m\u001b[0m \u001b[1m44s\u001b[0m 20ms/step - loss: 0.1385 - mae: 0.2019 - val_loss: 0.1435 - val_mae: 0.2045\n"
     ]
    }
   ],
   "source": [
    "history = model.fit(\n",
    "    X_train, y_train,\n",
    "    validation_split=0.2,  # Use 20% of the data for validation\n",
    "    epochs=20,            # Number of training epochs\n",
    "    batch_size=32         # Adjust batch size if needed\n",
    ")"
   ]
  },
  {
   "cell_type": "code",
   "execution_count": 21,
   "metadata": {},
   "outputs": [],
   "source": [
    "model.save(\"./model/smoothing.keras\")"
   ]
  },
  {
   "cell_type": "code",
   "execution_count": 24,
   "metadata": {},
   "outputs": [
    {
     "name": "stderr",
     "output_type": "stream",
     "text": [
      "c:\\Users\\leahz\\anaconda3\\envs\\AIR\\Lib\\site-packages\\keras\\src\\saving\\saving_lib.py:757: UserWarning: Skipping variable loading for optimizer 'rmsprop', because it has 10 variables whereas the saved optimizer has 18 variables. \n",
      "  saveable.load_own_variables(weights_store.get(inner_path))\n"
     ]
    }
   ],
   "source": [
    "atp =  tf.keras.models.load_model('./model/smoothing.keras')"
   ]
  },
  {
   "cell_type": "code",
   "execution_count": 25,
   "metadata": {},
   "outputs": [
    {
     "data": {
      "text/plain": [
       "<Sequential name=sequential, built=True>"
      ]
     },
     "execution_count": 25,
     "metadata": {},
     "output_type": "execute_result"
    }
   ],
   "source": [
    "atp"
   ]
  },
  {
   "cell_type": "code",
   "execution_count": null,
   "metadata": {},
   "outputs": [],
   "source": [
    "\n",
    "# Evaluate the model\n",
    "test_loss, test_mae = model.evaluate(X_test, y_test)\n",
    "print(f\"Test Loss: {test_loss}, Test MAE: {test_mae}\")\n",
    "\n",
    "# Make predictions\n",
    "predictions = model.predict(X_test)\n",
    "\n",
    "# Example: Predict the blue line for a new orange line\n",
    "new_orange_line = np.array([-2.1832400154313] * X.shape[1])  # Replace with actual data\n",
    "predicted_blue_line = model.predict(new_orange_line.reshape(1, -1))\n",
    "print(\"Predicted Blue Line:\", predicted_blue_line)"
   ]
  },
  {
   "cell_type": "code",
   "execution_count": null,
   "metadata": {},
   "outputs": [],
   "source": []
  }
 ],
 "metadata": {
  "kernelspec": {
   "display_name": "AIR",
   "language": "python",
   "name": "python3"
  },
  "language_info": {
   "codemirror_mode": {
    "name": "ipython",
    "version": 3
   },
   "file_extension": ".py",
   "mimetype": "text/x-python",
   "name": "python",
   "nbconvert_exporter": "python",
   "pygments_lexer": "ipython3",
   "version": "3.12.8"
  }
 },
 "nbformat": 4,
 "nbformat_minor": 2
}
