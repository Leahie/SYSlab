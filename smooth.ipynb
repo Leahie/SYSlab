{
 "cells": [
  {
   "cell_type": "code",
   "execution_count": 1,
   "metadata": {},
   "outputs": [],
   "source": [
    "import pandas as pd \n",
    "import matplotlib.pyplot as plt \n",
    "import numpy as np "
   ]
  },
  {
   "cell_type": "markdown",
   "metadata": {},
   "source": [
    "# Experimenting and Precode"
   ]
  },
  {
   "cell_type": "code",
   "execution_count": 2,
   "metadata": {},
   "outputs": [],
   "source": [
    "base = \"C:/Users/leahz/OneDrive/Desktop/Quizlet/ATC4/SYSlab\"\n",
    "\n",
    "# with open(f'{base}/data/data_all.pkl', 'rb') as f:\n",
    "#     data =  pickle.load(f)\n",
    "data = pd.read_pickle(f'{base}/data/data_all.pkl')\n",
    "data_premade = pd.read_pickle(f'{base}/data/data_premade.pkl') # This is the data after being preprocessed has index not filename\n",
    "data_original = pd.read_pickle(f'G:/My Drive/Sys Lab/modified_data/new/modified_all.pkl') # This is the orginal data, it has the filename\n",
    "data_spirals = pd.read_pickle(f\"{base}/data/data_original_spiral.pkl\")\n",
    "\n",
    "leng = range(len(data))"
   ]
  },
  {
   "cell_type": "code",
   "execution_count": 3,
   "metadata": {},
   "outputs": [
    {
     "data": {
      "text/html": [
       "<div>\n",
       "<style scoped>\n",
       "    .dataframe tbody tr th:only-of-type {\n",
       "        vertical-align: middle;\n",
       "    }\n",
       "\n",
       "    .dataframe tbody tr th {\n",
       "        vertical-align: top;\n",
       "    }\n",
       "\n",
       "    .dataframe thead th {\n",
       "        text-align: right;\n",
       "    }\n",
       "</style>\n",
       "<table border=\"1\" class=\"dataframe\">\n",
       "  <thead>\n",
       "    <tr style=\"text-align: right;\">\n",
       "      <th></th>\n",
       "      <th>X</th>\n",
       "      <th>y</th>\n",
       "      <th>index</th>\n",
       "      <th>target</th>\n",
       "    </tr>\n",
       "  </thead>\n",
       "  <tbody>\n",
       "    <tr>\n",
       "      <th>0</th>\n",
       "      <td>[-2.056546340567396, -2.056546340567396, -1.47...</td>\n",
       "      <td>[-1.3952663046302018, -1.3952663046302018, -1....</td>\n",
       "      <td>70473</td>\n",
       "      <td>[1.4489303763088408, 1.8748890968469032]</td>\n",
       "    </tr>\n",
       "    <tr>\n",
       "      <th>1</th>\n",
       "      <td>[1.66737406371331, 1.66737406371331, 1.6673740...</td>\n",
       "      <td>[-1.9952172111690554, -1.9952172111690554, -1....</td>\n",
       "      <td>74844</td>\n",
       "      <td>[-1.7725966988020012, 2.7933040956366777]</td>\n",
       "    </tr>\n",
       "    <tr>\n",
       "      <th>2</th>\n",
       "      <td>[0.18022639872047436, -0.056913599595946544, -...</td>\n",
       "      <td>[-1.6533837631420183, -1.5283169126774179, -1....</td>\n",
       "      <td>95145</td>\n",
       "      <td>[2.788766380201092, 1.973554900331396]</td>\n",
       "    </tr>\n",
       "    <tr>\n",
       "      <th>3</th>\n",
       "      <td>[-1.8480943565342245, -1.7263490102539736, -1....</td>\n",
       "      <td>[1.803269661665738, 1.3158994828371586, 1.3158...</td>\n",
       "      <td>55640</td>\n",
       "      <td>[1.499902666172703, -2.0956917689628964]</td>\n",
       "    </tr>\n",
       "    <tr>\n",
       "      <th>4</th>\n",
       "      <td>[-2.2259955480133455, -1.8726629213445662, -1....</td>\n",
       "      <td>[1.7763555742918122, 1.680749784502156, 1.4895...</td>\n",
       "      <td>31735</td>\n",
       "      <td>[2.0139959720120904, -2.0478760172944392]</td>\n",
       "    </tr>\n",
       "    <tr>\n",
       "      <th>...</th>\n",
       "      <td>...</td>\n",
       "      <td>...</td>\n",
       "      <td>...</td>\n",
       "      <td>...</td>\n",
       "    </tr>\n",
       "    <tr>\n",
       "      <th>32189</th>\n",
       "      <td>[-1.9470036496822107, -1.9470036496822107, -1....</td>\n",
       "      <td>[-2.201704178130174, -2.201704178130174, -2.20...</td>\n",
       "      <td>139013</td>\n",
       "      <td>[1.7265881421710167, 1.7704425349912787]</td>\n",
       "    </tr>\n",
       "    <tr>\n",
       "      <th>32190</th>\n",
       "      <td>[2.2845990353241943, 2.2845990353241943, 2.284...</td>\n",
       "      <td>[2.1226745220209273, 2.1226745220209273, 2.122...</td>\n",
       "      <td>93198</td>\n",
       "      <td>[-0.8449886842978346, -1.288766674084138]</td>\n",
       "    </tr>\n",
       "    <tr>\n",
       "      <th>32191</th>\n",
       "      <td>[1.6461582494510627, 1.4821982644459757, 1.482...</td>\n",
       "      <td>[-1.5432260242699338, -1.444554283587713, -1.4...</td>\n",
       "      <td>42403</td>\n",
       "      <td>[-1.633041450650661, 1.7129414182433536]</td>\n",
       "    </tr>\n",
       "    <tr>\n",
       "      <th>32192</th>\n",
       "      <td>[-1.9279335090084688, -1.9279335090084688, -1....</td>\n",
       "      <td>[-0.8164965809276795, -0.8164965809276795, -0....</td>\n",
       "      <td>62161</td>\n",
       "      <td>[1.2675363954254597, 1.2247448713916351]</td>\n",
       "    </tr>\n",
       "    <tr>\n",
       "      <th>32193</th>\n",
       "      <td>[2.085647512825636, 1.939798036404263, 1.79394...</td>\n",
       "      <td>[2.936303306891295, 2.936303306891295, 1.63705...</td>\n",
       "      <td>27490</td>\n",
       "      <td>[-1.2688904448659606, 0.33780480521758033]</td>\n",
       "    </tr>\n",
       "  </tbody>\n",
       "</table>\n",
       "<p>160967 rows × 4 columns</p>\n",
       "</div>"
      ],
      "text/plain": [
       "                                                       X  \\\n",
       "0      [-2.056546340567396, -2.056546340567396, -1.47...   \n",
       "1      [1.66737406371331, 1.66737406371331, 1.6673740...   \n",
       "2      [0.18022639872047436, -0.056913599595946544, -...   \n",
       "3      [-1.8480943565342245, -1.7263490102539736, -1....   \n",
       "4      [-2.2259955480133455, -1.8726629213445662, -1....   \n",
       "...                                                  ...   \n",
       "32189  [-1.9470036496822107, -1.9470036496822107, -1....   \n",
       "32190  [2.2845990353241943, 2.2845990353241943, 2.284...   \n",
       "32191  [1.6461582494510627, 1.4821982644459757, 1.482...   \n",
       "32192  [-1.9279335090084688, -1.9279335090084688, -1....   \n",
       "32193  [2.085647512825636, 1.939798036404263, 1.79394...   \n",
       "\n",
       "                                                       y   index  \\\n",
       "0      [-1.3952663046302018, -1.3952663046302018, -1....   70473   \n",
       "1      [-1.9952172111690554, -1.9952172111690554, -1....   74844   \n",
       "2      [-1.6533837631420183, -1.5283169126774179, -1....   95145   \n",
       "3      [1.803269661665738, 1.3158994828371586, 1.3158...   55640   \n",
       "4      [1.7763555742918122, 1.680749784502156, 1.4895...   31735   \n",
       "...                                                  ...     ...   \n",
       "32189  [-2.201704178130174, -2.201704178130174, -2.20...  139013   \n",
       "32190  [2.1226745220209273, 2.1226745220209273, 2.122...   93198   \n",
       "32191  [-1.5432260242699338, -1.444554283587713, -1.4...   42403   \n",
       "32192  [-0.8164965809276795, -0.8164965809276795, -0....   62161   \n",
       "32193  [2.936303306891295, 2.936303306891295, 1.63705...   27490   \n",
       "\n",
       "                                           target  \n",
       "0        [1.4489303763088408, 1.8748890968469032]  \n",
       "1       [-1.7725966988020012, 2.7933040956366777]  \n",
       "2          [2.788766380201092, 1.973554900331396]  \n",
       "3        [1.499902666172703, -2.0956917689628964]  \n",
       "4       [2.0139959720120904, -2.0478760172944392]  \n",
       "...                                           ...  \n",
       "32189    [1.7265881421710167, 1.7704425349912787]  \n",
       "32190   [-0.8449886842978346, -1.288766674084138]  \n",
       "32191    [-1.633041450650661, 1.7129414182433536]  \n",
       "32192    [1.2675363954254597, 1.2247448713916351]  \n",
       "32193  [-1.2688904448659606, 0.33780480521758033]  \n",
       "\n",
       "[160967 rows x 4 columns]"
      ]
     },
     "execution_count": 3,
     "metadata": {},
     "output_type": "execute_result"
    }
   ],
   "source": [
    "data_premade"
   ]
  },
  {
   "cell_type": "code",
   "execution_count": 4,
   "metadata": {},
   "outputs": [],
   "source": [
    "def taylor_smooth(t, f, window_size=5):\n",
    "    smoothed = np.zeros_like(f)\n",
    "    half_window = window_size // 2\n",
    "    \n",
    "    for i in range(len(f)):\n",
    "        start = max(0, i - half_window)\n",
    "        end = min(len(f), i + half_window + 1)\n",
    "        local_t = t[start:end]\n",
    "        local_f = f[start:end]\n",
    "        coeffs = np.polyfit(local_t - t[i], local_f, 1)\n",
    "        smoothed[i] = np.polyval(coeffs, 0)  # Evaluate at t[i]\n",
    "    \n",
    "    return smoothed"
   ]
  },
  {
   "cell_type": "code",
   "execution_count": 5,
   "metadata": {},
   "outputs": [],
   "source": [
    "tempx = data_premade['X'].iloc[10]\n",
    "tempy = data_premade['y'].iloc[10]\n",
    "t = np.linspace(0, len(tempy)) \n"
   ]
  },
  {
   "cell_type": "code",
   "execution_count": 6,
   "metadata": {},
   "outputs": [
    {
     "data": {
      "image/png": "[encoded data removed]",
      "text/plain": [
       "<Figure size 1000x500 with 1 Axes>"
      ]
     },
     "metadata": {},
     "output_type": "display_data"
    }
   ],
   "source": [
    "# Smooth x and y curves\n",
    "x_smooth = taylor_smooth(t, tempx)\n",
    "y_smooth = taylor_smooth(t, tempy)\n",
    "\n",
    "# Plot original and smoothed curves\n",
    "plt.figure(figsize=(10, 5))\n",
    "plt.plot(tempx, tempy, label='Original Data', alpha=0.5)\n",
    "plt.plot(x_smooth, y_smooth, label='Smoothed Curve', linewidth=2)\n",
    "plt.legend()\n",
    "plt.xlabel('x')\n",
    "plt.ylabel('y')\n",
    "plt.title('Curve Smoothing Using Taylor Series')\n",
    "plt.show()"
   ]
  },
  {
   "cell_type": "code",
   "execution_count": 7,
   "metadata": {},
   "outputs": [
    {
     "data": {
      "image/png": "[encoded data removed]",
      "text/plain": [
       "<Figure size 640x480 with 1 Axes>"
      ]
     },
     "metadata": {},
     "output_type": "display_data"
    }
   ],
   "source": [
    "import numpy as np\n",
    "import matplotlib.pyplot as plt\n",
    "from scipy.signal import savgol_filter\n",
    "\n",
    "\n",
    "xhat = savgol_filter(tempx, 49, 3)\n",
    "yhat = savgol_filter(tempy, 49, 3) \n",
    "\n",
    "plt.plot(tempx,tempy)\n",
    "plt.plot(xhat,yhat, color='red')\n",
    "plt.show()\n"
   ]
  },
  {
   "cell_type": "markdown",
   "metadata": {},
   "source": [
    "# ML Approach"
   ]
  },
  {
   "cell_type": "code",
   "execution_count": 8,
   "metadata": {},
   "outputs": [],
   "source": [
    "controls = pd.read_pickle(\"./data/controls.pkl\")\n",
    "data_original = pd.read_pickle(f'G:/My Drive/Sys Lab/modified_data/new/modified_all.pkl') # This is the orginal data, it has the filename\n"
   ]
  },
  {
   "cell_type": "code",
   "execution_count": 9,
   "metadata": {},
   "outputs": [
    {
     "data": {
      "text/html": [
       "<div>\n",
       "<style scoped>\n",
       "    .dataframe tbody tr th:only-of-type {\n",
       "        vertical-align: middle;\n",
       "    }\n",
       "\n",
       "    .dataframe tbody tr th {\n",
       "        vertical-align: top;\n",
       "    }\n",
       "\n",
       "    .dataframe thead th {\n",
       "        text-align: right;\n",
       "    }\n",
       "</style>\n",
       "<table border=\"1\" class=\"dataframe\">\n",
       "  <thead>\n",
       "    <tr style=\"text-align: right;\">\n",
       "      <th></th>\n",
       "      <th>Filename</th>\n",
       "      <th>X</th>\n",
       "      <th>y</th>\n",
       "    </tr>\n",
       "  </thead>\n",
       "  <tbody>\n",
       "    <tr>\n",
       "      <th>0</th>\n",
       "      <td>./data/hw_dataset/control/C_0001.txt</td>\n",
       "      <td>[200.0, 200.0, 200.0, 200.0, 200.0, 200.0, 200...</td>\n",
       "      <td>[204.0, 204.0, 204.0, 204.0, 204.0, 204.0, 204...</td>\n",
       "    </tr>\n",
       "    <tr>\n",
       "      <th>1</th>\n",
       "      <td>./data/hw_dataset/control/C_0002.txt</td>\n",
       "      <td>[200.0, 200.0, 200.0, 200.0, 200.0, 200.0, 200...</td>\n",
       "      <td>[204.0, 204.0, 204.0, 204.0, 204.0, 205.0, 205...</td>\n",
       "    </tr>\n",
       "    <tr>\n",
       "      <th>2</th>\n",
       "      <td>./data/hw_dataset/control/C_0003.txt</td>\n",
       "      <td>[200.0, 200.0, 200.0, 200.0, 200.0, 200.0, 200...</td>\n",
       "      <td>[204.0, 204.0, 204.0, 204.0, 204.0, 204.0, 204...</td>\n",
       "    </tr>\n",
       "    <tr>\n",
       "      <th>3</th>\n",
       "      <td>./data/hw_dataset/control/C_0004.txt</td>\n",
       "      <td>[200.0, 200.0, 200.0, 199.00202702702703, 199....</td>\n",
       "      <td>[204.0, 204.0, 204.0, 204.0, 204.0, 204.0, 204...</td>\n",
       "    </tr>\n",
       "    <tr>\n",
       "      <th>4</th>\n",
       "      <td>./data/hw_dataset/control/C_0005.txt</td>\n",
       "      <td>[200.0, 200.0, 200.0, 200.0, 200.0, 200.0, 200...</td>\n",
       "      <td>[204.0, 204.0, 204.0, 204.0, 204.0, 204.0, 204...</td>\n",
       "    </tr>\n",
       "    <tr>\n",
       "      <th>5</th>\n",
       "      <td>./data/hw_dataset/control/C_0006.txt</td>\n",
       "      <td>[200.0, 200.0, 200.0, 200.0, 200.0, 200.0, 201...</td>\n",
       "      <td>[204.0, 204.0, 204.0, 204.0, 204.0, 204.0, 204...</td>\n",
       "    </tr>\n",
       "    <tr>\n",
       "      <th>6</th>\n",
       "      <td>./data/hw_dataset/control/C_0007.txt</td>\n",
       "      <td>[200.0, 200.0, 200.0, 200.0, 200.0, 200.0, 200...</td>\n",
       "      <td>[204.0, 204.0, 204.0, 204.0, 204.0, 204.0, 204...</td>\n",
       "    </tr>\n",
       "    <tr>\n",
       "      <th>7</th>\n",
       "      <td>./data/hw_dataset/control/C_0008.txt</td>\n",
       "      <td>[200.0, 200.0, 200.0, 200.0, 200.0, 200.0, 200...</td>\n",
       "      <td>[204.0, 204.0, 204.0, 204.0, 203.0, 203.0, 203...</td>\n",
       "    </tr>\n",
       "    <tr>\n",
       "      <th>8</th>\n",
       "      <td>./data/hw_dataset/control/C_0009.txt</td>\n",
       "      <td>[200.0, 200.0, 200.0, 200.0, 200.0, 200.0, 200...</td>\n",
       "      <td>[204.0, 204.0, 204.0, 204.0, 204.0, 204.0, 204...</td>\n",
       "    </tr>\n",
       "  </tbody>\n",
       "</table>\n",
       "</div>"
      ],
      "text/plain": [
       "                               Filename  \\\n",
       "0  ./data/hw_dataset/control/C_0001.txt   \n",
       "1  ./data/hw_dataset/control/C_0002.txt   \n",
       "2  ./data/hw_dataset/control/C_0003.txt   \n",
       "3  ./data/hw_dataset/control/C_0004.txt   \n",
       "4  ./data/hw_dataset/control/C_0005.txt   \n",
       "5  ./data/hw_dataset/control/C_0006.txt   \n",
       "6  ./data/hw_dataset/control/C_0007.txt   \n",
       "7  ./data/hw_dataset/control/C_0008.txt   \n",
       "8  ./data/hw_dataset/control/C_0009.txt   \n",
       "\n",
       "                                                   X  \\\n",
       "0  [200.0, 200.0, 200.0, 200.0, 200.0, 200.0, 200...   \n",
       "1  [200.0, 200.0, 200.0, 200.0, 200.0, 200.0, 200...   \n",
       "2  [200.0, 200.0, 200.0, 200.0, 200.0, 200.0, 200...   \n",
       "3  [200.0, 200.0, 200.0, 199.00202702702703, 199....   \n",
       "4  [200.0, 200.0, 200.0, 200.0, 200.0, 200.0, 200...   \n",
       "5  [200.0, 200.0, 200.0, 200.0, 200.0, 200.0, 201...   \n",
       "6  [200.0, 200.0, 200.0, 200.0, 200.0, 200.0, 200...   \n",
       "7  [200.0, 200.0, 200.0, 200.0, 200.0, 200.0, 200...   \n",
       "8  [200.0, 200.0, 200.0, 200.0, 200.0, 200.0, 200...   \n",
       "\n",
       "                                                   y  \n",
       "0  [204.0, 204.0, 204.0, 204.0, 204.0, 204.0, 204...  \n",
       "1  [204.0, 204.0, 204.0, 204.0, 204.0, 205.0, 205...  \n",
       "2  [204.0, 204.0, 204.0, 204.0, 204.0, 204.0, 204...  \n",
       "3  [204.0, 204.0, 204.0, 204.0, 204.0, 204.0, 204...  \n",
       "4  [204.0, 204.0, 204.0, 204.0, 204.0, 204.0, 204...  \n",
       "5  [204.0, 204.0, 204.0, 204.0, 204.0, 204.0, 204...  \n",
       "6  [204.0, 204.0, 204.0, 204.0, 204.0, 204.0, 204...  \n",
       "7  [204.0, 204.0, 204.0, 204.0, 203.0, 203.0, 203...  \n",
       "8  [204.0, 204.0, 204.0, 204.0, 204.0, 204.0, 204...  "
      ]
     },
     "execution_count": 9,
     "metadata": {},
     "output_type": "execute_result"
    }
   ],
   "source": [
    "controls"
   ]
  },
  {
   "cell_type": "code",
   "execution_count": 10,
   "metadata": {},
   "outputs": [
    {
     "data": {
      "text/html": [
       "<div>\n",
       "<style scoped>\n",
       "    .dataframe tbody tr th:only-of-type {\n",
       "        vertical-align: middle;\n",
       "    }\n",
       "\n",
       "    .dataframe tbody tr th {\n",
       "        vertical-align: top;\n",
       "    }\n",
       "\n",
       "    .dataframe thead th {\n",
       "        text-align: right;\n",
       "    }\n",
       "</style>\n",
       "<table border=\"1\" class=\"dataframe\">\n",
       "  <thead>\n",
       "    <tr style=\"text-align: right;\">\n",
       "      <th></th>\n",
       "      <th>X</th>\n",
       "      <th>y</th>\n",
       "      <th>index</th>\n",
       "      <th>target</th>\n",
       "    </tr>\n",
       "  </thead>\n",
       "  <tbody>\n",
       "    <tr>\n",
       "      <th>0</th>\n",
       "      <td>[-2.056546340567396, -2.056546340567396, -1.47...</td>\n",
       "      <td>[-1.3952663046302018, -1.3952663046302018, -1....</td>\n",
       "      <td>70473</td>\n",
       "      <td>[1.4489303763088408, 1.8748890968469032]</td>\n",
       "    </tr>\n",
       "    <tr>\n",
       "      <th>1</th>\n",
       "      <td>[1.66737406371331, 1.66737406371331, 1.6673740...</td>\n",
       "      <td>[-1.9952172111690554, -1.9952172111690554, -1....</td>\n",
       "      <td>74844</td>\n",
       "      <td>[-1.7725966988020012, 2.7933040956366777]</td>\n",
       "    </tr>\n",
       "    <tr>\n",
       "      <th>2</th>\n",
       "      <td>[0.18022639872047436, -0.056913599595946544, -...</td>\n",
       "      <td>[-1.6533837631420183, -1.5283169126774179, -1....</td>\n",
       "      <td>95145</td>\n",
       "      <td>[2.788766380201092, 1.973554900331396]</td>\n",
       "    </tr>\n",
       "    <tr>\n",
       "      <th>3</th>\n",
       "      <td>[-1.8480943565342245, -1.7263490102539736, -1....</td>\n",
       "      <td>[1.803269661665738, 1.3158994828371586, 1.3158...</td>\n",
       "      <td>55640</td>\n",
       "      <td>[1.499902666172703, -2.0956917689628964]</td>\n",
       "    </tr>\n",
       "    <tr>\n",
       "      <th>4</th>\n",
       "      <td>[-2.2259955480133455, -1.8726629213445662, -1....</td>\n",
       "      <td>[1.7763555742918122, 1.680749784502156, 1.4895...</td>\n",
       "      <td>31735</td>\n",
       "      <td>[2.0139959720120904, -2.0478760172944392]</td>\n",
       "    </tr>\n",
       "    <tr>\n",
       "      <th>...</th>\n",
       "      <td>...</td>\n",
       "      <td>...</td>\n",
       "      <td>...</td>\n",
       "      <td>...</td>\n",
       "    </tr>\n",
       "    <tr>\n",
       "      <th>32189</th>\n",
       "      <td>[-1.9470036496822107, -1.9470036496822107, -1....</td>\n",
       "      <td>[-2.201704178130174, -2.201704178130174, -2.20...</td>\n",
       "      <td>139013</td>\n",
       "      <td>[1.7265881421710167, 1.7704425349912787]</td>\n",
       "    </tr>\n",
       "    <tr>\n",
       "      <th>32190</th>\n",
       "      <td>[2.2845990353241943, 2.2845990353241943, 2.284...</td>\n",
       "      <td>[2.1226745220209273, 2.1226745220209273, 2.122...</td>\n",
       "      <td>93198</td>\n",
       "      <td>[-0.8449886842978346, -1.288766674084138]</td>\n",
       "    </tr>\n",
       "    <tr>\n",
       "      <th>32191</th>\n",
       "      <td>[1.6461582494510627, 1.4821982644459757, 1.482...</td>\n",
       "      <td>[-1.5432260242699338, -1.444554283587713, -1.4...</td>\n",
       "      <td>42403</td>\n",
       "      <td>[-1.633041450650661, 1.7129414182433536]</td>\n",
       "    </tr>\n",
       "    <tr>\n",
       "      <th>32192</th>\n",
       "      <td>[-1.9279335090084688, -1.9279335090084688, -1....</td>\n",
       "      <td>[-0.8164965809276795, -0.8164965809276795, -0....</td>\n",
       "      <td>62161</td>\n",
       "      <td>[1.2675363954254597, 1.2247448713916351]</td>\n",
       "    </tr>\n",
       "    <tr>\n",
       "      <th>32193</th>\n",
       "      <td>[2.085647512825636, 1.939798036404263, 1.79394...</td>\n",
       "      <td>[2.936303306891295, 2.936303306891295, 1.63705...</td>\n",
       "      <td>27490</td>\n",
       "      <td>[-1.2688904448659606, 0.33780480521758033]</td>\n",
       "    </tr>\n",
       "  </tbody>\n",
       "</table>\n",
       "<p>160967 rows × 4 columns</p>\n",
       "</div>"
      ],
      "text/plain": [
       "                                                       X  \\\n",
       "0      [-2.056546340567396, -2.056546340567396, -1.47...   \n",
       "1      [1.66737406371331, 1.66737406371331, 1.6673740...   \n",
       "2      [0.18022639872047436, -0.056913599595946544, -...   \n",
       "3      [-1.8480943565342245, -1.7263490102539736, -1....   \n",
       "4      [-2.2259955480133455, -1.8726629213445662, -1....   \n",
       "...                                                  ...   \n",
       "32189  [-1.9470036496822107, -1.9470036496822107, -1....   \n",
       "32190  [2.2845990353241943, 2.2845990353241943, 2.284...   \n",
       "32191  [1.6461582494510627, 1.4821982644459757, 1.482...   \n",
       "32192  [-1.9279335090084688, -1.9279335090084688, -1....   \n",
       "32193  [2.085647512825636, 1.939798036404263, 1.79394...   \n",
       "\n",
       "                                                       y   index  \\\n",
       "0      [-1.3952663046302018, -1.3952663046302018, -1....   70473   \n",
       "1      [-1.9952172111690554, -1.9952172111690554, -1....   74844   \n",
       "2      [-1.6533837631420183, -1.5283169126774179, -1....   95145   \n",
       "3      [1.803269661665738, 1.3158994828371586, 1.3158...   55640   \n",
       "4      [1.7763555742918122, 1.680749784502156, 1.4895...   31735   \n",
       "...                                                  ...     ...   \n",
       "32189  [-2.201704178130174, -2.201704178130174, -2.20...  139013   \n",
       "32190  [2.1226745220209273, 2.1226745220209273, 2.122...   93198   \n",
       "32191  [-1.5432260242699338, -1.444554283587713, -1.4...   42403   \n",
       "32192  [-0.8164965809276795, -0.8164965809276795, -0....   62161   \n",
       "32193  [2.936303306891295, 2.936303306891295, 1.63705...   27490   \n",
       "\n",
       "                                           target  \n",
       "0        [1.4489303763088408, 1.8748890968469032]  \n",
       "1       [-1.7725966988020012, 2.7933040956366777]  \n",
       "2          [2.788766380201092, 1.973554900331396]  \n",
       "3        [1.499902666172703, -2.0956917689628964]  \n",
       "4       [2.0139959720120904, -2.0478760172944392]  \n",
       "...                                           ...  \n",
       "32189    [1.7265881421710167, 1.7704425349912787]  \n",
       "32190   [-0.8449886842978346, -1.288766674084138]  \n",
       "32191    [-1.633041450650661, 1.7129414182433536]  \n",
       "32192    [1.2675363954254597, 1.2247448713916351]  \n",
       "32193  [-1.2688904448659606, 0.33780480521758033]  \n",
       "\n",
       "[160967 rows x 4 columns]"
      ]
     },
     "execution_count": 10,
     "metadata": {},
     "output_type": "execute_result"
    }
   ],
   "source": [
    "data_premade"
   ]
  },
  {
   "cell_type": "code",
   "execution_count": 11,
   "metadata": {},
   "outputs": [
    {
     "data": {
      "text/html": [
       "<div>\n",
       "<style scoped>\n",
       "    .dataframe tbody tr th:only-of-type {\n",
       "        vertical-align: middle;\n",
       "    }\n",
       "\n",
       "    .dataframe tbody tr th {\n",
       "        vertical-align: top;\n",
       "    }\n",
       "\n",
       "    .dataframe thead th {\n",
       "        text-align: right;\n",
       "    }\n",
       "</style>\n",
       "<table border=\"1\" class=\"dataframe\">\n",
       "  <thead>\n",
       "    <tr style=\"text-align: right;\">\n",
       "      <th></th>\n",
       "      <th>Filename</th>\n",
       "      <th>index</th>\n",
       "      <th>angle</th>\n",
       "      <th>X</th>\n",
       "      <th>y</th>\n",
       "      <th>length</th>\n",
       "    </tr>\n",
       "  </thead>\n",
       "  <tbody>\n",
       "    <tr>\n",
       "      <th>0</th>\n",
       "      <td>./data/hw_dataset/parkinson/P_02100001.txt</td>\n",
       "      <td>51</td>\n",
       "      <td>144</td>\n",
       "      <td>[197.8960113960114, 197.8960113960114, 197.896...</td>\n",
       "      <td>[207.0, 207.0, 207.0, 208.0, 208.0, 208.0, 209...</td>\n",
       "      <td>50</td>\n",
       "    </tr>\n",
       "    <tr>\n",
       "      <th>1</th>\n",
       "      <td>./data/hw_dataset/parkinson/P_02100001.txt</td>\n",
       "      <td>52</td>\n",
       "      <td>21</td>\n",
       "      <td>[197.8960113960114, 197.8960113960114, 197.896...</td>\n",
       "      <td>[207.0, 207.0, 208.0, 208.0, 208.0, 209.0, 209...</td>\n",
       "      <td>50</td>\n",
       "    </tr>\n",
       "    <tr>\n",
       "      <th>2</th>\n",
       "      <td>./data/hw_dataset/parkinson/P_02100001.txt</td>\n",
       "      <td>53</td>\n",
       "      <td>117</td>\n",
       "      <td>[197.8960113960114, 197.8960113960114, 197.896...</td>\n",
       "      <td>[207.0, 208.0, 208.0, 208.0, 209.0, 209.0, 209...</td>\n",
       "      <td>50</td>\n",
       "    </tr>\n",
       "    <tr>\n",
       "      <th>3</th>\n",
       "      <td>./data/hw_dataset/parkinson/P_02100001.txt</td>\n",
       "      <td>54</td>\n",
       "      <td>282</td>\n",
       "      <td>[197.8960113960114, 197.8960113960114, 197.896...</td>\n",
       "      <td>[208.0, 208.0, 208.0, 209.0, 209.0, 209.0, 209...</td>\n",
       "      <td>50</td>\n",
       "    </tr>\n",
       "    <tr>\n",
       "      <th>4</th>\n",
       "      <td>./data/hw_dataset/parkinson/P_02100001.txt</td>\n",
       "      <td>55</td>\n",
       "      <td>142</td>\n",
       "      <td>[197.8960113960114, 197.8960113960114, 197.896...</td>\n",
       "      <td>[208.0, 208.0, 209.0, 209.0, 209.0, 209.0, 210...</td>\n",
       "      <td>50</td>\n",
       "    </tr>\n",
       "    <tr>\n",
       "      <th>...</th>\n",
       "      <td>...</td>\n",
       "      <td>...</td>\n",
       "      <td>...</td>\n",
       "      <td>...</td>\n",
       "      <td>...</td>\n",
       "      <td>...</td>\n",
       "    </tr>\n",
       "    <tr>\n",
       "      <th>162362</th>\n",
       "      <td>./data/new_dataset/parkinson/H_p000-0043.txt</td>\n",
       "      <td>1755</td>\n",
       "      <td>19</td>\n",
       "      <td>[395.7121409921671, 395.7121409921671, 396.676...</td>\n",
       "      <td>[215.0, 208.0, 202.0, 197.0, 193.0, 190.0, 188...</td>\n",
       "      <td>50</td>\n",
       "    </tr>\n",
       "    <tr>\n",
       "      <th>162363</th>\n",
       "      <td>./data/new_dataset/parkinson/H_p000-0043.txt</td>\n",
       "      <td>1756</td>\n",
       "      <td>35</td>\n",
       "      <td>[395.7121409921671, 396.6762402088773, 396.676...</td>\n",
       "      <td>[208.0, 202.0, 197.0, 193.0, 190.0, 188.0, 186...</td>\n",
       "      <td>50</td>\n",
       "    </tr>\n",
       "    <tr>\n",
       "      <th>162364</th>\n",
       "      <td>./data/new_dataset/parkinson/H_p000-0043.txt</td>\n",
       "      <td>1757</td>\n",
       "      <td>199</td>\n",
       "      <td>[396.6762402088773, 396.6762402088773, 397.640...</td>\n",
       "      <td>[202.0, 197.0, 193.0, 190.0, 188.0, 186.0, 186...</td>\n",
       "      <td>50</td>\n",
       "    </tr>\n",
       "    <tr>\n",
       "      <th>162365</th>\n",
       "      <td>./data/new_dataset/parkinson/H_p000-0043.txt</td>\n",
       "      <td>1758</td>\n",
       "      <td>306</td>\n",
       "      <td>[396.6762402088773, 397.64033942558746, 398.60...</td>\n",
       "      <td>[197.0, 193.0, 190.0, 188.0, 186.0, 186.0, 186...</td>\n",
       "      <td>50</td>\n",
       "    </tr>\n",
       "    <tr>\n",
       "      <th>162366</th>\n",
       "      <td>./data/new_dataset/parkinson/H_p000-0043.txt</td>\n",
       "      <td>1759</td>\n",
       "      <td>229</td>\n",
       "      <td>[397.64033942558746, 398.6044386422977, 398.60...</td>\n",
       "      <td>[193.0, 190.0, 188.0, 186.0, 186.0, 186.0, 187...</td>\n",
       "      <td>50</td>\n",
       "    </tr>\n",
       "  </tbody>\n",
       "</table>\n",
       "<p>162367 rows × 6 columns</p>\n",
       "</div>"
      ],
      "text/plain": [
       "                                            Filename  index  angle  \\\n",
       "0         ./data/hw_dataset/parkinson/P_02100001.txt     51    144   \n",
       "1         ./data/hw_dataset/parkinson/P_02100001.txt     52     21   \n",
       "2         ./data/hw_dataset/parkinson/P_02100001.txt     53    117   \n",
       "3         ./data/hw_dataset/parkinson/P_02100001.txt     54    282   \n",
       "4         ./data/hw_dataset/parkinson/P_02100001.txt     55    142   \n",
       "...                                              ...    ...    ...   \n",
       "162362  ./data/new_dataset/parkinson/H_p000-0043.txt   1755     19   \n",
       "162363  ./data/new_dataset/parkinson/H_p000-0043.txt   1756     35   \n",
       "162364  ./data/new_dataset/parkinson/H_p000-0043.txt   1757    199   \n",
       "162365  ./data/new_dataset/parkinson/H_p000-0043.txt   1758    306   \n",
       "162366  ./data/new_dataset/parkinson/H_p000-0043.txt   1759    229   \n",
       "\n",
       "                                                        X  \\\n",
       "0       [197.8960113960114, 197.8960113960114, 197.896...   \n",
       "1       [197.8960113960114, 197.8960113960114, 197.896...   \n",
       "2       [197.8960113960114, 197.8960113960114, 197.896...   \n",
       "3       [197.8960113960114, 197.8960113960114, 197.896...   \n",
       "4       [197.8960113960114, 197.8960113960114, 197.896...   \n",
       "...                                                   ...   \n",
       "162362  [395.7121409921671, 395.7121409921671, 396.676...   \n",
       "162363  [395.7121409921671, 396.6762402088773, 396.676...   \n",
       "162364  [396.6762402088773, 396.6762402088773, 397.640...   \n",
       "162365  [396.6762402088773, 397.64033942558746, 398.60...   \n",
       "162366  [397.64033942558746, 398.6044386422977, 398.60...   \n",
       "\n",
       "                                                        y  length  \n",
       "0       [207.0, 207.0, 207.0, 208.0, 208.0, 208.0, 209...      50  \n",
       "1       [207.0, 207.0, 208.0, 208.0, 208.0, 209.0, 209...      50  \n",
       "2       [207.0, 208.0, 208.0, 208.0, 209.0, 209.0, 209...      50  \n",
       "3       [208.0, 208.0, 208.0, 209.0, 209.0, 209.0, 209...      50  \n",
       "4       [208.0, 208.0, 209.0, 209.0, 209.0, 209.0, 210...      50  \n",
       "...                                                   ...     ...  \n",
       "162362  [215.0, 208.0, 202.0, 197.0, 193.0, 190.0, 188...      50  \n",
       "162363  [208.0, 202.0, 197.0, 193.0, 190.0, 188.0, 186...      50  \n",
       "162364  [202.0, 197.0, 193.0, 190.0, 188.0, 186.0, 186...      50  \n",
       "162365  [197.0, 193.0, 190.0, 188.0, 186.0, 186.0, 186...      50  \n",
       "162366  [193.0, 190.0, 188.0, 186.0, 186.0, 186.0, 187...      50  \n",
       "\n",
       "[162367 rows x 6 columns]"
      ]
     },
     "execution_count": 11,
     "metadata": {},
     "output_type": "execute_result"
    }
   ],
   "source": [
    "data_original"
   ]
  },
  {
   "cell_type": "code",
   "execution_count": 12,
   "metadata": {},
   "outputs": [
    {
     "name": "stdout",
     "output_type": "stream",
     "text": [
      "160967\n"
     ]
    }
   ],
   "source": [
    "print(len(data_premade))"
   ]
  },
  {
   "cell_type": "code",
   "execution_count": 13,
   "metadata": {},
   "outputs": [],
   "source": [
    "from scipy.spatial import KDTree\n",
    "# Precompute KDTree for each control file\n",
    "control_trees = []\n",
    "for index, control_file in controls.iterrows():\n",
    "    control_data = np.column_stack((control_file[\"X\"], control_file[\"y\"]))\n",
    "    control_trees.append(KDTree(control_data))"
   ]
  },
  {
   "cell_type": "code",
   "execution_count": 17,
   "metadata": {},
   "outputs": [
    {
     "name": "stderr",
     "output_type": "stream",
     "text": [
      "100%|██████████| 160967/160967 [04:30<00:00, 594.15it/s]\n"
     ]
    }
   ],
   "source": [
    "from scipy.spatial import KDTree\n",
    "from tqdm import tqdm\n",
    "import numpy as np\n",
    "\n",
    "org_mse = []\n",
    "mean_square_errors = []\n",
    "translated = {\"X\":[], \"y\":[]}\n",
    "\n",
    "for _, row in tqdm(data_premade.iterrows(), total=len(data_premade)):  # Include progress bar\n",
    "    data_find = data_original.loc[row['index']]\n",
    "    points = np.column_stack((data_find[\"X\"], data_find[\"y\"]))\n",
    "    min_mse = float(\"inf\")\n",
    "    min_close_seg = 0 # This is the cloest segment\n",
    "    for tree in control_trees:\n",
    "        distances, indices = tree.query(points)\n",
    "        closest_segments = np.array([tree.data[idx] for idx in indices])\n",
    "        \n",
    "        mse = np.sum((closest_segments - points) ** 2)\n",
    "        if mse < min_mse:\n",
    "            min_mse = mse\n",
    "            min_close_seg = closest_segments\n",
    "    \n",
    "    offset_x = min_close_seg[:, 0] - points[:, 0]\n",
    "    offset_y = min_close_seg[:, 1] - points[:, 1]\n",
    "\n",
    "    # Calculate the average offset for X and Y directions\n",
    "    avg_offset_x = np.mean(offset_x)\n",
    "    avg_offset_y = np.mean(offset_y)\n",
    "\n",
    "    # Apply the translations to the orange line\n",
    "    orange_line_x_translated = min_close_seg[:, 0] - avg_offset_x\n",
    "    orange_line_y_translated = min_close_seg[:, 1] - avg_offset_y\n",
    "    translated[\"X\"].append(orange_line_x_translated)\n",
    "    translated[\"y\"].append(orange_line_y_translated)\n",
    "\n",
    "    temp = np.column_stack((orange_line_x_translated, orange_line_y_translated))\n",
    "    mse = np.sum((temp - points) ** 2)\n",
    "    mean_square_errors.append(mse)\n",
    "    org_mse.append(min_mse)\n",
    "    \n",
    "\n"
   ]
  },
  {
   "cell_type": "code",
   "execution_count": 18,
   "metadata": {},
   "outputs": [],
   "source": [
    "translated = pd.DataFrame(translated)"
   ]
  },
  {
   "cell_type": "code",
   "execution_count": 19,
   "metadata": {},
   "outputs": [],
   "source": [
    "def reject_outliers(data, m=4.):\n",
    "    ranged = range(0,len(data))\n",
    "    data = np.asarray(data)  # Ensure input is a NumPy array\n",
    "    d = np.abs(data - np.median(data))  # Deviation from the median\n",
    "    mdev = np.median(d)  # Median of the deviations\n",
    "    if mdev == 0:  # Handle case where mdev is zero\n",
    "        return data\n",
    "    s = d / mdev\n",
    "    ranged = np.where(s<m)[0]\n",
    "    return data[s < m], ranged "
   ]
  },
  {
   "cell_type": "code",
   "execution_count": 20,
   "metadata": {},
   "outputs": [],
   "source": [
    "data_no_outliers, ranged = reject_outliers(mean_square_errors)"
   ]
  },
  {
   "cell_type": "code",
   "execution_count": 21,
   "metadata": {},
   "outputs": [],
   "source": [
    "import pickle\n",
    "data = {'translated': translated, 'ranged': ranged}\n",
    "# Save the data to a PKL file\n",
    "with open('data/smooth_translated.pkl', 'wb') as file:\n",
    "    pickle.dump(data, file)"
   ]
  },
  {
   "cell_type": "markdown",
   "metadata": {},
   "source": [
    "# Getting Angle + Normalize???"
   ]
  },
  {
   "cell_type": "code",
   "execution_count": 27,
   "metadata": {},
   "outputs": [],
   "source": [
    "import pickle\n",
    "with open('data/smooth_translated.pkl', 'rb') as file:\n",
    "    loaded_data = pickle.load(file)\n",
    "translated = loaded_data['translated']\n",
    "ranged = loaded_data['ranged']"
   ]
  },
  {
   "cell_type": "code",
   "execution_count": 28,
   "metadata": {},
   "outputs": [],
   "source": [
    "\n",
    "def get_subset(premade, compiled, indexes): \n",
    "    #  format ([Xi, X2. . . Xf], [yi, y2, . . . yf])\n",
    "    subset = []\n",
    "    for _ in tqdm(indexes): # was len(X)\n",
    "        row = premade.iloc[_]\n",
    "        compiled_row = compiled.iloc[_]\n",
    "\n",
    "        angle = row[\"angle\"] # Replace with my angle \n",
    "        theta = np.radians(angle)  # Convert the angle to radians\n",
    "        rotation_matrix = np.array([[np.cos(theta), -np.sin(theta)], \n",
    "                                    [np.sin(theta), np.cos(theta)]])\n",
    "        \n",
    "        combined_array = np.column_stack((data_find[\"X\"], data_find[\"y\"]))\n",
    "\n",
    "        rotated = np.dot(combined_array, rotation_matrix)\n",
    "        shape = 50\n",
    "        X_all = combined_array[:, 0 ] # This is for X data and x coordinate value\n",
    "        Y_all = combined_array[:, 1 ]\n",
    "        subset.append((row[\"Filename\"], _, angle, X_all, Y_all, shape))\n",
    "    return subset\n"
   ]
  },
  {
   "cell_type": "code",
   "execution_count": 30,
   "metadata": {},
   "outputs": [
    {
     "name": "stderr",
     "output_type": "stream",
     "text": [
      "100%|██████████| 131358/131358 [00:14<00:00, 8850.08it/s] \n"
     ]
    }
   ],
   "source": [
    "subset = get_subset(data_original, translated, ranged)"
   ]
  },
  {
   "cell_type": "code",
   "execution_count": 32,
   "metadata": {},
   "outputs": [],
   "source": [
    "df = pd.DataFrame(subset, columns=['Filename', 'index', 'angle', 'X', 'y', 'length']) \n",
    "df.to_pickle(\"data/control_original.pkl\") # original = with the angles, premade = "
   ]
  },
  {
   "cell_type": "code",
   "execution_count": 37,
   "metadata": {},
   "outputs": [],
   "source": [
    "import tqdm"
   ]
  },
  {
   "cell_type": "code",
   "execution_count": 38,
   "metadata": {},
   "outputs": [],
   "source": [
    "import random\n",
    "def save_data_mean_std(arr, filename):\n",
    "    normalized_data = []\n",
    "    for inner in tqdm.tqdm(arr):\n",
    "        mean = np.mean(inner)\n",
    "        std = np.std(inner)\n",
    "        normalized_arr = (inner - mean) / std\n",
    "        if not np.isnan(normalized_arr[0]): normalized_data.append(normalized_arr)\n",
    "    random.shuffle(normalized_arr)\n",
    "    data = {}\n",
    "    data['train'], data['test'] = normalized_data[:2*len(arr)//3], normalized_data[2*len(arr)//3:]\n",
    "    import pickle as pkl\n",
    "    with open(filename, 'wb') as file:\n",
    "        pkl.dump(data, file)"
   ]
  },
  {
   "cell_type": "code",
   "execution_count": 39,
   "metadata": {},
   "outputs": [],
   "source": [
    "import pickle as pkl\n",
    "def save_data_mean_std_all(arrX, arrY, filename):\n",
    "    normalized_data = {'X':[], 'y':[]}\n",
    "    df = pd.DataFrame()\n",
    "    for i in tqdm.tqdm(range(len(arrX))):\n",
    "        innerX = arrX[i]\n",
    "        innerY = arrY[i]\n",
    "        meanX = np.mean(innerX)\n",
    "        stdX = np.std(innerX)\n",
    "        meanY = np.mean(innerY)\n",
    "        stdY = np.std(innerY)\n",
    "        normalized_arr_X = (innerX - meanX) / stdX\n",
    "        normalized_arr_y = (innerY - meanY) / stdY\n",
    "\n",
    "        if not np.isnan(normalized_arr_X[0]) and not np.isnan(normalized_arr_y[0]): \n",
    "            normalized_data['X'].append(normalized_arr_X)\n",
    "            normalized_data['y'].append(normalized_arr_y)\n",
    "    data = pd.DataFrame(normalized_data)\n",
    "    data.to_pickle(filename)\n",
    "    return data\n",
    "    "
   ]
  },
  {
   "cell_type": "code",
   "execution_count": 40,
   "metadata": {},
   "outputs": [
    {
     "name": "stderr",
     "output_type": "stream",
     "text": [
      "100%|██████████| 131358/131358 [00:03<00:00, 36339.55it/s]\n",
      "100%|██████████| 131358/131358 [00:03<00:00, 37857.41it/s]\n"
     ]
    }
   ],
   "source": [
    "arr = list(df['X'].copy())\n",
    "save_data_mean_std(arr, 'data/premade_data_X.pkl')\n",
    "arr = list(df['y'].copy())\n",
    "save_data_mean_std(arr, 'data/premade_data_y.pkl')"
   ]
  },
  {
   "cell_type": "code",
   "execution_count": 41,
   "metadata": {},
   "outputs": [
    {
     "name": "stderr",
     "output_type": "stream",
     "text": [
      "100%|██████████| 131358/131358 [00:07<00:00, 18752.21it/s]\n"
     ]
    },
    {
     "data": {
      "text/html": [
       "<div>\n",
       "<style scoped>\n",
       "    .dataframe tbody tr th:only-of-type {\n",
       "        vertical-align: middle;\n",
       "    }\n",
       "\n",
       "    .dataframe tbody tr th {\n",
       "        vertical-align: top;\n",
       "    }\n",
       "\n",
       "    .dataframe thead th {\n",
       "        text-align: right;\n",
       "    }\n",
       "</style>\n",
       "<table border=\"1\" class=\"dataframe\">\n",
       "  <thead>\n",
       "    <tr style=\"text-align: right;\">\n",
       "      <th></th>\n",
       "      <th>X</th>\n",
       "      <th>y</th>\n",
       "    </tr>\n",
       "  </thead>\n",
       "  <tbody>\n",
       "    <tr>\n",
       "      <th>0</th>\n",
       "      <td>[-2.1832400154313, -2.1832400154313, -2.183240...</td>\n",
       "      <td>[1.6905537182423982, 1.6905537182423982, 1.552...</td>\n",
       "    </tr>\n",
       "    <tr>\n",
       "      <th>1</th>\n",
       "      <td>[-2.1832400154313, -2.1832400154313, -2.183240...</td>\n",
       "      <td>[1.6905537182423982, 1.6905537182423982, 1.552...</td>\n",
       "    </tr>\n",
       "    <tr>\n",
       "      <th>2</th>\n",
       "      <td>[-2.1832400154313, -2.1832400154313, -2.183240...</td>\n",
       "      <td>[1.6905537182423982, 1.6905537182423982, 1.552...</td>\n",
       "    </tr>\n",
       "    <tr>\n",
       "      <th>3</th>\n",
       "      <td>[-2.1832400154313, -2.1832400154313, -2.183240...</td>\n",
       "      <td>[1.6905537182423982, 1.6905537182423982, 1.552...</td>\n",
       "    </tr>\n",
       "    <tr>\n",
       "      <th>4</th>\n",
       "      <td>[-2.1832400154313, -2.1832400154313, -2.183240...</td>\n",
       "      <td>[1.6905537182423982, 1.6905537182423982, 1.552...</td>\n",
       "    </tr>\n",
       "    <tr>\n",
       "      <th>...</th>\n",
       "      <td>...</td>\n",
       "      <td>...</td>\n",
       "    </tr>\n",
       "    <tr>\n",
       "      <th>131353</th>\n",
       "      <td>[-2.1832400154313, -2.1832400154313, -2.183240...</td>\n",
       "      <td>[1.6905537182423982, 1.6905537182423982, 1.552...</td>\n",
       "    </tr>\n",
       "    <tr>\n",
       "      <th>131354</th>\n",
       "      <td>[-2.1832400154313, -2.1832400154313, -2.183240...</td>\n",
       "      <td>[1.6905537182423982, 1.6905537182423982, 1.552...</td>\n",
       "    </tr>\n",
       "    <tr>\n",
       "      <th>131355</th>\n",
       "      <td>[-2.1832400154313, -2.1832400154313, -2.183240...</td>\n",
       "      <td>[1.6905537182423982, 1.6905537182423982, 1.552...</td>\n",
       "    </tr>\n",
       "    <tr>\n",
       "      <th>131356</th>\n",
       "      <td>[-2.1832400154313, -2.1832400154313, -2.183240...</td>\n",
       "      <td>[1.6905537182423982, 1.6905537182423982, 1.552...</td>\n",
       "    </tr>\n",
       "    <tr>\n",
       "      <th>131357</th>\n",
       "      <td>[-2.1832400154313, -2.1832400154313, -2.183240...</td>\n",
       "      <td>[1.6905537182423982, 1.6905537182423982, 1.552...</td>\n",
       "    </tr>\n",
       "  </tbody>\n",
       "</table>\n",
       "<p>131358 rows × 2 columns</p>\n",
       "</div>"
      ],
      "text/plain": [
       "                                                        X  \\\n",
       "0       [-2.1832400154313, -2.1832400154313, -2.183240...   \n",
       "1       [-2.1832400154313, -2.1832400154313, -2.183240...   \n",
       "2       [-2.1832400154313, -2.1832400154313, -2.183240...   \n",
       "3       [-2.1832400154313, -2.1832400154313, -2.183240...   \n",
       "4       [-2.1832400154313, -2.1832400154313, -2.183240...   \n",
       "...                                                   ...   \n",
       "131353  [-2.1832400154313, -2.1832400154313, -2.183240...   \n",
       "131354  [-2.1832400154313, -2.1832400154313, -2.183240...   \n",
       "131355  [-2.1832400154313, -2.1832400154313, -2.183240...   \n",
       "131356  [-2.1832400154313, -2.1832400154313, -2.183240...   \n",
       "131357  [-2.1832400154313, -2.1832400154313, -2.183240...   \n",
       "\n",
       "                                                        y  \n",
       "0       [1.6905537182423982, 1.6905537182423982, 1.552...  \n",
       "1       [1.6905537182423982, 1.6905537182423982, 1.552...  \n",
       "2       [1.6905537182423982, 1.6905537182423982, 1.552...  \n",
       "3       [1.6905537182423982, 1.6905537182423982, 1.552...  \n",
       "4       [1.6905537182423982, 1.6905537182423982, 1.552...  \n",
       "...                                                   ...  \n",
       "131353  [1.6905537182423982, 1.6905537182423982, 1.552...  \n",
       "131354  [1.6905537182423982, 1.6905537182423982, 1.552...  \n",
       "131355  [1.6905537182423982, 1.6905537182423982, 1.552...  \n",
       "131356  [1.6905537182423982, 1.6905537182423982, 1.552...  \n",
       "131357  [1.6905537182423982, 1.6905537182423982, 1.552...  \n",
       "\n",
       "[131358 rows x 2 columns]"
      ]
     },
     "execution_count": 41,
     "metadata": {},
     "output_type": "execute_result"
    }
   ],
   "source": [
    "arrX = list(df['X'].copy())\n",
    "arrY = list(df['y'].copy())\n",
    "save_data_mean_std_all(arrX, arrY, 'data/premade_data_all.pkl')"
   ]
  },
  {
   "cell_type": "markdown",
   "metadata": {},
   "source": [
    "# Model"
   ]
  },
  {
   "cell_type": "code",
   "execution_count": 3,
   "metadata": {},
   "outputs": [],
   "source": [
    "import pandas as pd\n",
    "import numpy as np\n",
    "import tqdm as tqdm\n",
    "parkinson = pd.read_pickle(\"data/control_original.pkl\")\n",
    "control = pd.read_pickle(\"data/premade_data_all.pkl\")"
   ]
  },
  {
   "cell_type": "code",
   "execution_count": 4,
   "metadata": {},
   "outputs": [],
   "source": [
    "control_X = np.array(control['X'])\n",
    "control_y = np.array(control['y'])\n",
    "parkinson_X = np.array(parkinson['X'])\n",
    "parkinson_y = np.array(parkinson['y'])"
   ]
  },
  {
   "cell_type": "code",
   "execution_count": 5,
   "metadata": {},
   "outputs": [
    {
     "name": "stderr",
     "output_type": "stream",
     "text": [
      "100%|██████████| 131358/131358 [00:00<00:00, 264008.12it/s]\n"
     ]
    }
   ],
   "source": [
    "X = []\n",
    "for i in tqdm.tqdm(range(len(control_X))):\n",
    "    exp = np.column_stack((control_X[i], control_y[i]))\n",
    "    X.append(exp)"
   ]
  },
  {
   "cell_type": "code",
   "execution_count": 6,
   "metadata": {},
   "outputs": [
    {
     "name": "stderr",
     "output_type": "stream",
     "text": [
      "  0%|          | 0/131358 [00:00<?, ?it/s]"
     ]
    },
    {
     "name": "stderr",
     "output_type": "stream",
     "text": [
      "100%|██████████| 131358/131358 [00:00<00:00, 259967.63it/s]\n"
     ]
    }
   ],
   "source": [
    "y = []\n",
    "for i in tqdm.tqdm(range(len(parkinson_X))):\n",
    "    exp = np.column_stack((parkinson_X[i], parkinson_y[i]))\n",
    "    y.append(exp)"
   ]
  },
  {
   "cell_type": "code",
   "execution_count": 8,
   "metadata": {},
   "outputs": [],
   "source": [
    "\n",
    "from sklearn.model_selection import train_test_split\n",
    "X_train, X_test, y_train, y_test = train_test_split(\n",
    "    X, y, test_size=0.33, random_state=42)"
   ]
  },
  {
   "cell_type": "code",
   "execution_count": 9,
   "metadata": {},
   "outputs": [
    {
     "data": {
      "text/plain": [
       "(50, 2)"
      ]
     },
     "execution_count": 9,
     "metadata": {},
     "output_type": "execute_result"
    }
   ],
   "source": [
    "X[0].shape"
   ]
  },
  {
   "cell_type": "code",
   "execution_count": 11,
   "metadata": {},
   "outputs": [],
   "source": [
    "import tensorflow as tf\n",
    "\n",
    "model = tf.keras.Sequential([\n",
    "    tf.keras.layers.Input(shape=(X[0].shape[1],)),  # Input layer (size matches the number of points in the orange line)\n",
    "    tf.keras.layers.Dense(64, activation='relu'),  # Hidden layer\n",
    "    tf.keras.layers.Dense(64, activation='relu'),  # Hidden layer\n",
    "    tf.keras.layers.Dense(X[0].shape[1])  # Output layer (same size as the input to predict the blue line)\n",
    "])\n",
    "\n",
    "# Compile the model\n",
    "model.compile(optimizer='adam', loss='mse', metrics=['mae'])"
   ]
  },
  {
   "cell_type": "code",
   "execution_count": 12,
   "metadata": {},
   "outputs": [
    {
     "name": "stdout",
     "output_type": "stream",
     "text": [
      "Epoch 1/50\n"
     ]
    },
    {
     "ename": "KeyboardInterrupt",
     "evalue": "",
     "output_type": "error",
     "traceback": [
      "\u001b[1;31m---------------------------------------------------------------------------\u001b[0m",
      "\u001b[1;31mKeyboardInterrupt\u001b[0m                         Traceback (most recent call last)",
      "Cell \u001b[1;32mIn[12], line 2\u001b[0m\n\u001b[0;32m      1\u001b[0m \u001b[38;5;66;03m# Train the model\u001b[39;00m\n\u001b[1;32m----> 2\u001b[0m history \u001b[38;5;241m=\u001b[39m \u001b[43mmodel\u001b[49m\u001b[38;5;241;43m.\u001b[39;49m\u001b[43mfit\u001b[49m\u001b[43m(\u001b[49m\u001b[43mX_train\u001b[49m\u001b[43m,\u001b[49m\u001b[43m \u001b[49m\u001b[43my_train\u001b[49m\u001b[43m,\u001b[49m\u001b[43m \u001b[49m\u001b[43mepochs\u001b[49m\u001b[38;5;241;43m=\u001b[39;49m\u001b[38;5;241;43m50\u001b[39;49m\u001b[43m,\u001b[49m\u001b[43m \u001b[49m\u001b[43mbatch_size\u001b[49m\u001b[38;5;241;43m=\u001b[39;49m\u001b[38;5;241;43m32\u001b[39;49m\u001b[43m,\u001b[49m\u001b[43m \u001b[49m\u001b[43mvalidation_split\u001b[49m\u001b[38;5;241;43m=\u001b[39;49m\u001b[38;5;241;43m0.2\u001b[39;49m\u001b[43m,\u001b[49m\u001b[43m \u001b[49m\u001b[43mverbose\u001b[49m\u001b[38;5;241;43m=\u001b[39;49m\u001b[38;5;241;43m2\u001b[39;49m\u001b[43m)\u001b[49m\n",
      "File \u001b[1;32mc:\\Users\\leahz\\anaconda3\\envs\\AIR\\Lib\\site-packages\\keras\\src\\utils\\traceback_utils.py:117\u001b[0m, in \u001b[0;36mfilter_traceback.<locals>.error_handler\u001b[1;34m(*args, **kwargs)\u001b[0m\n\u001b[0;32m    115\u001b[0m filtered_tb \u001b[38;5;241m=\u001b[39m \u001b[38;5;28;01mNone\u001b[39;00m\n\u001b[0;32m    116\u001b[0m \u001b[38;5;28;01mtry\u001b[39;00m:\n\u001b[1;32m--> 117\u001b[0m     \u001b[38;5;28;01mreturn\u001b[39;00m \u001b[43mfn\u001b[49m\u001b[43m(\u001b[49m\u001b[38;5;241;43m*\u001b[39;49m\u001b[43margs\u001b[49m\u001b[43m,\u001b[49m\u001b[43m \u001b[49m\u001b[38;5;241;43m*\u001b[39;49m\u001b[38;5;241;43m*\u001b[39;49m\u001b[43mkwargs\u001b[49m\u001b[43m)\u001b[49m\n\u001b[0;32m    118\u001b[0m \u001b[38;5;28;01mexcept\u001b[39;00m \u001b[38;5;167;01mException\u001b[39;00m \u001b[38;5;28;01mas\u001b[39;00m e:\n\u001b[0;32m    119\u001b[0m     filtered_tb \u001b[38;5;241m=\u001b[39m _process_traceback_frames(e\u001b[38;5;241m.\u001b[39m__traceback__)\n",
      "File \u001b[1;32mc:\\Users\\leahz\\anaconda3\\envs\\AIR\\Lib\\site-packages\\keras\\src\\backend\\tensorflow\\trainer.py:369\u001b[0m, in \u001b[0;36mTensorFlowTrainer.fit\u001b[1;34m(self, x, y, batch_size, epochs, verbose, callbacks, validation_split, validation_data, shuffle, class_weight, sample_weight, initial_epoch, steps_per_epoch, validation_steps, validation_batch_size, validation_freq)\u001b[0m\n\u001b[0;32m    367\u001b[0m callbacks\u001b[38;5;241m.\u001b[39mon_epoch_begin(epoch)\n\u001b[0;32m    368\u001b[0m \u001b[38;5;28;01mwith\u001b[39;00m epoch_iterator\u001b[38;5;241m.\u001b[39mcatch_stop_iteration():\n\u001b[1;32m--> 369\u001b[0m \u001b[43m    \u001b[49m\u001b[38;5;28;43;01mfor\u001b[39;49;00m\u001b[43m \u001b[49m\u001b[43mstep\u001b[49m\u001b[43m,\u001b[49m\u001b[43m \u001b[49m\u001b[43miterator\u001b[49m\u001b[43m \u001b[49m\u001b[38;5;129;43;01min\u001b[39;49;00m\u001b[43m \u001b[49m\u001b[43mepoch_iterator\u001b[49m\u001b[43m:\u001b[49m\n\u001b[0;32m    370\u001b[0m \u001b[43m        \u001b[49m\u001b[43mcallbacks\u001b[49m\u001b[38;5;241;43m.\u001b[39;49m\u001b[43mon_train_batch_begin\u001b[49m\u001b[43m(\u001b[49m\u001b[43mstep\u001b[49m\u001b[43m)\u001b[49m\n\u001b[0;32m    371\u001b[0m \u001b[43m        \u001b[49m\u001b[43mlogs\u001b[49m\u001b[43m \u001b[49m\u001b[38;5;241;43m=\u001b[39;49m\u001b[43m \u001b[49m\u001b[38;5;28;43mself\u001b[39;49m\u001b[38;5;241;43m.\u001b[39;49m\u001b[43mtrain_function\u001b[49m\u001b[43m(\u001b[49m\u001b[43miterator\u001b[49m\u001b[43m)\u001b[49m\n",
      "File \u001b[1;32mc:\\Users\\leahz\\anaconda3\\envs\\AIR\\Lib\\site-packages\\keras\\src\\backend\\tensorflow\\trainer.py:736\u001b[0m, in \u001b[0;36mTFEpochIterator.__next__\u001b[1;34m(self)\u001b[0m\n\u001b[0;32m    735\u001b[0m \u001b[38;5;28;01mdef\u001b[39;00m\u001b[38;5;250m \u001b[39m\u001b[38;5;21m__next__\u001b[39m(\u001b[38;5;28mself\u001b[39m):\n\u001b[1;32m--> 736\u001b[0m     \u001b[38;5;28;01mreturn\u001b[39;00m \u001b[38;5;28;43mnext\u001b[39;49m\u001b[43m(\u001b[49m\u001b[38;5;28;43mself\u001b[39;49m\u001b[38;5;241;43m.\u001b[39;49m\u001b[43m_epoch_iterator\u001b[49m\u001b[43m)\u001b[49m\n",
      "File \u001b[1;32mc:\\Users\\leahz\\anaconda3\\envs\\AIR\\Lib\\site-packages\\keras\\src\\trainers\\epoch_iterator.py:102\u001b[0m, in \u001b[0;36mEpochIterator._enumerate_iterator\u001b[1;34m(self)\u001b[0m\n\u001b[0;32m    100\u001b[0m \u001b[38;5;28;01mif\u001b[39;00m steps_per_epoch \u001b[38;5;241m>\u001b[39m \u001b[38;5;241m0\u001b[39m:\n\u001b[0;32m    101\u001b[0m     \u001b[38;5;28;01mif\u001b[39;00m \u001b[38;5;28mself\u001b[39m\u001b[38;5;241m.\u001b[39m_current_iterator \u001b[38;5;129;01mis\u001b[39;00m \u001b[38;5;28;01mNone\u001b[39;00m \u001b[38;5;129;01mor\u001b[39;00m \u001b[38;5;28mself\u001b[39m\u001b[38;5;241m.\u001b[39msteps_per_epoch \u001b[38;5;129;01mis\u001b[39;00m \u001b[38;5;28;01mNone\u001b[39;00m:\n\u001b[1;32m--> 102\u001b[0m         \u001b[38;5;28mself\u001b[39m\u001b[38;5;241m.\u001b[39m_current_iterator \u001b[38;5;241m=\u001b[39m \u001b[38;5;28;43miter\u001b[39;49m\u001b[43m(\u001b[49m\u001b[38;5;28;43mself\u001b[39;49m\u001b[38;5;241;43m.\u001b[39;49m\u001b[43m_get_iterator\u001b[49m\u001b[43m(\u001b[49m\u001b[43m)\u001b[49m\u001b[43m)\u001b[49m\n\u001b[0;32m    103\u001b[0m         \u001b[38;5;28mself\u001b[39m\u001b[38;5;241m.\u001b[39m_steps_seen \u001b[38;5;241m=\u001b[39m \u001b[38;5;241m0\u001b[39m\n\u001b[0;32m    104\u001b[0m     \u001b[38;5;28;01mfor\u001b[39;00m step \u001b[38;5;129;01min\u001b[39;00m \u001b[38;5;28mrange\u001b[39m(\u001b[38;5;241m0\u001b[39m, steps_per_epoch, \u001b[38;5;28mself\u001b[39m\u001b[38;5;241m.\u001b[39msteps_per_execution):\n",
      "File \u001b[1;32mc:\\Users\\leahz\\anaconda3\\envs\\AIR\\Lib\\site-packages\\tensorflow\\python\\data\\ops\\dataset_ops.py:501\u001b[0m, in \u001b[0;36mDatasetV2.__iter__\u001b[1;34m(self)\u001b[0m\n\u001b[0;32m    499\u001b[0m \u001b[38;5;28;01mif\u001b[39;00m context\u001b[38;5;241m.\u001b[39mexecuting_eagerly() \u001b[38;5;129;01mor\u001b[39;00m ops\u001b[38;5;241m.\u001b[39minside_function():\n\u001b[0;32m    500\u001b[0m   \u001b[38;5;28;01mwith\u001b[39;00m ops\u001b[38;5;241m.\u001b[39mcolocate_with(\u001b[38;5;28mself\u001b[39m\u001b[38;5;241m.\u001b[39m_variant_tensor):\n\u001b[1;32m--> 501\u001b[0m     \u001b[38;5;28;01mreturn\u001b[39;00m \u001b[43miterator_ops\u001b[49m\u001b[38;5;241;43m.\u001b[39;49m\u001b[43mOwnedIterator\u001b[49m\u001b[43m(\u001b[49m\u001b[38;5;28;43mself\u001b[39;49m\u001b[43m)\u001b[49m\n\u001b[0;32m    502\u001b[0m \u001b[38;5;28;01melse\u001b[39;00m:\n\u001b[0;32m    503\u001b[0m   \u001b[38;5;28;01mraise\u001b[39;00m \u001b[38;5;167;01mRuntimeError\u001b[39;00m(\u001b[38;5;124m\"\u001b[39m\u001b[38;5;124m`tf.data.Dataset` only supports Python-style \u001b[39m\u001b[38;5;124m\"\u001b[39m\n\u001b[0;32m    504\u001b[0m                      \u001b[38;5;124m\"\u001b[39m\u001b[38;5;124miteration in eager mode or within tf.function.\u001b[39m\u001b[38;5;124m\"\u001b[39m)\n",
      "File \u001b[1;32mc:\\Users\\leahz\\anaconda3\\envs\\AIR\\Lib\\site-packages\\tensorflow\\python\\data\\ops\\iterator_ops.py:709\u001b[0m, in \u001b[0;36mOwnedIterator.__init__\u001b[1;34m(self, dataset, components, element_spec)\u001b[0m\n\u001b[0;32m    705\u001b[0m   \u001b[38;5;28;01mif\u001b[39;00m (components \u001b[38;5;129;01mis\u001b[39;00m \u001b[38;5;129;01mnot\u001b[39;00m \u001b[38;5;28;01mNone\u001b[39;00m \u001b[38;5;129;01mor\u001b[39;00m element_spec \u001b[38;5;129;01mis\u001b[39;00m \u001b[38;5;129;01mnot\u001b[39;00m \u001b[38;5;28;01mNone\u001b[39;00m):\n\u001b[0;32m    706\u001b[0m     \u001b[38;5;28;01mraise\u001b[39;00m \u001b[38;5;167;01mValueError\u001b[39;00m(\n\u001b[0;32m    707\u001b[0m         \u001b[38;5;124m\"\u001b[39m\u001b[38;5;124mWhen `dataset` is provided, `element_spec` and `components` must \u001b[39m\u001b[38;5;124m\"\u001b[39m\n\u001b[0;32m    708\u001b[0m         \u001b[38;5;124m\"\u001b[39m\u001b[38;5;124mnot be specified.\u001b[39m\u001b[38;5;124m\"\u001b[39m)\n\u001b[1;32m--> 709\u001b[0m   \u001b[38;5;28;43mself\u001b[39;49m\u001b[38;5;241;43m.\u001b[39;49m\u001b[43m_create_iterator\u001b[49m\u001b[43m(\u001b[49m\u001b[43mdataset\u001b[49m\u001b[43m)\u001b[49m\n\u001b[0;32m    711\u001b[0m \u001b[38;5;28mself\u001b[39m\u001b[38;5;241m.\u001b[39m_get_next_call_count \u001b[38;5;241m=\u001b[39m \u001b[38;5;241m0\u001b[39m\n",
      "File \u001b[1;32mc:\\Users\\leahz\\anaconda3\\envs\\AIR\\Lib\\site-packages\\tensorflow\\python\\data\\ops\\iterator_ops.py:748\u001b[0m, in \u001b[0;36mOwnedIterator._create_iterator\u001b[1;34m(self, dataset)\u001b[0m\n\u001b[0;32m    745\u001b[0m   \u001b[38;5;28;01massert\u001b[39;00m \u001b[38;5;28mlen\u001b[39m(fulltype\u001b[38;5;241m.\u001b[39margs[\u001b[38;5;241m0\u001b[39m]\u001b[38;5;241m.\u001b[39margs[\u001b[38;5;241m0\u001b[39m]\u001b[38;5;241m.\u001b[39margs) \u001b[38;5;241m==\u001b[39m \u001b[38;5;28mlen\u001b[39m(\n\u001b[0;32m    746\u001b[0m       \u001b[38;5;28mself\u001b[39m\u001b[38;5;241m.\u001b[39m_flat_output_types)\n\u001b[0;32m    747\u001b[0m   \u001b[38;5;28mself\u001b[39m\u001b[38;5;241m.\u001b[39m_iterator_resource\u001b[38;5;241m.\u001b[39mop\u001b[38;5;241m.\u001b[39mexperimental_set_type(fulltype)\n\u001b[1;32m--> 748\u001b[0m \u001b[43mgen_dataset_ops\u001b[49m\u001b[38;5;241;43m.\u001b[39;49m\u001b[43mmake_iterator\u001b[49m\u001b[43m(\u001b[49m\u001b[43mds_variant\u001b[49m\u001b[43m,\u001b[49m\u001b[43m \u001b[49m\u001b[38;5;28;43mself\u001b[39;49m\u001b[38;5;241;43m.\u001b[39;49m\u001b[43m_iterator_resource\u001b[49m\u001b[43m)\u001b[49m\n",
      "File \u001b[1;32mc:\\Users\\leahz\\anaconda3\\envs\\AIR\\Lib\\site-packages\\tensorflow\\python\\ops\\gen_dataset_ops.py:3509\u001b[0m, in \u001b[0;36mmake_iterator\u001b[1;34m(dataset, iterator, name)\u001b[0m\n\u001b[0;32m   3507\u001b[0m \u001b[38;5;28;01mif\u001b[39;00m tld\u001b[38;5;241m.\u001b[39mis_eager:\n\u001b[0;32m   3508\u001b[0m   \u001b[38;5;28;01mtry\u001b[39;00m:\n\u001b[1;32m-> 3509\u001b[0m     _result \u001b[38;5;241m=\u001b[39m \u001b[43mpywrap_tfe\u001b[49m\u001b[38;5;241;43m.\u001b[39;49m\u001b[43mTFE_Py_FastPathExecute\u001b[49m\u001b[43m(\u001b[49m\n\u001b[0;32m   3510\u001b[0m \u001b[43m      \u001b[49m\u001b[43m_ctx\u001b[49m\u001b[43m,\u001b[49m\u001b[43m \u001b[49m\u001b[38;5;124;43m\"\u001b[39;49m\u001b[38;5;124;43mMakeIterator\u001b[39;49m\u001b[38;5;124;43m\"\u001b[39;49m\u001b[43m,\u001b[49m\u001b[43m \u001b[49m\u001b[43mname\u001b[49m\u001b[43m,\u001b[49m\u001b[43m \u001b[49m\u001b[43mdataset\u001b[49m\u001b[43m,\u001b[49m\u001b[43m \u001b[49m\u001b[43miterator\u001b[49m\u001b[43m)\u001b[49m\n\u001b[0;32m   3511\u001b[0m     \u001b[38;5;28;01mreturn\u001b[39;00m _result\n\u001b[0;32m   3512\u001b[0m   \u001b[38;5;28;01mexcept\u001b[39;00m _core\u001b[38;5;241m.\u001b[39m_NotOkStatusException \u001b[38;5;28;01mas\u001b[39;00m e:\n",
      "\u001b[1;31mKeyboardInterrupt\u001b[0m: "
     ]
    }
   ],
   "source": [
    "# Train the model\n",
    "history = model.fit(X_train, y_train, epochs=50, batch_size=32, validation_split=0.2, verbose=2)"
   ]
  },
  {
   "cell_type": "code",
   "execution_count": null,
   "metadata": {},
   "outputs": [],
   "source": [
    "\n",
    "# Evaluate the model\n",
    "test_loss, test_mae = model.evaluate(X_test, y_test)\n",
    "print(f\"Test Loss: {test_loss}, Test MAE: {test_mae}\")\n",
    "\n",
    "# Make predictions\n",
    "predictions = model.predict(X_test)\n",
    "\n",
    "# Example: Predict the blue line for a new orange line\n",
    "new_orange_line = np.array([-2.1832400154313] * X.shape[1])  # Replace with actual data\n",
    "predicted_blue_line = model.predict(new_orange_line.reshape(1, -1))\n",
    "print(\"Predicted Blue Line:\", predicted_blue_line)"
   ]
  }
 ],
 "metadata": {
  "kernelspec": {
   "display_name": "AIR",
   "language": "python",
   "name": "python3"
  },
  "language_info": {
   "codemirror_mode": {
    "name": "ipython",
    "version": 3
   },
   "file_extension": ".py",
   "mimetype": "text/x-python",
   "name": "python",
   "nbconvert_exporter": "python",
   "pygments_lexer": "ipython3",
   "version": "3.12.8"
  }
 },
 "nbformat": 4,
 "nbformat_minor": 2
}
